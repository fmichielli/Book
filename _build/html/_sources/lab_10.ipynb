{
 "cells": [
  {
   "cell_type": "markdown",
   "metadata": {
    "editable": true,
    "slideshow": {
     "slide_type": ""
    },
    "tags": []
   },
   "source": [
    "# Lab 10\n",
    "\n",
    "_[General notebook information](https://computing-in-context.afeld.me/notebooks.html)_\n",
    "\n",
    "We are going to look at the population count of different community districts over time."
   ]
  },
  {
   "cell_type": "code",
   "execution_count": 1,
   "metadata": {},
   "outputs": [
    {
     "data": {
      "text/html": [
       "<div>\n",
       "<style scoped>\n",
       "    .dataframe tbody tr th:only-of-type {\n",
       "        vertical-align: middle;\n",
       "    }\n",
       "\n",
       "    .dataframe tbody tr th {\n",
       "        vertical-align: top;\n",
       "    }\n",
       "\n",
       "    .dataframe thead th {\n",
       "        text-align: right;\n",
       "    }\n",
       "</style>\n",
       "<table border=\"1\" class=\"dataframe\">\n",
       "  <thead>\n",
       "    <tr style=\"text-align: right;\">\n",
       "      <th></th>\n",
       "      <th>crash_date</th>\n",
       "      <th>crash_time</th>\n",
       "      <th>borough</th>\n",
       "      <th>zip_code</th>\n",
       "      <th>latitude</th>\n",
       "      <th>longitude</th>\n",
       "      <th>location</th>\n",
       "      <th>on_street_name</th>\n",
       "      <th>off_street_name</th>\n",
       "      <th>cross_street_name</th>\n",
       "      <th>...</th>\n",
       "      <th>contributing_factor_vehicle_2</th>\n",
       "      <th>contributing_factor_vehicle_3</th>\n",
       "      <th>contributing_factor_vehicle_4</th>\n",
       "      <th>contributing_factor_vehicle_5</th>\n",
       "      <th>collision_id</th>\n",
       "      <th>vehicle_type_code1</th>\n",
       "      <th>vehicle_type_code2</th>\n",
       "      <th>vehicle_type_code_3</th>\n",
       "      <th>vehicle_type_code_4</th>\n",
       "      <th>vehicle_type_code_5</th>\n",
       "    </tr>\n",
       "  </thead>\n",
       "  <tbody>\n",
       "    <tr>\n",
       "      <th>0</th>\n",
       "      <td>2021-09-11T00:00:00.000</td>\n",
       "      <td>2:39</td>\n",
       "      <td>NaN</td>\n",
       "      <td>NaN</td>\n",
       "      <td>NaN</td>\n",
       "      <td>NaN</td>\n",
       "      <td>NaN</td>\n",
       "      <td>WHITESTONE EXPRESSWAY</td>\n",
       "      <td>20 AVENUE</td>\n",
       "      <td>NaN</td>\n",
       "      <td>...</td>\n",
       "      <td>Unspecified</td>\n",
       "      <td>NaN</td>\n",
       "      <td>NaN</td>\n",
       "      <td>NaN</td>\n",
       "      <td>4455765</td>\n",
       "      <td>Sedan</td>\n",
       "      <td>Sedan</td>\n",
       "      <td>NaN</td>\n",
       "      <td>NaN</td>\n",
       "      <td>NaN</td>\n",
       "    </tr>\n",
       "    <tr>\n",
       "      <th>1</th>\n",
       "      <td>2022-03-26T00:00:00.000</td>\n",
       "      <td>11:45</td>\n",
       "      <td>NaN</td>\n",
       "      <td>NaN</td>\n",
       "      <td>NaN</td>\n",
       "      <td>NaN</td>\n",
       "      <td>NaN</td>\n",
       "      <td>QUEENSBORO BRIDGE UPPER</td>\n",
       "      <td>NaN</td>\n",
       "      <td>NaN</td>\n",
       "      <td>...</td>\n",
       "      <td>NaN</td>\n",
       "      <td>NaN</td>\n",
       "      <td>NaN</td>\n",
       "      <td>NaN</td>\n",
       "      <td>4513547</td>\n",
       "      <td>Sedan</td>\n",
       "      <td>NaN</td>\n",
       "      <td>NaN</td>\n",
       "      <td>NaN</td>\n",
       "      <td>NaN</td>\n",
       "    </tr>\n",
       "    <tr>\n",
       "      <th>2</th>\n",
       "      <td>2022-06-29T00:00:00.000</td>\n",
       "      <td>6:55</td>\n",
       "      <td>NaN</td>\n",
       "      <td>NaN</td>\n",
       "      <td>NaN</td>\n",
       "      <td>NaN</td>\n",
       "      <td>NaN</td>\n",
       "      <td>THROGS NECK BRIDGE</td>\n",
       "      <td>NaN</td>\n",
       "      <td>NaN</td>\n",
       "      <td>...</td>\n",
       "      <td>Unspecified</td>\n",
       "      <td>NaN</td>\n",
       "      <td>NaN</td>\n",
       "      <td>NaN</td>\n",
       "      <td>4541903</td>\n",
       "      <td>Sedan</td>\n",
       "      <td>Pick-up Truck</td>\n",
       "      <td>NaN</td>\n",
       "      <td>NaN</td>\n",
       "      <td>NaN</td>\n",
       "    </tr>\n",
       "    <tr>\n",
       "      <th>3</th>\n",
       "      <td>2021-09-11T00:00:00.000</td>\n",
       "      <td>9:35</td>\n",
       "      <td>BROOKLYN</td>\n",
       "      <td>11208.0</td>\n",
       "      <td>40.667202</td>\n",
       "      <td>-73.866500</td>\n",
       "      <td>\\n,  \\n(40.667202, -73.8665)</td>\n",
       "      <td>NaN</td>\n",
       "      <td>NaN</td>\n",
       "      <td>1211      LORING AVENUE</td>\n",
       "      <td>...</td>\n",
       "      <td>NaN</td>\n",
       "      <td>NaN</td>\n",
       "      <td>NaN</td>\n",
       "      <td>NaN</td>\n",
       "      <td>4456314</td>\n",
       "      <td>Sedan</td>\n",
       "      <td>NaN</td>\n",
       "      <td>NaN</td>\n",
       "      <td>NaN</td>\n",
       "      <td>NaN</td>\n",
       "    </tr>\n",
       "    <tr>\n",
       "      <th>4</th>\n",
       "      <td>2021-12-14T00:00:00.000</td>\n",
       "      <td>8:13</td>\n",
       "      <td>BROOKLYN</td>\n",
       "      <td>11233.0</td>\n",
       "      <td>40.683304</td>\n",
       "      <td>-73.917274</td>\n",
       "      <td>\\n,  \\n(40.683304, -73.917274)</td>\n",
       "      <td>SARATOGA AVENUE</td>\n",
       "      <td>DECATUR STREET</td>\n",
       "      <td>NaN</td>\n",
       "      <td>...</td>\n",
       "      <td>NaN</td>\n",
       "      <td>NaN</td>\n",
       "      <td>NaN</td>\n",
       "      <td>NaN</td>\n",
       "      <td>4486609</td>\n",
       "      <td>NaN</td>\n",
       "      <td>NaN</td>\n",
       "      <td>NaN</td>\n",
       "      <td>NaN</td>\n",
       "      <td>NaN</td>\n",
       "    </tr>\n",
       "  </tbody>\n",
       "</table>\n",
       "<p>5 rows × 29 columns</p>\n",
       "</div>"
      ],
      "text/plain": [
       "                crash_date crash_time   borough  zip_code   latitude  \\\n",
       "0  2021-09-11T00:00:00.000       2:39       NaN       NaN        NaN   \n",
       "1  2022-03-26T00:00:00.000      11:45       NaN       NaN        NaN   \n",
       "2  2022-06-29T00:00:00.000       6:55       NaN       NaN        NaN   \n",
       "3  2021-09-11T00:00:00.000       9:35  BROOKLYN   11208.0  40.667202   \n",
       "4  2021-12-14T00:00:00.000       8:13  BROOKLYN   11233.0  40.683304   \n",
       "\n",
       "   longitude                        location           on_street_name  \\\n",
       "0        NaN                             NaN    WHITESTONE EXPRESSWAY   \n",
       "1        NaN                             NaN  QUEENSBORO BRIDGE UPPER   \n",
       "2        NaN                             NaN       THROGS NECK BRIDGE   \n",
       "3 -73.866500    \\n,  \\n(40.667202, -73.8665)                      NaN   \n",
       "4 -73.917274  \\n,  \\n(40.683304, -73.917274)          SARATOGA AVENUE   \n",
       "\n",
       "  off_street_name        cross_street_name  ...  \\\n",
       "0       20 AVENUE                      NaN  ...   \n",
       "1             NaN                      NaN  ...   \n",
       "2             NaN                      NaN  ...   \n",
       "3             NaN  1211      LORING AVENUE  ...   \n",
       "4  DECATUR STREET                      NaN  ...   \n",
       "\n",
       "   contributing_factor_vehicle_2  contributing_factor_vehicle_3  \\\n",
       "0                    Unspecified                            NaN   \n",
       "1                            NaN                            NaN   \n",
       "2                    Unspecified                            NaN   \n",
       "3                            NaN                            NaN   \n",
       "4                            NaN                            NaN   \n",
       "\n",
       "   contributing_factor_vehicle_4  contributing_factor_vehicle_5  collision_id  \\\n",
       "0                            NaN                            NaN       4455765   \n",
       "1                            NaN                            NaN       4513547   \n",
       "2                            NaN                            NaN       4541903   \n",
       "3                            NaN                            NaN       4456314   \n",
       "4                            NaN                            NaN       4486609   \n",
       "\n",
       "   vehicle_type_code1  vehicle_type_code2  vehicle_type_code_3  \\\n",
       "0               Sedan               Sedan                  NaN   \n",
       "1               Sedan                 NaN                  NaN   \n",
       "2               Sedan       Pick-up Truck                  NaN   \n",
       "3               Sedan                 NaN                  NaN   \n",
       "4                 NaN                 NaN                  NaN   \n",
       "\n",
       "  vehicle_type_code_4 vehicle_type_code_5  \n",
       "0                 NaN                 NaN  \n",
       "1                 NaN                 NaN  \n",
       "2                 NaN                 NaN  \n",
       "3                 NaN                 NaN  \n",
       "4                 NaN                 NaN  \n",
       "\n",
       "[5 rows x 29 columns]"
      ]
     },
     "execution_count": 1,
     "metadata": {},
     "output_type": "execute_result"
    }
   ],
   "source": [
    "import pandas as pd\n",
    "import plotly.express as px\n",
    "\n",
    "url = 'https://data.cityofnewyork.us/resource/h9gi-nx95.csv'\n",
    "crash_data = pd.read_csv(url)\n",
    "crash_data.head()"
   ]
  },
  {
   "cell_type": "code",
   "execution_count": 3,
   "metadata": {},
   "outputs": [
    {
     "name": "stdout",
     "output_type": "stream",
     "text": [
      "Index(['crash_date', 'crash_time', 'borough', 'zip_code', 'latitude',\n",
      "       'longitude', 'location', 'on_street_name', 'off_street_name',\n",
      "       'cross_street_name', 'number_of_persons_injured',\n",
      "       'number_of_persons_killed', 'number_of_pedestrians_injured',\n",
      "       'number_of_pedestrians_killed', 'number_of_cyclist_injured',\n",
      "       'number_of_cyclist_killed', 'number_of_motorist_injured',\n",
      "       'number_of_motorist_killed', 'contributing_factor_vehicle_1',\n",
      "       'contributing_factor_vehicle_2', 'contributing_factor_vehicle_3',\n",
      "       'contributing_factor_vehicle_4', 'contributing_factor_vehicle_5',\n",
      "       'collision_id', 'vehicle_type_code1', 'vehicle_type_code2',\n",
      "       'vehicle_type_code_3', 'vehicle_type_code_4', 'vehicle_type_code_5'],\n",
      "      dtype='object')\n"
     ]
    }
   ],
   "source": [
    "print(crash_data.columns)"
   ]
  },
  {
   "cell_type": "code",
   "execution_count": 5,
   "metadata": {},
   "outputs": [
    {
     "data": {
      "text/html": [
       "<div>\n",
       "<style scoped>\n",
       "    .dataframe tbody tr th:only-of-type {\n",
       "        vertical-align: middle;\n",
       "    }\n",
       "\n",
       "    .dataframe tbody tr th {\n",
       "        vertical-align: top;\n",
       "    }\n",
       "\n",
       "    .dataframe thead th {\n",
       "        text-align: right;\n",
       "    }\n",
       "</style>\n",
       "<table border=\"1\" class=\"dataframe\">\n",
       "  <thead>\n",
       "    <tr style=\"text-align: right;\">\n",
       "      <th></th>\n",
       "      <th>contributing_factor_vehicle_1</th>\n",
       "    </tr>\n",
       "  </thead>\n",
       "  <tbody>\n",
       "    <tr>\n",
       "      <th>0</th>\n",
       "      <td>Aggressive Driving/Road Rage</td>\n",
       "    </tr>\n",
       "    <tr>\n",
       "      <th>1</th>\n",
       "      <td>Pavement Slippery</td>\n",
       "    </tr>\n",
       "    <tr>\n",
       "      <th>2</th>\n",
       "      <td>Following Too Closely</td>\n",
       "    </tr>\n",
       "    <tr>\n",
       "      <th>3</th>\n",
       "      <td>Unspecified</td>\n",
       "    </tr>\n",
       "    <tr>\n",
       "      <th>5</th>\n",
       "      <td>Unspecified</td>\n",
       "    </tr>\n",
       "  </tbody>\n",
       "</table>\n",
       "</div>"
      ],
      "text/plain": [
       "  contributing_factor_vehicle_1\n",
       "0  Aggressive Driving/Road Rage\n",
       "1             Pavement Slippery\n",
       "2         Following Too Closely\n",
       "3                   Unspecified\n",
       "5                   Unspecified"
      ]
     },
     "execution_count": 5,
     "metadata": {},
     "output_type": "execute_result"
    }
   ],
   "source": [
    "cleaned_data = crash_data[[\"contributing_factor_vehicle_1\"]].dropna()\n",
    "cleaned_data.head()"
   ]
  },
  {
   "cell_type": "code",
   "execution_count": 7,
   "metadata": {},
   "outputs": [
    {
     "data": {
      "text/html": [
       "<div>\n",
       "<style scoped>\n",
       "    .dataframe tbody tr th:only-of-type {\n",
       "        vertical-align: middle;\n",
       "    }\n",
       "\n",
       "    .dataframe tbody tr th {\n",
       "        vertical-align: top;\n",
       "    }\n",
       "\n",
       "    .dataframe thead th {\n",
       "        text-align: right;\n",
       "    }\n",
       "</style>\n",
       "<table border=\"1\" class=\"dataframe\">\n",
       "  <thead>\n",
       "    <tr style=\"text-align: right;\">\n",
       "      <th></th>\n",
       "      <th>zip_code</th>\n",
       "      <th>latitude</th>\n",
       "      <th>longitude</th>\n",
       "      <th>number_of_persons_injured</th>\n",
       "      <th>number_of_persons_killed</th>\n",
       "      <th>number_of_pedestrians_injured</th>\n",
       "      <th>number_of_pedestrians_killed</th>\n",
       "      <th>number_of_cyclist_injured</th>\n",
       "      <th>number_of_cyclist_killed</th>\n",
       "      <th>number_of_motorist_injured</th>\n",
       "      <th>number_of_motorist_killed</th>\n",
       "      <th>collision_id</th>\n",
       "    </tr>\n",
       "  </thead>\n",
       "  <tbody>\n",
       "    <tr>\n",
       "      <th>count</th>\n",
       "      <td>632.000000</td>\n",
       "      <td>924.000000</td>\n",
       "      <td>924.000000</td>\n",
       "      <td>1000.000000</td>\n",
       "      <td>1000.000000</td>\n",
       "      <td>1000.000000</td>\n",
       "      <td>1000.000000</td>\n",
       "      <td>1000.000000</td>\n",
       "      <td>1000.0</td>\n",
       "      <td>1000.000000</td>\n",
       "      <td>1000.000000</td>\n",
       "      <td>1.000000e+03</td>\n",
       "    </tr>\n",
       "    <tr>\n",
       "      <th>mean</th>\n",
       "      <td>10907.625000</td>\n",
       "      <td>40.413002</td>\n",
       "      <td>-73.360506</td>\n",
       "      <td>0.454000</td>\n",
       "      <td>0.004000</td>\n",
       "      <td>0.074000</td>\n",
       "      <td>0.003000</td>\n",
       "      <td>0.038000</td>\n",
       "      <td>0.0</td>\n",
       "      <td>0.333000</td>\n",
       "      <td>0.001000</td>\n",
       "      <td>4.440555e+06</td>\n",
       "    </tr>\n",
       "    <tr>\n",
       "      <th>std</th>\n",
       "      <td>516.926995</td>\n",
       "      <td>3.533802</td>\n",
       "      <td>6.413563</td>\n",
       "      <td>0.786449</td>\n",
       "      <td>0.063151</td>\n",
       "      <td>0.265696</td>\n",
       "      <td>0.054717</td>\n",
       "      <td>0.191292</td>\n",
       "      <td>0.0</td>\n",
       "      <td>0.768571</td>\n",
       "      <td>0.031623</td>\n",
       "      <td>4.151893e+04</td>\n",
       "    </tr>\n",
       "    <tr>\n",
       "      <th>min</th>\n",
       "      <td>10001.000000</td>\n",
       "      <td>0.000000</td>\n",
       "      <td>-74.200980</td>\n",
       "      <td>0.000000</td>\n",
       "      <td>0.000000</td>\n",
       "      <td>0.000000</td>\n",
       "      <td>0.000000</td>\n",
       "      <td>0.000000</td>\n",
       "      <td>0.0</td>\n",
       "      <td>0.000000</td>\n",
       "      <td>0.000000</td>\n",
       "      <td>4.136992e+06</td>\n",
       "    </tr>\n",
       "    <tr>\n",
       "      <th>25%</th>\n",
       "      <td>10459.000000</td>\n",
       "      <td>40.660920</td>\n",
       "      <td>-73.966905</td>\n",
       "      <td>0.000000</td>\n",
       "      <td>0.000000</td>\n",
       "      <td>0.000000</td>\n",
       "      <td>0.000000</td>\n",
       "      <td>0.000000</td>\n",
       "      <td>0.0</td>\n",
       "      <td>0.000000</td>\n",
       "      <td>0.000000</td>\n",
       "      <td>4.407764e+06</td>\n",
       "    </tr>\n",
       "    <tr>\n",
       "      <th>50%</th>\n",
       "      <td>11209.000000</td>\n",
       "      <td>40.708324</td>\n",
       "      <td>-73.927270</td>\n",
       "      <td>0.000000</td>\n",
       "      <td>0.000000</td>\n",
       "      <td>0.000000</td>\n",
       "      <td>0.000000</td>\n",
       "      <td>0.000000</td>\n",
       "      <td>0.0</td>\n",
       "      <td>0.000000</td>\n",
       "      <td>0.000000</td>\n",
       "      <td>4.408298e+06</td>\n",
       "    </tr>\n",
       "    <tr>\n",
       "      <th>75%</th>\n",
       "      <td>11236.000000</td>\n",
       "      <td>40.783232</td>\n",
       "      <td>-73.872460</td>\n",
       "      <td>1.000000</td>\n",
       "      <td>0.000000</td>\n",
       "      <td>0.000000</td>\n",
       "      <td>0.000000</td>\n",
       "      <td>0.000000</td>\n",
       "      <td>0.0</td>\n",
       "      <td>0.000000</td>\n",
       "      <td>0.000000</td>\n",
       "      <td>4.456829e+06</td>\n",
       "    </tr>\n",
       "    <tr>\n",
       "      <th>max</th>\n",
       "      <td>11692.000000</td>\n",
       "      <td>40.905174</td>\n",
       "      <td>0.000000</td>\n",
       "      <td>7.000000</td>\n",
       "      <td>1.000000</td>\n",
       "      <td>2.000000</td>\n",
       "      <td>1.000000</td>\n",
       "      <td>1.000000</td>\n",
       "      <td>0.0</td>\n",
       "      <td>7.000000</td>\n",
       "      <td>1.000000</td>\n",
       "      <td>4.545699e+06</td>\n",
       "    </tr>\n",
       "  </tbody>\n",
       "</table>\n",
       "</div>"
      ],
      "text/plain": [
       "           zip_code    latitude   longitude  number_of_persons_injured  \\\n",
       "count    632.000000  924.000000  924.000000                1000.000000   \n",
       "mean   10907.625000   40.413002  -73.360506                   0.454000   \n",
       "std      516.926995    3.533802    6.413563                   0.786449   \n",
       "min    10001.000000    0.000000  -74.200980                   0.000000   \n",
       "25%    10459.000000   40.660920  -73.966905                   0.000000   \n",
       "50%    11209.000000   40.708324  -73.927270                   0.000000   \n",
       "75%    11236.000000   40.783232  -73.872460                   1.000000   \n",
       "max    11692.000000   40.905174    0.000000                   7.000000   \n",
       "\n",
       "       number_of_persons_killed  number_of_pedestrians_injured  \\\n",
       "count               1000.000000                    1000.000000   \n",
       "mean                   0.004000                       0.074000   \n",
       "std                    0.063151                       0.265696   \n",
       "min                    0.000000                       0.000000   \n",
       "25%                    0.000000                       0.000000   \n",
       "50%                    0.000000                       0.000000   \n",
       "75%                    0.000000                       0.000000   \n",
       "max                    1.000000                       2.000000   \n",
       "\n",
       "       number_of_pedestrians_killed  number_of_cyclist_injured  \\\n",
       "count                   1000.000000                1000.000000   \n",
       "mean                       0.003000                   0.038000   \n",
       "std                        0.054717                   0.191292   \n",
       "min                        0.000000                   0.000000   \n",
       "25%                        0.000000                   0.000000   \n",
       "50%                        0.000000                   0.000000   \n",
       "75%                        0.000000                   0.000000   \n",
       "max                        1.000000                   1.000000   \n",
       "\n",
       "       number_of_cyclist_killed  number_of_motorist_injured  \\\n",
       "count                    1000.0                 1000.000000   \n",
       "mean                        0.0                    0.333000   \n",
       "std                         0.0                    0.768571   \n",
       "min                         0.0                    0.000000   \n",
       "25%                         0.0                    0.000000   \n",
       "50%                         0.0                    0.000000   \n",
       "75%                         0.0                    0.000000   \n",
       "max                         0.0                    7.000000   \n",
       "\n",
       "       number_of_motorist_killed  collision_id  \n",
       "count                1000.000000  1.000000e+03  \n",
       "mean                    0.001000  4.440555e+06  \n",
       "std                     0.031623  4.151893e+04  \n",
       "min                     0.000000  4.136992e+06  \n",
       "25%                     0.000000  4.407764e+06  \n",
       "50%                     0.000000  4.408298e+06  \n",
       "75%                     0.000000  4.456829e+06  \n",
       "max                     1.000000  4.545699e+06  "
      ]
     },
     "execution_count": 7,
     "metadata": {},
     "output_type": "execute_result"
    }
   ],
   "source": [
    "crash_data.describe()"
   ]
  },
  {
   "cell_type": "code",
   "execution_count": 17,
   "metadata": {},
   "outputs": [
    {
     "data": {
      "application/vnd.plotly.v1+json": {
       "config": {
        "plotlyServerURL": "https://plot.ly"
       },
       "data": [
        {
         "alignmentgroup": "True",
         "bingroup": "x",
         "hovertemplate": "Contributing Factor=%{x}<br>count=%{y}<extra></extra>",
         "legendgroup": "",
         "marker": {
          "color": "#636efa",
          "pattern": {
           "shape": ""
          }
         },
         "name": "",
         "offsetgroup": "",
         "orientation": "v",
         "showlegend": false,
         "texttemplate": "%{value}",
         "type": "histogram",
         "x": [
          "Aggressive Driving/Road Rage",
          "Pavement Slippery",
          "Following Too Closely",
          "Unspecified",
          "Unspecified",
          "Passing Too Closely",
          "Unspecified",
          "Driver Inexperience",
          "Passing Too Closely",
          "Passing or Lane Usage Improper",
          "Turning Improperly",
          "Unsafe Lane Changing",
          "Unsafe Speed",
          "Reaction to Uninvolved Vehicle",
          "Passing Too Closely",
          "Steering Failure",
          "Traffic Control Disregarded",
          "Unspecified",
          "Following Too Closely",
          "Following Too Closely",
          "Other Vehicular",
          "Unspecified",
          "Unspecified",
          "Unspecified",
          "Unspecified",
          "Passing Too Closely",
          "Unspecified",
          "Passing or Lane Usage Improper",
          "Driver Inattention/Distraction",
          "Passing Too Closely",
          "Driver Inattention/Distraction",
          "Driver Inattention/Distraction",
          "Traffic Control Disregarded",
          "Driver Inattention/Distraction",
          "Pavement Slippery",
          "Unsafe Lane Changing",
          "Oversized Vehicle",
          "Pedestrian/Bicyclist/Other Pedestrian Error/Confusion",
          "Unspecified",
          "Driver Inattention/Distraction",
          "Unspecified",
          "Traffic Control Disregarded",
          "Unspecified",
          "Unsafe Lane Changing",
          "Alcohol Involvement",
          "Driver Inattention/Distraction",
          "Driver Inattention/Distraction",
          "Unspecified",
          "Driver Inattention/Distraction",
          "Unspecified",
          "View Obstructed/Limited",
          "Unspecified",
          "Turning Improperly",
          "Traffic Control Disregarded",
          "Driver Inexperience",
          "Unspecified",
          "Failure to Yield Right-of-Way",
          "Driver Inattention/Distraction",
          "Aggressive Driving/Road Rage",
          "Driver Inattention/Distraction",
          "Traffic Control Disregarded",
          "Driver Inattention/Distraction",
          "Reaction to Uninvolved Vehicle",
          "Driver Inattention/Distraction",
          "Passing or Lane Usage Improper",
          "Driver Inattention/Distraction",
          "Unspecified",
          "Alcohol Involvement",
          "Unsafe Speed",
          "Driver Inattention/Distraction",
          "Failure to Yield Right-of-Way",
          "Driver Inattention/Distraction",
          "Unsafe Speed",
          "Passing or Lane Usage Improper",
          "Steering Failure",
          "Following Too Closely",
          "Following Too Closely",
          "Unspecified",
          "Following Too Closely",
          "Passing or Lane Usage Improper",
          "Unsafe Lane Changing",
          "Unsafe Speed",
          "Pavement Slippery",
          "Unspecified",
          "Driver Inattention/Distraction",
          "View Obstructed/Limited",
          "Passing Too Closely",
          "Oversized Vehicle",
          "Driver Inattention/Distraction",
          "Unspecified",
          "Passing or Lane Usage Improper",
          "Illnes",
          "Traffic Control Disregarded",
          "Driver Inattention/Distraction",
          "Traffic Control Disregarded",
          "Lost Consciousness",
          "Following Too Closely",
          "Following Too Closely",
          "Failure to Yield Right-of-Way",
          "Driver Inattention/Distraction",
          "Failure to Yield Right-of-Way",
          "Unspecified",
          "Alcohol Involvement",
          "Driver Inattention/Distraction",
          "Unsafe Speed",
          "Unsafe Speed",
          "Unspecified",
          "Other Vehicular",
          "Unspecified",
          "Brakes Defective",
          "Failure to Yield Right-of-Way",
          "Passing Too Closely",
          "Driver Inattention/Distraction",
          "Passing or Lane Usage Improper",
          "Following Too Closely",
          "Failure to Yield Right-of-Way",
          "Driver Inattention/Distraction",
          "Traffic Control Disregarded",
          "Backing Unsafely",
          "Unspecified",
          "Driver Inattention/Distraction",
          "Driver Inattention/Distraction",
          "Unsafe Speed",
          "Aggressive Driving/Road Rage",
          "Driver Inattention/Distraction",
          "Following Too Closely",
          "Traffic Control Disregarded",
          "Following Too Closely",
          "Traffic Control Disregarded",
          "Driver Inattention/Distraction",
          "Driver Inattention/Distraction",
          "Unspecified",
          "Unspecified",
          "Passing Too Closely",
          "Driver Inattention/Distraction",
          "Unspecified",
          "Unspecified",
          "Unspecified",
          "Unspecified",
          "Turning Improperly",
          "Unspecified",
          "Unspecified",
          "Unspecified",
          "Driver Inattention/Distraction",
          "Passing Too Closely",
          "Traffic Control Disregarded",
          "Unspecified",
          "Following Too Closely",
          "Glare",
          "Driver Inattention/Distraction",
          "Passenger Distraction",
          "Failure to Yield Right-of-Way",
          "Unspecified",
          "Passing or Lane Usage Improper",
          "Reaction to Uninvolved Vehicle",
          "Failure to Yield Right-of-Way",
          "Backing Unsafely",
          "Backing Unsafely",
          "Driver Inattention/Distraction",
          "Passing or Lane Usage Improper",
          "Driver Inattention/Distraction",
          "Reaction to Uninvolved Vehicle",
          "Backing Unsafely",
          "Passing or Lane Usage Improper",
          "Following Too Closely",
          "Driver Inattention/Distraction",
          "Driver Inattention/Distraction",
          "Fell Asleep",
          "Unspecified",
          "Failure to Yield Right-of-Way",
          "Driver Inattention/Distraction",
          "Driver Inattention/Distraction",
          "Failure to Yield Right-of-Way",
          "Driver Inattention/Distraction",
          "Unsafe Speed",
          "Unsafe Speed",
          "Failure to Yield Right-of-Way",
          "Passing or Lane Usage Improper",
          "Unspecified",
          "Driver Inattention/Distraction",
          "Traffic Control Disregarded",
          "Following Too Closely",
          "Unspecified",
          "Unspecified",
          "Following Too Closely",
          "Unsafe Speed",
          "Unsafe Speed",
          "Driver Inattention/Distraction",
          "Turning Improperly",
          "Passing or Lane Usage Improper",
          "Alcohol Involvement",
          "Passing or Lane Usage Improper",
          "Unspecified",
          "Driver Inattention/Distraction",
          "Following Too Closely",
          "Driver Inattention/Distraction",
          "Unspecified",
          "Passing or Lane Usage Improper",
          "Unspecified",
          "Alcohol Involvement",
          "Unsafe Speed",
          "Unsafe Speed",
          "Driver Inattention/Distraction",
          "Passing or Lane Usage Improper",
          "Unspecified",
          "Unspecified",
          "Backing Unsafely",
          "Unspecified",
          "Other Vehicular",
          "Unspecified",
          "Traffic Control Disregarded",
          "Unspecified",
          "Following Too Closely",
          "Driver Inattention/Distraction",
          "Failure to Yield Right-of-Way",
          "Unsafe Lane Changing",
          "Driver Inattention/Distraction",
          "Passing Too Closely",
          "Unspecified",
          "Other Vehicular",
          "Unspecified",
          "Unspecified",
          "Following Too Closely",
          "Unsafe Speed",
          "Failure to Yield Right-of-Way",
          "Driver Inattention/Distraction",
          "Unspecified",
          "Pedestrian/Bicyclist/Other Pedestrian Error/Confusion",
          "Following Too Closely",
          "Unspecified",
          "Alcohol Involvement",
          "Passing Too Closely",
          "Unspecified",
          "Unspecified",
          "Passing or Lane Usage Improper",
          "Driver Inexperience",
          "Unspecified",
          "Unspecified",
          "Alcohol Involvement",
          "Unspecified",
          "Passing Too Closely",
          "Following Too Closely",
          "Driver Inattention/Distraction",
          "Turning Improperly",
          "Passing or Lane Usage Improper",
          "Reaction to Uninvolved Vehicle",
          "Other Vehicular",
          "Passing Too Closely",
          "Backing Unsafely",
          "Driver Inattention/Distraction",
          "Unspecified",
          "Turning Improperly",
          "Passing Too Closely",
          "Unspecified",
          "Lost Consciousness",
          "Unsafe Speed",
          "Unspecified",
          "Passing or Lane Usage Improper",
          "Driver Inattention/Distraction",
          "Driver Inattention/Distraction",
          "Following Too Closely",
          "Unspecified",
          "Driver Inattention/Distraction",
          "Driver Inexperience",
          "Alcohol Involvement",
          "Following Too Closely",
          "Traffic Control Disregarded",
          "Following Too Closely",
          "Unspecified",
          "Failure to Yield Right-of-Way",
          "Traffic Control Disregarded",
          "Other Vehicular",
          "Driver Inattention/Distraction",
          "Unspecified",
          "Driver Inattention/Distraction",
          "Unspecified",
          "Driver Inexperience",
          "Backing Unsafely",
          "Following Too Closely",
          "Passing or Lane Usage Improper",
          "Following Too Closely",
          "Other Vehicular",
          "Driver Inattention/Distraction",
          "Backing Unsafely",
          "Driver Inattention/Distraction",
          "Passing Too Closely",
          "Lost Consciousness",
          "Driver Inattention/Distraction",
          "Following Too Closely",
          "Backing Unsafely",
          "Unspecified",
          "Driver Inattention/Distraction",
          "Unsafe Speed",
          "Failure to Yield Right-of-Way",
          "Driver Inattention/Distraction",
          "Failure to Yield Right-of-Way",
          "Driver Inattention/Distraction",
          "Passing Too Closely",
          "Obstruction/Debris",
          "Driver Inexperience",
          "Turning Improperly",
          "Unspecified",
          "View Obstructed/Limited",
          "Unspecified",
          "Unspecified",
          "Passing or Lane Usage Improper",
          "Unspecified",
          "Driver Inattention/Distraction",
          "Lost Consciousness",
          "Aggressive Driving/Road Rage",
          "Backing Unsafely",
          "Unspecified",
          "Unsafe Lane Changing",
          "Unspecified",
          "Driver Inattention/Distraction",
          "Driver Inattention/Distraction",
          "Unsafe Speed",
          "Alcohol Involvement",
          "Failure to Yield Right-of-Way",
          "Unsafe Speed",
          "Traffic Control Disregarded",
          "Failure to Yield Right-of-Way",
          "Driver Inattention/Distraction",
          "Unsafe Speed",
          "Unspecified",
          "Unspecified",
          "Driver Inattention/Distraction",
          "Passing Too Closely",
          "Turning Improperly",
          "Unsafe Speed",
          "Passing Too Closely",
          "Passing or Lane Usage Improper",
          "Failure to Yield Right-of-Way",
          "Driver Inattention/Distraction",
          "Driver Inattention/Distraction",
          "Backing Unsafely",
          "Driver Inattention/Distraction",
          "Driver Inattention/Distraction",
          "Unspecified",
          "Driver Inexperience",
          "Driver Inattention/Distraction",
          "Other Vehicular",
          "Unspecified",
          "Passing or Lane Usage Improper",
          "Driver Inattention/Distraction",
          "Driver Inattention/Distraction",
          "Following Too Closely",
          "Driver Inattention/Distraction",
          "Unspecified",
          "Passing or Lane Usage Improper",
          "Driver Inattention/Distraction",
          "Driver Inattention/Distraction",
          "Unspecified",
          "Unspecified",
          "Driver Inattention/Distraction",
          "Failure to Yield Right-of-Way",
          "Driver Inexperience",
          "Driver Inexperience",
          "Passing or Lane Usage Improper",
          "Driver Inexperience",
          "Unspecified",
          "Following Too Closely",
          "Pavement Slippery",
          "Unsafe Lane Changing",
          "Tinted Windows",
          "Driver Inattention/Distraction",
          "Passing Too Closely",
          "Driver Inattention/Distraction",
          "Following Too Closely",
          "Driver Inattention/Distraction",
          "Aggressive Driving/Road Rage",
          "Failure to Yield Right-of-Way",
          "Unsafe Lane Changing",
          "Following Too Closely",
          "Unspecified",
          "Driver Inattention/Distraction",
          "Driver Inattention/Distraction",
          "Fell Asleep",
          "Passing Too Closely",
          "Unspecified",
          "Passing or Lane Usage Improper",
          "Driver Inattention/Distraction",
          "Unspecified",
          "Following Too Closely",
          "Unspecified",
          "Passing or Lane Usage Improper",
          "Driver Inattention/Distraction",
          "Unspecified",
          "Backing Unsafely",
          "Unspecified",
          "Following Too Closely",
          "Driver Inattention/Distraction",
          "Unspecified",
          "Unsafe Lane Changing",
          "Unspecified",
          "Unsafe Speed",
          "Driver Inattention/Distraction",
          "Driver Inattention/Distraction",
          "Driver Inexperience",
          "Backing Unsafely",
          "Unsafe Speed",
          "Failure to Yield Right-of-Way",
          "Unspecified",
          "Unspecified",
          "Unspecified",
          "Unsafe Speed",
          "Unsafe Lane Changing",
          "Driver Inattention/Distraction",
          "Passing or Lane Usage Improper",
          "Driver Inattention/Distraction",
          "Pedestrian/Bicyclist/Other Pedestrian Error/Confusion",
          "Driver Inattention/Distraction",
          "Unsafe Speed",
          "Driver Inattention/Distraction",
          "Passing Too Closely",
          "Unspecified",
          "Driver Inattention/Distraction",
          "Failure to Yield Right-of-Way",
          "Driver Inattention/Distraction",
          "Following Too Closely",
          "Driver Inexperience",
          "Driver Inattention/Distraction",
          "Unspecified",
          "Driver Inattention/Distraction",
          "Driver Inattention/Distraction",
          "Driver Inexperience",
          "Driver Inattention/Distraction",
          "Unspecified",
          "Driver Inattention/Distraction",
          "Unsafe Speed",
          "Unspecified",
          "Unspecified",
          "Driver Inattention/Distraction",
          "Following Too Closely",
          "Unspecified",
          "Passing Too Closely",
          "Failure to Yield Right-of-Way",
          "Unsafe Speed",
          "Traffic Control Disregarded",
          "Animals Action",
          "Passing Too Closely",
          "Driver Inattention/Distraction",
          "Driver Inattention/Distraction",
          "Pedestrian/Bicyclist/Other Pedestrian Error/Confusion",
          "Reaction to Uninvolved Vehicle",
          "Driver Inattention/Distraction",
          "Driver Inattention/Distraction",
          "Passing or Lane Usage Improper",
          "Driver Inattention/Distraction",
          "Unspecified",
          "Following Too Closely",
          "Driver Inexperience",
          "Failure to Yield Right-of-Way",
          "Driver Inattention/Distraction",
          "Following Too Closely",
          "Brakes Defective",
          "Driver Inattention/Distraction",
          "Following Too Closely",
          "Passing Too Closely",
          "Turning Improperly",
          "Unspecified",
          "Driver Inexperience",
          "Unspecified",
          "Unsafe Speed",
          "Following Too Closely",
          "Backing Unsafely",
          "Driver Inattention/Distraction",
          "Driver Inattention/Distraction",
          "Unsafe Speed",
          "Unspecified",
          "Driver Inattention/Distraction",
          "Passing or Lane Usage Improper",
          "Passing Too Closely",
          "Driver Inattention/Distraction",
          "Passing Too Closely",
          "Unspecified",
          "View Obstructed/Limited",
          "Steering Failure",
          "Failure to Yield Right-of-Way",
          "Unspecified",
          "Unspecified",
          "Traffic Control Disregarded",
          "Unspecified",
          "Passing or Lane Usage Improper",
          "Drugs (illegal)",
          "Other Vehicular",
          "Reaction to Uninvolved Vehicle",
          "Following Too Closely",
          "Driver Inattention/Distraction",
          "Turning Improperly",
          "Traffic Control Disregarded",
          "Unspecified",
          "Unspecified",
          "Unspecified",
          "Unspecified",
          "Aggressive Driving/Road Rage",
          "Driver Inattention/Distraction",
          "Unsafe Speed",
          "Following Too Closely",
          "Driver Inattention/Distraction",
          "Failure to Yield Right-of-Way",
          "Passing Too Closely",
          "Driver Inattention/Distraction",
          "Driver Inattention/Distraction",
          "Failure to Yield Right-of-Way",
          "Turning Improperly",
          "Driver Inattention/Distraction",
          "Driver Inattention/Distraction",
          "Unspecified",
          "Reaction to Uninvolved Vehicle",
          "Unspecified",
          "Reaction to Uninvolved Vehicle",
          "Backing Unsafely",
          "Unspecified",
          "Unsafe Speed",
          "Driver Inattention/Distraction",
          "Unspecified",
          "Driver Inattention/Distraction",
          "Failure to Yield Right-of-Way",
          "Unspecified",
          "Driver Inexperience",
          "Driver Inattention/Distraction",
          "Driver Inattention/Distraction",
          "Following Too Closely",
          "Failure to Yield Right-of-Way",
          "Following Too Closely",
          "Unspecified",
          "Unspecified",
          "Failure to Yield Right-of-Way",
          "Driver Inattention/Distraction",
          "Driver Inattention/Distraction",
          "Failure to Yield Right-of-Way",
          "Failure to Yield Right-of-Way",
          "Unspecified",
          "Backing Unsafely",
          "Passing Too Closely",
          "Driver Inattention/Distraction",
          "Driver Inattention/Distraction",
          "Driver Inattention/Distraction",
          "Driver Inattention/Distraction",
          "Failure to Yield Right-of-Way",
          "Unspecified",
          "Passing or Lane Usage Improper",
          "Reaction to Uninvolved Vehicle",
          "Passing Too Closely",
          "Driver Inattention/Distraction",
          "Steering Failure",
          "Unspecified",
          "Fell Asleep",
          "Driver Inattention/Distraction",
          "Driver Inattention/Distraction",
          "Driver Inattention/Distraction",
          "View Obstructed/Limited",
          "Driver Inattention/Distraction",
          "Driver Inattention/Distraction",
          "Backing Unsafely",
          "Failure to Yield Right-of-Way",
          "Unspecified",
          "Driver Inexperience",
          "Unspecified",
          "Driver Inattention/Distraction",
          "Unspecified",
          "Unspecified",
          "Unspecified",
          "Unspecified",
          "Pedestrian/Bicyclist/Other Pedestrian Error/Confusion",
          "Unspecified",
          "Driver Inattention/Distraction",
          "Driver Inattention/Distraction",
          "Passing Too Closely",
          "Alcohol Involvement",
          "Driver Inexperience",
          "Unspecified",
          "Failure to Yield Right-of-Way",
          "Driver Inexperience",
          "Driver Inattention/Distraction",
          "Unspecified",
          "Pedestrian/Bicyclist/Other Pedestrian Error/Confusion",
          "Backing Unsafely",
          "Failure to Yield Right-of-Way",
          "View Obstructed/Limited",
          "Driver Inattention/Distraction",
          "Passing or Lane Usage Improper",
          "Driver Inattention/Distraction",
          "Passing or Lane Usage Improper",
          "Driver Inattention/Distraction",
          "Traffic Control Disregarded",
          "Failure to Yield Right-of-Way",
          "Driver Inattention/Distraction",
          "Driver Inattention/Distraction",
          "Unspecified",
          "Passing or Lane Usage Improper",
          "Driver Inattention/Distraction",
          "Unspecified",
          "Other Vehicular",
          "Driver Inattention/Distraction",
          "Turning Improperly",
          "Unsafe Speed",
          "Unspecified",
          "Following Too Closely",
          "Failure to Yield Right-of-Way",
          "Backing Unsafely",
          "Alcohol Involvement",
          "Driver Inexperience",
          "Driver Inattention/Distraction",
          "Driver Inattention/Distraction",
          "Passing or Lane Usage Improper",
          "Driver Inattention/Distraction",
          "Passing or Lane Usage Improper",
          "Unspecified",
          "Unspecified",
          "Unspecified",
          "Turning Improperly",
          "Traffic Control Disregarded",
          "Driver Inattention/Distraction",
          "Following Too Closely",
          "Backing Unsafely",
          "Unsafe Speed",
          "Following Too Closely",
          "Passing Too Closely",
          "Passing or Lane Usage Improper",
          "Unspecified",
          "Passing or Lane Usage Improper",
          "Passing or Lane Usage Improper",
          "Unspecified",
          "Unspecified",
          "Failure to Yield Right-of-Way",
          "Reaction to Uninvolved Vehicle",
          "Unspecified",
          "Unsafe Lane Changing",
          "Driver Inattention/Distraction",
          "Unspecified",
          "Unspecified",
          "Following Too Closely",
          "Driver Inexperience",
          "Driver Inattention/Distraction",
          "Other Vehicular",
          "Passing or Lane Usage Improper",
          "Driver Inattention/Distraction",
          "Driver Inattention/Distraction",
          "Following Too Closely",
          "Unspecified",
          "Driver Inattention/Distraction",
          "Unspecified",
          "Failure to Yield Right-of-Way",
          "Passing or Lane Usage Improper",
          "Driver Inattention/Distraction",
          "Unspecified",
          "Following Too Closely",
          "Failure to Yield Right-of-Way",
          "Passing Too Closely",
          "Driver Inattention/Distraction",
          "Unspecified",
          "Passing or Lane Usage Improper",
          "Following Too Closely",
          "Turning Improperly",
          "Driver Inattention/Distraction",
          "Unspecified",
          "Passing Too Closely",
          "Failure to Yield Right-of-Way",
          "Unspecified",
          "View Obstructed/Limited",
          "Unspecified",
          "Following Too Closely",
          "Pavement Slippery",
          "Unspecified",
          "Driver Inattention/Distraction",
          "Unspecified",
          "Driver Inattention/Distraction",
          "Driver Inattention/Distraction",
          "Unspecified",
          "Following Too Closely",
          "Unsafe Speed",
          "Backing Unsafely",
          "Failure to Yield Right-of-Way",
          "Pedestrian/Bicyclist/Other Pedestrian Error/Confusion",
          "Unsafe Lane Changing",
          "Unspecified",
          "Passing or Lane Usage Improper",
          "Pavement Defective",
          "Unspecified",
          "Unspecified",
          "Backing Unsafely",
          "Other Lighting Defects",
          "Unspecified",
          "Unspecified",
          "Reaction to Uninvolved Vehicle",
          "Driver Inattention/Distraction",
          "Failure to Yield Right-of-Way",
          "Unspecified",
          "Following Too Closely",
          "Unspecified",
          "Driver Inattention/Distraction",
          "Driver Inattention/Distraction",
          "Passing or Lane Usage Improper",
          "Unspecified",
          "Unspecified",
          "Unspecified",
          "Driver Inattention/Distraction",
          "Driver Inattention/Distraction",
          "Unsafe Lane Changing",
          "Unspecified",
          "Failure to Yield Right-of-Way",
          "Driver Inattention/Distraction",
          "Brakes Defective",
          "Fell Asleep",
          "Driver Inattention/Distraction",
          "Driver Inattention/Distraction",
          "Traffic Control Disregarded",
          "Unspecified",
          "Obstruction/Debris",
          "Oversized Vehicle",
          "Animals Action",
          "Passing Too Closely",
          "Unspecified",
          "Driver Inattention/Distraction",
          "Failure to Yield Right-of-Way",
          "Traffic Control Disregarded",
          "Passing Too Closely",
          "Unspecified",
          "Passing Too Closely",
          "Driver Inattention/Distraction",
          "Driver Inattention/Distraction",
          "Driver Inattention/Distraction",
          "Failure to Yield Right-of-Way",
          "Unspecified",
          "Passing or Lane Usage Improper",
          "Passing Too Closely",
          "Unspecified",
          "Driver Inattention/Distraction",
          "Passing or Lane Usage Improper",
          "Passing or Lane Usage Improper",
          "Unsafe Lane Changing",
          "Driver Inattention/Distraction",
          "Failure to Yield Right-of-Way",
          "Following Too Closely",
          "Unspecified",
          "Unsafe Lane Changing",
          "Unsafe Lane Changing",
          "Unspecified",
          "Failure to Yield Right-of-Way",
          "Turning Improperly",
          "Unspecified",
          "Passing or Lane Usage Improper",
          "Following Too Closely",
          "Passing Too Closely",
          "Traffic Control Disregarded",
          "Outside Car Distraction",
          "Unspecified",
          "Turning Improperly",
          "Unspecified",
          "Driver Inattention/Distraction",
          "Alcohol Involvement",
          "Reaction to Uninvolved Vehicle",
          "Unspecified",
          "Unspecified",
          "Driver Inattention/Distraction",
          "Driver Inattention/Distraction",
          "Driver Inattention/Distraction",
          "Unspecified",
          "Driver Inattention/Distraction",
          "Unspecified",
          "Reaction to Uninvolved Vehicle",
          "Following Too Closely",
          "Passing Too Closely",
          "Reaction to Uninvolved Vehicle",
          "Unspecified",
          "Unsafe Lane Changing",
          "Unspecified",
          "Illnes",
          "Unsafe Speed",
          "Driver Inattention/Distraction",
          "Following Too Closely",
          "Unsafe Speed",
          "Unspecified",
          "Alcohol Involvement",
          "Unsafe Speed",
          "Unspecified",
          "Failure to Yield Right-of-Way",
          "Unsafe Speed",
          "Following Too Closely",
          "Failure to Yield Right-of-Way",
          "Driver Inattention/Distraction",
          "Unspecified",
          "Following Too Closely",
          "Unspecified",
          "Driver Inattention/Distraction",
          "Passing Too Closely",
          "Passing or Lane Usage Improper",
          "Driver Inattention/Distraction",
          "Unspecified",
          "Driver Inattention/Distraction",
          "Unsafe Speed",
          "Passing or Lane Usage Improper",
          "Unsafe Speed",
          "Unspecified",
          "Unspecified",
          "Unspecified",
          "Other Vehicular",
          "Reaction to Uninvolved Vehicle",
          "Unspecified",
          "Driver Inattention/Distraction",
          "Following Too Closely",
          "Unspecified",
          "Unspecified",
          "Unspecified",
          "Failure to Yield Right-of-Way",
          "Unspecified",
          "Unspecified",
          "Driver Inattention/Distraction",
          "Unspecified",
          "Failure to Yield Right-of-Way",
          "Unspecified",
          "Other Vehicular",
          "Unspecified",
          "Unsafe Lane Changing",
          "Failure to Yield Right-of-Way",
          "Unspecified",
          "Driver Inattention/Distraction",
          "Unspecified",
          "Unspecified",
          "Pavement Slippery",
          "Unspecified",
          "Passing Too Closely",
          "Unspecified",
          "Unspecified",
          "Following Too Closely",
          "Turning Improperly",
          "Traffic Control Disregarded",
          "Other Vehicular",
          "Unspecified",
          "Unspecified",
          "Unspecified",
          "Driver Inattention/Distraction",
          "Following Too Closely",
          "Driver Inattention/Distraction",
          "Following Too Closely",
          "Pedestrian/Bicyclist/Other Pedestrian Error/Confusion",
          "Driver Inattention/Distraction",
          "Unspecified",
          "Traffic Control Disregarded",
          "Driver Inattention/Distraction",
          "Unsafe Lane Changing",
          "Driver Inattention/Distraction",
          "Following Too Closely",
          "Passing Too Closely",
          "Unsafe Speed",
          "Traffic Control Disregarded",
          "Following Too Closely",
          "Unspecified",
          "Driver Inattention/Distraction",
          "Following Too Closely",
          "Passing Too Closely",
          "Following Too Closely",
          "Unsafe Lane Changing",
          "Driver Inattention/Distraction",
          "Following Too Closely",
          "Passing Too Closely",
          "Unspecified",
          "Failure to Yield Right-of-Way",
          "Failure to Yield Right-of-Way",
          "Unspecified",
          "Driver Inattention/Distraction",
          "Unspecified",
          "Unspecified",
          "Driver Inattention/Distraction",
          "Driver Inattention/Distraction",
          "Unspecified",
          "Driver Inattention/Distraction",
          "Driver Inattention/Distraction",
          "Unspecified",
          "Pedestrian/Bicyclist/Other Pedestrian Error/Confusion",
          "Driver Inattention/Distraction",
          "Driverless/Runaway Vehicle",
          "Driver Inattention/Distraction",
          "Unsafe Speed",
          "Unspecified",
          "Traffic Control Disregarded",
          "Driver Inattention/Distraction",
          "Unspecified",
          "Failure to Yield Right-of-Way",
          "Failure to Yield Right-of-Way",
          "Driver Inexperience",
          "Unspecified",
          "Unspecified",
          "Driver Inattention/Distraction",
          "Failure to Yield Right-of-Way",
          "Unspecified",
          "Driver Inattention/Distraction",
          "Passing Too Closely",
          "Driver Inattention/Distraction",
          "Turning Improperly",
          "Unspecified",
          "Driver Inattention/Distraction",
          "Pavement Slippery",
          "Unspecified",
          "Unsafe Speed",
          "Aggressive Driving/Road Rage",
          "Unspecified",
          "Passing or Lane Usage Improper",
          "Failure to Yield Right-of-Way",
          "Failure to Yield Right-of-Way",
          "Driver Inattention/Distraction",
          "Passing or Lane Usage Improper",
          "Driver Inattention/Distraction",
          "Traffic Control Disregarded",
          "Passing Too Closely",
          "Failure to Yield Right-of-Way",
          "Driver Inattention/Distraction",
          "Unspecified",
          "Following Too Closely",
          "Following Too Closely",
          "Driver Inattention/Distraction",
          "Traffic Control Disregarded",
          "Unspecified",
          "Unspecified",
          "Unspecified",
          "Passing or Lane Usage Improper",
          "Driver Inattention/Distraction",
          "Unspecified",
          "Unspecified",
          "Following Too Closely",
          "Unspecified",
          "Unspecified",
          "Other Vehicular",
          "Traffic Control Disregarded",
          "Driver Inattention/Distraction",
          "Passing Too Closely",
          "Failure to Yield Right-of-Way",
          "Backing Unsafely",
          "Driver Inattention/Distraction",
          "Unspecified",
          "Unsafe Speed",
          "Driver Inattention/Distraction",
          "Other Vehicular",
          "Reaction to Uninvolved Vehicle",
          "Alcohol Involvement",
          "Driver Inattention/Distraction",
          "Turning Improperly",
          "Following Too Closely",
          "Passing or Lane Usage Improper",
          "Driver Inattention/Distraction",
          "Other Vehicular",
          "Turning Improperly",
          "Unsafe Lane Changing",
          "Following Too Closely",
          "Passing or Lane Usage Improper",
          "Unsafe Speed",
          "Driver Inattention/Distraction",
          "Following Too Closely",
          "Driver Inattention/Distraction",
          "Driver Inattention/Distraction",
          "Driver Inattention/Distraction",
          "Unspecified",
          "Backing Unsafely",
          "Backing Unsafely",
          "Unspecified",
          "Unspecified",
          "Driver Inattention/Distraction",
          "Unspecified",
          "Failure to Yield Right-of-Way",
          "Following Too Closely",
          "Unspecified",
          "Driver Inattention/Distraction",
          "Driver Inattention/Distraction",
          "Other Vehicular",
          "Driver Inattention/Distraction",
          "Driver Inattention/Distraction",
          "Traffic Control Disregarded",
          "Driver Inattention/Distraction",
          "Passing Too Closely",
          "Failure to Yield Right-of-Way",
          "Unspecified",
          "Passing Too Closely",
          "Driver Inattention/Distraction",
          "Driver Inattention/Distraction",
          "Passing or Lane Usage Improper",
          "Unspecified",
          "Unspecified",
          "Driver Inattention/Distraction",
          "Passing or Lane Usage Improper",
          "Driver Inattention/Distraction",
          "Driver Inattention/Distraction",
          "Passing Too Closely",
          "Unspecified",
          "Following Too Closely",
          "Driver Inattention/Distraction",
          "Traffic Control Disregarded",
          "Passing Too Closely",
          "Traffic Control Disregarded",
          "Passing or Lane Usage Improper",
          "Unspecified",
          "Turning Improperly",
          "Backing Unsafely",
          "Driver Inattention/Distraction",
          "Following Too Closely",
          "Unspecified"
         ],
         "xaxis": "x",
         "yaxis": "y"
        }
       ],
       "layout": {
        "autosize": true,
        "bargap": 0.2,
        "barmode": "relative",
        "legend": {
         "tracegroupgap": 0
        },
        "template": {
         "data": {
          "bar": [
           {
            "error_x": {
             "color": "#2a3f5f"
            },
            "error_y": {
             "color": "#2a3f5f"
            },
            "marker": {
             "line": {
              "color": "#E5ECF6",
              "width": 0.5
             },
             "pattern": {
              "fillmode": "overlay",
              "size": 10,
              "solidity": 0.2
             }
            },
            "type": "bar"
           }
          ],
          "barpolar": [
           {
            "marker": {
             "line": {
              "color": "#E5ECF6",
              "width": 0.5
             },
             "pattern": {
              "fillmode": "overlay",
              "size": 10,
              "solidity": 0.2
             }
            },
            "type": "barpolar"
           }
          ],
          "carpet": [
           {
            "aaxis": {
             "endlinecolor": "#2a3f5f",
             "gridcolor": "white",
             "linecolor": "white",
             "minorgridcolor": "white",
             "startlinecolor": "#2a3f5f"
            },
            "baxis": {
             "endlinecolor": "#2a3f5f",
             "gridcolor": "white",
             "linecolor": "white",
             "minorgridcolor": "white",
             "startlinecolor": "#2a3f5f"
            },
            "type": "carpet"
           }
          ],
          "choropleth": [
           {
            "colorbar": {
             "outlinewidth": 0,
             "ticks": ""
            },
            "type": "choropleth"
           }
          ],
          "contour": [
           {
            "colorbar": {
             "outlinewidth": 0,
             "ticks": ""
            },
            "colorscale": [
             [
              0,
              "#0d0887"
             ],
             [
              0.1111111111111111,
              "#46039f"
             ],
             [
              0.2222222222222222,
              "#7201a8"
             ],
             [
              0.3333333333333333,
              "#9c179e"
             ],
             [
              0.4444444444444444,
              "#bd3786"
             ],
             [
              0.5555555555555556,
              "#d8576b"
             ],
             [
              0.6666666666666666,
              "#ed7953"
             ],
             [
              0.7777777777777778,
              "#fb9f3a"
             ],
             [
              0.8888888888888888,
              "#fdca26"
             ],
             [
              1,
              "#f0f921"
             ]
            ],
            "type": "contour"
           }
          ],
          "contourcarpet": [
           {
            "colorbar": {
             "outlinewidth": 0,
             "ticks": ""
            },
            "type": "contourcarpet"
           }
          ],
          "heatmap": [
           {
            "colorbar": {
             "outlinewidth": 0,
             "ticks": ""
            },
            "colorscale": [
             [
              0,
              "#0d0887"
             ],
             [
              0.1111111111111111,
              "#46039f"
             ],
             [
              0.2222222222222222,
              "#7201a8"
             ],
             [
              0.3333333333333333,
              "#9c179e"
             ],
             [
              0.4444444444444444,
              "#bd3786"
             ],
             [
              0.5555555555555556,
              "#d8576b"
             ],
             [
              0.6666666666666666,
              "#ed7953"
             ],
             [
              0.7777777777777778,
              "#fb9f3a"
             ],
             [
              0.8888888888888888,
              "#fdca26"
             ],
             [
              1,
              "#f0f921"
             ]
            ],
            "type": "heatmap"
           }
          ],
          "heatmapgl": [
           {
            "colorbar": {
             "outlinewidth": 0,
             "ticks": ""
            },
            "colorscale": [
             [
              0,
              "#0d0887"
             ],
             [
              0.1111111111111111,
              "#46039f"
             ],
             [
              0.2222222222222222,
              "#7201a8"
             ],
             [
              0.3333333333333333,
              "#9c179e"
             ],
             [
              0.4444444444444444,
              "#bd3786"
             ],
             [
              0.5555555555555556,
              "#d8576b"
             ],
             [
              0.6666666666666666,
              "#ed7953"
             ],
             [
              0.7777777777777778,
              "#fb9f3a"
             ],
             [
              0.8888888888888888,
              "#fdca26"
             ],
             [
              1,
              "#f0f921"
             ]
            ],
            "type": "heatmapgl"
           }
          ],
          "histogram": [
           {
            "marker": {
             "pattern": {
              "fillmode": "overlay",
              "size": 10,
              "solidity": 0.2
             }
            },
            "type": "histogram"
           }
          ],
          "histogram2d": [
           {
            "colorbar": {
             "outlinewidth": 0,
             "ticks": ""
            },
            "colorscale": [
             [
              0,
              "#0d0887"
             ],
             [
              0.1111111111111111,
              "#46039f"
             ],
             [
              0.2222222222222222,
              "#7201a8"
             ],
             [
              0.3333333333333333,
              "#9c179e"
             ],
             [
              0.4444444444444444,
              "#bd3786"
             ],
             [
              0.5555555555555556,
              "#d8576b"
             ],
             [
              0.6666666666666666,
              "#ed7953"
             ],
             [
              0.7777777777777778,
              "#fb9f3a"
             ],
             [
              0.8888888888888888,
              "#fdca26"
             ],
             [
              1,
              "#f0f921"
             ]
            ],
            "type": "histogram2d"
           }
          ],
          "histogram2dcontour": [
           {
            "colorbar": {
             "outlinewidth": 0,
             "ticks": ""
            },
            "colorscale": [
             [
              0,
              "#0d0887"
             ],
             [
              0.1111111111111111,
              "#46039f"
             ],
             [
              0.2222222222222222,
              "#7201a8"
             ],
             [
              0.3333333333333333,
              "#9c179e"
             ],
             [
              0.4444444444444444,
              "#bd3786"
             ],
             [
              0.5555555555555556,
              "#d8576b"
             ],
             [
              0.6666666666666666,
              "#ed7953"
             ],
             [
              0.7777777777777778,
              "#fb9f3a"
             ],
             [
              0.8888888888888888,
              "#fdca26"
             ],
             [
              1,
              "#f0f921"
             ]
            ],
            "type": "histogram2dcontour"
           }
          ],
          "mesh3d": [
           {
            "colorbar": {
             "outlinewidth": 0,
             "ticks": ""
            },
            "type": "mesh3d"
           }
          ],
          "parcoords": [
           {
            "line": {
             "colorbar": {
              "outlinewidth": 0,
              "ticks": ""
             }
            },
            "type": "parcoords"
           }
          ],
          "pie": [
           {
            "automargin": true,
            "type": "pie"
           }
          ],
          "scatter": [
           {
            "fillpattern": {
             "fillmode": "overlay",
             "size": 10,
             "solidity": 0.2
            },
            "type": "scatter"
           }
          ],
          "scatter3d": [
           {
            "line": {
             "colorbar": {
              "outlinewidth": 0,
              "ticks": ""
             }
            },
            "marker": {
             "colorbar": {
              "outlinewidth": 0,
              "ticks": ""
             }
            },
            "type": "scatter3d"
           }
          ],
          "scattercarpet": [
           {
            "marker": {
             "colorbar": {
              "outlinewidth": 0,
              "ticks": ""
             }
            },
            "type": "scattercarpet"
           }
          ],
          "scattergeo": [
           {
            "marker": {
             "colorbar": {
              "outlinewidth": 0,
              "ticks": ""
             }
            },
            "type": "scattergeo"
           }
          ],
          "scattergl": [
           {
            "marker": {
             "colorbar": {
              "outlinewidth": 0,
              "ticks": ""
             }
            },
            "type": "scattergl"
           }
          ],
          "scattermapbox": [
           {
            "marker": {
             "colorbar": {
              "outlinewidth": 0,
              "ticks": ""
             }
            },
            "type": "scattermapbox"
           }
          ],
          "scatterpolar": [
           {
            "marker": {
             "colorbar": {
              "outlinewidth": 0,
              "ticks": ""
             }
            },
            "type": "scatterpolar"
           }
          ],
          "scatterpolargl": [
           {
            "marker": {
             "colorbar": {
              "outlinewidth": 0,
              "ticks": ""
             }
            },
            "type": "scatterpolargl"
           }
          ],
          "scatterternary": [
           {
            "marker": {
             "colorbar": {
              "outlinewidth": 0,
              "ticks": ""
             }
            },
            "type": "scatterternary"
           }
          ],
          "surface": [
           {
            "colorbar": {
             "outlinewidth": 0,
             "ticks": ""
            },
            "colorscale": [
             [
              0,
              "#0d0887"
             ],
             [
              0.1111111111111111,
              "#46039f"
             ],
             [
              0.2222222222222222,
              "#7201a8"
             ],
             [
              0.3333333333333333,
              "#9c179e"
             ],
             [
              0.4444444444444444,
              "#bd3786"
             ],
             [
              0.5555555555555556,
              "#d8576b"
             ],
             [
              0.6666666666666666,
              "#ed7953"
             ],
             [
              0.7777777777777778,
              "#fb9f3a"
             ],
             [
              0.8888888888888888,
              "#fdca26"
             ],
             [
              1,
              "#f0f921"
             ]
            ],
            "type": "surface"
           }
          ],
          "table": [
           {
            "cells": {
             "fill": {
              "color": "#EBF0F8"
             },
             "line": {
              "color": "white"
             }
            },
            "header": {
             "fill": {
              "color": "#C8D4E3"
             },
             "line": {
              "color": "white"
             }
            },
            "type": "table"
           }
          ]
         },
         "layout": {
          "annotationdefaults": {
           "arrowcolor": "#2a3f5f",
           "arrowhead": 0,
           "arrowwidth": 1
          },
          "autotypenumbers": "strict",
          "coloraxis": {
           "colorbar": {
            "outlinewidth": 0,
            "ticks": ""
           }
          },
          "colorscale": {
           "diverging": [
            [
             0,
             "#8e0152"
            ],
            [
             0.1,
             "#c51b7d"
            ],
            [
             0.2,
             "#de77ae"
            ],
            [
             0.3,
             "#f1b6da"
            ],
            [
             0.4,
             "#fde0ef"
            ],
            [
             0.5,
             "#f7f7f7"
            ],
            [
             0.6,
             "#e6f5d0"
            ],
            [
             0.7,
             "#b8e186"
            ],
            [
             0.8,
             "#7fbc41"
            ],
            [
             0.9,
             "#4d9221"
            ],
            [
             1,
             "#276419"
            ]
           ],
           "sequential": [
            [
             0,
             "#0d0887"
            ],
            [
             0.1111111111111111,
             "#46039f"
            ],
            [
             0.2222222222222222,
             "#7201a8"
            ],
            [
             0.3333333333333333,
             "#9c179e"
            ],
            [
             0.4444444444444444,
             "#bd3786"
            ],
            [
             0.5555555555555556,
             "#d8576b"
            ],
            [
             0.6666666666666666,
             "#ed7953"
            ],
            [
             0.7777777777777778,
             "#fb9f3a"
            ],
            [
             0.8888888888888888,
             "#fdca26"
            ],
            [
             1,
             "#f0f921"
            ]
           ],
           "sequentialminus": [
            [
             0,
             "#0d0887"
            ],
            [
             0.1111111111111111,
             "#46039f"
            ],
            [
             0.2222222222222222,
             "#7201a8"
            ],
            [
             0.3333333333333333,
             "#9c179e"
            ],
            [
             0.4444444444444444,
             "#bd3786"
            ],
            [
             0.5555555555555556,
             "#d8576b"
            ],
            [
             0.6666666666666666,
             "#ed7953"
            ],
            [
             0.7777777777777778,
             "#fb9f3a"
            ],
            [
             0.8888888888888888,
             "#fdca26"
            ],
            [
             1,
             "#f0f921"
            ]
           ]
          },
          "colorway": [
           "#636efa",
           "#EF553B",
           "#00cc96",
           "#ab63fa",
           "#FFA15A",
           "#19d3f3",
           "#FF6692",
           "#B6E880",
           "#FF97FF",
           "#FECB52"
          ],
          "font": {
           "color": "#2a3f5f"
          },
          "geo": {
           "bgcolor": "white",
           "lakecolor": "white",
           "landcolor": "#E5ECF6",
           "showlakes": true,
           "showland": true,
           "subunitcolor": "white"
          },
          "hoverlabel": {
           "align": "left"
          },
          "hovermode": "closest",
          "mapbox": {
           "style": "light"
          },
          "paper_bgcolor": "white",
          "plot_bgcolor": "#E5ECF6",
          "polar": {
           "angularaxis": {
            "gridcolor": "white",
            "linecolor": "white",
            "ticks": ""
           },
           "bgcolor": "#E5ECF6",
           "radialaxis": {
            "gridcolor": "white",
            "linecolor": "white",
            "ticks": ""
           }
          },
          "scene": {
           "xaxis": {
            "backgroundcolor": "#E5ECF6",
            "gridcolor": "white",
            "gridwidth": 2,
            "linecolor": "white",
            "showbackground": true,
            "ticks": "",
            "zerolinecolor": "white"
           },
           "yaxis": {
            "backgroundcolor": "#E5ECF6",
            "gridcolor": "white",
            "gridwidth": 2,
            "linecolor": "white",
            "showbackground": true,
            "ticks": "",
            "zerolinecolor": "white"
           },
           "zaxis": {
            "backgroundcolor": "#E5ECF6",
            "gridcolor": "white",
            "gridwidth": 2,
            "linecolor": "white",
            "showbackground": true,
            "ticks": "",
            "zerolinecolor": "white"
           }
          },
          "shapedefaults": {
           "line": {
            "color": "#2a3f5f"
           }
          },
          "ternary": {
           "aaxis": {
            "gridcolor": "white",
            "linecolor": "white",
            "ticks": ""
           },
           "baxis": {
            "gridcolor": "white",
            "linecolor": "white",
            "ticks": ""
           },
           "bgcolor": "#E5ECF6",
           "caxis": {
            "gridcolor": "white",
            "linecolor": "white",
            "ticks": ""
           }
          },
          "title": {
           "x": 0.05
          },
          "xaxis": {
           "automargin": true,
           "gridcolor": "white",
           "linecolor": "white",
           "ticks": "",
           "title": {
            "standoff": 15
           },
           "zerolinecolor": "white",
           "zerolinewidth": 2
          },
          "yaxis": {
           "automargin": true,
           "gridcolor": "white",
           "linecolor": "white",
           "ticks": "",
           "title": {
            "standoff": 15
           },
           "zerolinecolor": "white",
           "zerolinewidth": 2
          }
         }
        },
        "title": {
         "text": "Frequency of Contributing Factors in Vehicle Crashes"
        },
        "xaxis": {
         "anchor": "y",
         "autorange": true,
         "categoryorder": "total descending",
         "domain": [
          0,
          1
         ],
         "range": [
          -0.5,
          34.5
         ],
         "title": {
          "text": "Contributing Factor"
         },
         "type": "category"
        },
        "yaxis": {
         "anchor": "x",
         "autorange": true,
         "domain": [
          0,
          1
         ],
         "range": [
          0,
          250.5263157894737
         ],
         "title": {
          "text": "count"
         }
        }
       }
      },
      "image/png": "[encoded data removed]",
      "text/html": [
       "<div>                            <div id=\"9199fea6-598c-4dcc-8976-1c37c5a8aadf\" class=\"plotly-graph-div\" style=\"height:525px; width:100%;\"></div>            <script type=\"text/javascript\">                require([\"plotly\"], function(Plotly) {                    window.PLOTLYENV=window.PLOTLYENV || {};                                    if (document.getElementById(\"9199fea6-598c-4dcc-8976-1c37c5a8aadf\")) {                    Plotly.newPlot(                        \"9199fea6-598c-4dcc-8976-1c37c5a8aadf\",                        [{\"alignmentgroup\":\"True\",\"bingroup\":\"x\",\"hovertemplate\":\"Contributing Factor=%{x}\\u003cbr\\u003ecount=%{y}\\u003cextra\\u003e\\u003c\\u002fextra\\u003e\",\"legendgroup\":\"\",\"marker\":{\"color\":\"#636efa\",\"pattern\":{\"shape\":\"\"}},\"name\":\"\",\"offsetgroup\":\"\",\"orientation\":\"v\",\"showlegend\":false,\"texttemplate\":\"%{value}\",\"x\":[\"Aggressive Driving\\u002fRoad Rage\",\"Pavement Slippery\",\"Following Too Closely\",\"Unspecified\",\"Unspecified\",\"Passing Too Closely\",\"Unspecified\",\"Driver Inexperience\",\"Passing Too Closely\",\"Passing or Lane Usage Improper\",\"Turning Improperly\",\"Unsafe Lane Changing\",\"Unsafe Speed\",\"Reaction to Uninvolved Vehicle\",\"Passing Too Closely\",\"Steering Failure\",\"Traffic Control Disregarded\",\"Unspecified\",\"Following Too Closely\",\"Following Too Closely\",\"Other Vehicular\",\"Unspecified\",\"Unspecified\",\"Unspecified\",\"Unspecified\",\"Passing Too Closely\",\"Unspecified\",\"Passing or Lane Usage Improper\",\"Driver Inattention\\u002fDistraction\",\"Passing Too Closely\",\"Driver Inattention\\u002fDistraction\",\"Driver Inattention\\u002fDistraction\",\"Traffic Control Disregarded\",\"Driver Inattention\\u002fDistraction\",\"Pavement Slippery\",\"Unsafe Lane Changing\",\"Oversized Vehicle\",\"Pedestrian\\u002fBicyclist\\u002fOther Pedestrian Error\\u002fConfusion\",\"Unspecified\",\"Driver Inattention\\u002fDistraction\",\"Unspecified\",\"Traffic Control Disregarded\",\"Unspecified\",\"Unsafe Lane Changing\",\"Alcohol Involvement\",\"Driver Inattention\\u002fDistraction\",\"Driver Inattention\\u002fDistraction\",\"Unspecified\",\"Driver Inattention\\u002fDistraction\",\"Unspecified\",\"View Obstructed\\u002fLimited\",\"Unspecified\",\"Turning Improperly\",\"Traffic Control Disregarded\",\"Driver Inexperience\",\"Unspecified\",\"Failure to Yield Right-of-Way\",\"Driver Inattention\\u002fDistraction\",\"Aggressive Driving\\u002fRoad Rage\",\"Driver Inattention\\u002fDistraction\",\"Traffic Control Disregarded\",\"Driver Inattention\\u002fDistraction\",\"Reaction to Uninvolved Vehicle\",\"Driver Inattention\\u002fDistraction\",\"Passing or Lane Usage Improper\",\"Driver Inattention\\u002fDistraction\",\"Unspecified\",\"Alcohol Involvement\",\"Unsafe Speed\",\"Driver Inattention\\u002fDistraction\",\"Failure to Yield Right-of-Way\",\"Driver Inattention\\u002fDistraction\",\"Unsafe Speed\",\"Passing or Lane Usage Improper\",\"Steering Failure\",\"Following Too Closely\",\"Following Too Closely\",\"Unspecified\",\"Following Too Closely\",\"Passing or Lane Usage Improper\",\"Unsafe Lane Changing\",\"Unsafe Speed\",\"Pavement Slippery\",\"Unspecified\",\"Driver Inattention\\u002fDistraction\",\"View Obstructed\\u002fLimited\",\"Passing Too Closely\",\"Oversized Vehicle\",\"Driver Inattention\\u002fDistraction\",\"Unspecified\",\"Passing or Lane Usage Improper\",\"Illnes\",\"Traffic Control Disregarded\",\"Driver Inattention\\u002fDistraction\",\"Traffic Control Disregarded\",\"Lost Consciousness\",\"Following Too Closely\",\"Following Too Closely\",\"Failure to Yield Right-of-Way\",\"Driver Inattention\\u002fDistraction\",\"Failure to Yield Right-of-Way\",\"Unspecified\",\"Alcohol Involvement\",\"Driver Inattention\\u002fDistraction\",\"Unsafe Speed\",\"Unsafe Speed\",\"Unspecified\",\"Other Vehicular\",\"Unspecified\",\"Brakes Defective\",\"Failure to Yield Right-of-Way\",\"Passing Too Closely\",\"Driver Inattention\\u002fDistraction\",\"Passing or Lane Usage Improper\",\"Following Too Closely\",\"Failure to Yield Right-of-Way\",\"Driver Inattention\\u002fDistraction\",\"Traffic Control Disregarded\",\"Backing Unsafely\",\"Unspecified\",\"Driver Inattention\\u002fDistraction\",\"Driver Inattention\\u002fDistraction\",\"Unsafe Speed\",\"Aggressive Driving\\u002fRoad Rage\",\"Driver Inattention\\u002fDistraction\",\"Following Too Closely\",\"Traffic Control Disregarded\",\"Following Too Closely\",\"Traffic Control Disregarded\",\"Driver Inattention\\u002fDistraction\",\"Driver Inattention\\u002fDistraction\",\"Unspecified\",\"Unspecified\",\"Passing Too Closely\",\"Driver Inattention\\u002fDistraction\",\"Unspecified\",\"Unspecified\",\"Unspecified\",\"Unspecified\",\"Turning Improperly\",\"Unspecified\",\"Unspecified\",\"Unspecified\",\"Driver Inattention\\u002fDistraction\",\"Passing Too Closely\",\"Traffic Control Disregarded\",\"Unspecified\",\"Following Too Closely\",\"Glare\",\"Driver Inattention\\u002fDistraction\",\"Passenger Distraction\",\"Failure to Yield Right-of-Way\",\"Unspecified\",\"Passing or Lane Usage Improper\",\"Reaction to Uninvolved Vehicle\",\"Failure to Yield Right-of-Way\",\"Backing Unsafely\",\"Backing Unsafely\",\"Driver Inattention\\u002fDistraction\",\"Passing or Lane Usage Improper\",\"Driver Inattention\\u002fDistraction\",\"Reaction to Uninvolved Vehicle\",\"Backing Unsafely\",\"Passing or Lane Usage Improper\",\"Following Too Closely\",\"Driver Inattention\\u002fDistraction\",\"Driver Inattention\\u002fDistraction\",\"Fell Asleep\",\"Unspecified\",\"Failure to Yield Right-of-Way\",\"Driver Inattention\\u002fDistraction\",\"Driver Inattention\\u002fDistraction\",\"Failure to Yield Right-of-Way\",\"Driver Inattention\\u002fDistraction\",\"Unsafe Speed\",\"Unsafe Speed\",\"Failure to Yield Right-of-Way\",\"Passing or Lane Usage Improper\",\"Unspecified\",\"Driver Inattention\\u002fDistraction\",\"Traffic Control Disregarded\",\"Following Too Closely\",\"Unspecified\",\"Unspecified\",\"Following Too Closely\",\"Unsafe Speed\",\"Unsafe Speed\",\"Driver Inattention\\u002fDistraction\",\"Turning Improperly\",\"Passing or Lane Usage Improper\",\"Alcohol Involvement\",\"Passing or Lane Usage Improper\",\"Unspecified\",\"Driver Inattention\\u002fDistraction\",\"Following Too Closely\",\"Driver Inattention\\u002fDistraction\",\"Unspecified\",\"Passing or Lane Usage Improper\",\"Unspecified\",\"Alcohol Involvement\",\"Unsafe Speed\",\"Unsafe Speed\",\"Driver Inattention\\u002fDistraction\",\"Passing or Lane Usage Improper\",\"Unspecified\",\"Unspecified\",\"Backing Unsafely\",\"Unspecified\",\"Other Vehicular\",\"Unspecified\",\"Traffic Control Disregarded\",\"Unspecified\",\"Following Too Closely\",\"Driver Inattention\\u002fDistraction\",\"Failure to Yield Right-of-Way\",\"Unsafe Lane Changing\",\"Driver Inattention\\u002fDistraction\",\"Passing Too Closely\",\"Unspecified\",\"Other Vehicular\",\"Unspecified\",\"Unspecified\",\"Following Too Closely\",\"Unsafe Speed\",\"Failure to Yield Right-of-Way\",\"Driver Inattention\\u002fDistraction\",\"Unspecified\",\"Pedestrian\\u002fBicyclist\\u002fOther Pedestrian Error\\u002fConfusion\",\"Following Too Closely\",\"Unspecified\",\"Alcohol Involvement\",\"Passing Too Closely\",\"Unspecified\",\"Unspecified\",\"Passing or Lane Usage Improper\",\"Driver Inexperience\",\"Unspecified\",\"Unspecified\",\"Alcohol Involvement\",\"Unspecified\",\"Passing Too Closely\",\"Following Too Closely\",\"Driver Inattention\\u002fDistraction\",\"Turning Improperly\",\"Passing or Lane Usage Improper\",\"Reaction to Uninvolved Vehicle\",\"Other Vehicular\",\"Passing Too Closely\",\"Backing Unsafely\",\"Driver Inattention\\u002fDistraction\",\"Unspecified\",\"Turning Improperly\",\"Passing Too Closely\",\"Unspecified\",\"Lost Consciousness\",\"Unsafe Speed\",\"Unspecified\",\"Passing or Lane Usage Improper\",\"Driver Inattention\\u002fDistraction\",\"Driver Inattention\\u002fDistraction\",\"Following Too Closely\",\"Unspecified\",\"Driver Inattention\\u002fDistraction\",\"Driver Inexperience\",\"Alcohol Involvement\",\"Following Too Closely\",\"Traffic Control Disregarded\",\"Following Too Closely\",\"Unspecified\",\"Failure to Yield Right-of-Way\",\"Traffic Control Disregarded\",\"Other Vehicular\",\"Driver Inattention\\u002fDistraction\",\"Unspecified\",\"Driver Inattention\\u002fDistraction\",\"Unspecified\",\"Driver Inexperience\",\"Backing Unsafely\",\"Following Too Closely\",\"Passing or Lane Usage Improper\",\"Following Too Closely\",\"Other Vehicular\",\"Driver Inattention\\u002fDistraction\",\"Backing Unsafely\",\"Driver Inattention\\u002fDistraction\",\"Passing Too Closely\",\"Lost Consciousness\",\"Driver Inattention\\u002fDistraction\",\"Following Too Closely\",\"Backing Unsafely\",\"Unspecified\",\"Driver Inattention\\u002fDistraction\",\"Unsafe Speed\",\"Failure to Yield Right-of-Way\",\"Driver Inattention\\u002fDistraction\",\"Failure to Yield Right-of-Way\",\"Driver Inattention\\u002fDistraction\",\"Passing Too Closely\",\"Obstruction\\u002fDebris\",\"Driver Inexperience\",\"Turning Improperly\",\"Unspecified\",\"View Obstructed\\u002fLimited\",\"Unspecified\",\"Unspecified\",\"Passing or Lane Usage Improper\",\"Unspecified\",\"Driver Inattention\\u002fDistraction\",\"Lost Consciousness\",\"Aggressive Driving\\u002fRoad Rage\",\"Backing Unsafely\",\"Unspecified\",\"Unsafe Lane Changing\",\"Unspecified\",\"Driver Inattention\\u002fDistraction\",\"Driver Inattention\\u002fDistraction\",\"Unsafe Speed\",\"Alcohol Involvement\",\"Failure to Yield Right-of-Way\",\"Unsafe Speed\",\"Traffic Control Disregarded\",\"Failure to Yield Right-of-Way\",\"Driver Inattention\\u002fDistraction\",\"Unsafe Speed\",\"Unspecified\",\"Unspecified\",\"Driver Inattention\\u002fDistraction\",\"Passing Too Closely\",\"Turning Improperly\",\"Unsafe Speed\",\"Passing Too Closely\",\"Passing or Lane Usage Improper\",\"Failure to Yield Right-of-Way\",\"Driver Inattention\\u002fDistraction\",\"Driver Inattention\\u002fDistraction\",\"Backing Unsafely\",\"Driver Inattention\\u002fDistraction\",\"Driver Inattention\\u002fDistraction\",\"Unspecified\",\"Driver Inexperience\",\"Driver Inattention\\u002fDistraction\",\"Other Vehicular\",\"Unspecified\",\"Passing or Lane Usage Improper\",\"Driver Inattention\\u002fDistraction\",\"Driver Inattention\\u002fDistraction\",\"Following Too Closely\",\"Driver Inattention\\u002fDistraction\",\"Unspecified\",\"Passing or Lane Usage Improper\",\"Driver Inattention\\u002fDistraction\",\"Driver Inattention\\u002fDistraction\",\"Unspecified\",\"Unspecified\",\"Driver Inattention\\u002fDistraction\",\"Failure to Yield Right-of-Way\",\"Driver Inexperience\",\"Driver Inexperience\",\"Passing or Lane Usage Improper\",\"Driver Inexperience\",\"Unspecified\",\"Following Too Closely\",\"Pavement Slippery\",\"Unsafe Lane Changing\",\"Tinted Windows\",\"Driver Inattention\\u002fDistraction\",\"Passing Too Closely\",\"Driver Inattention\\u002fDistraction\",\"Following Too Closely\",\"Driver Inattention\\u002fDistraction\",\"Aggressive Driving\\u002fRoad Rage\",\"Failure to Yield Right-of-Way\",\"Unsafe Lane Changing\",\"Following Too Closely\",\"Unspecified\",\"Driver Inattention\\u002fDistraction\",\"Driver Inattention\\u002fDistraction\",\"Fell Asleep\",\"Passing Too Closely\",\"Unspecified\",\"Passing or Lane Usage Improper\",\"Driver Inattention\\u002fDistraction\",\"Unspecified\",\"Following Too Closely\",\"Unspecified\",\"Passing or Lane Usage Improper\",\"Driver Inattention\\u002fDistraction\",\"Unspecified\",\"Backing Unsafely\",\"Unspecified\",\"Following Too Closely\",\"Driver Inattention\\u002fDistraction\",\"Unspecified\",\"Unsafe Lane Changing\",\"Unspecified\",\"Unsafe Speed\",\"Driver Inattention\\u002fDistraction\",\"Driver Inattention\\u002fDistraction\",\"Driver Inexperience\",\"Backing Unsafely\",\"Unsafe Speed\",\"Failure to Yield Right-of-Way\",\"Unspecified\",\"Unspecified\",\"Unspecified\",\"Unsafe Speed\",\"Unsafe Lane Changing\",\"Driver Inattention\\u002fDistraction\",\"Passing or Lane Usage Improper\",\"Driver Inattention\\u002fDistraction\",\"Pedestrian\\u002fBicyclist\\u002fOther Pedestrian Error\\u002fConfusion\",\"Driver Inattention\\u002fDistraction\",\"Unsafe Speed\",\"Driver Inattention\\u002fDistraction\",\"Passing Too Closely\",\"Unspecified\",\"Driver Inattention\\u002fDistraction\",\"Failure to Yield Right-of-Way\",\"Driver Inattention\\u002fDistraction\",\"Following Too Closely\",\"Driver Inexperience\",\"Driver Inattention\\u002fDistraction\",\"Unspecified\",\"Driver Inattention\\u002fDistraction\",\"Driver Inattention\\u002fDistraction\",\"Driver Inexperience\",\"Driver Inattention\\u002fDistraction\",\"Unspecified\",\"Driver Inattention\\u002fDistraction\",\"Unsafe Speed\",\"Unspecified\",\"Unspecified\",\"Driver Inattention\\u002fDistraction\",\"Following Too Closely\",\"Unspecified\",\"Passing Too Closely\",\"Failure to Yield Right-of-Way\",\"Unsafe Speed\",\"Traffic Control Disregarded\",\"Animals Action\",\"Passing Too Closely\",\"Driver Inattention\\u002fDistraction\",\"Driver Inattention\\u002fDistraction\",\"Pedestrian\\u002fBicyclist\\u002fOther Pedestrian Error\\u002fConfusion\",\"Reaction to Uninvolved Vehicle\",\"Driver Inattention\\u002fDistraction\",\"Driver Inattention\\u002fDistraction\",\"Passing or Lane Usage Improper\",\"Driver Inattention\\u002fDistraction\",\"Unspecified\",\"Following Too Closely\",\"Driver Inexperience\",\"Failure to Yield Right-of-Way\",\"Driver Inattention\\u002fDistraction\",\"Following Too Closely\",\"Brakes Defective\",\"Driver Inattention\\u002fDistraction\",\"Following Too Closely\",\"Passing Too Closely\",\"Turning Improperly\",\"Unspecified\",\"Driver Inexperience\",\"Unspecified\",\"Unsafe Speed\",\"Following Too Closely\",\"Backing Unsafely\",\"Driver Inattention\\u002fDistraction\",\"Driver Inattention\\u002fDistraction\",\"Unsafe Speed\",\"Unspecified\",\"Driver Inattention\\u002fDistraction\",\"Passing or Lane Usage Improper\",\"Passing Too Closely\",\"Driver Inattention\\u002fDistraction\",\"Passing Too Closely\",\"Unspecified\",\"View Obstructed\\u002fLimited\",\"Steering Failure\",\"Failure to Yield Right-of-Way\",\"Unspecified\",\"Unspecified\",\"Traffic Control Disregarded\",\"Unspecified\",\"Passing or Lane Usage Improper\",\"Drugs (illegal)\",\"Other Vehicular\",\"Reaction to Uninvolved Vehicle\",\"Following Too Closely\",\"Driver Inattention\\u002fDistraction\",\"Turning Improperly\",\"Traffic Control Disregarded\",\"Unspecified\",\"Unspecified\",\"Unspecified\",\"Unspecified\",\"Aggressive Driving\\u002fRoad Rage\",\"Driver Inattention\\u002fDistraction\",\"Unsafe Speed\",\"Following Too Closely\",\"Driver Inattention\\u002fDistraction\",\"Failure to Yield Right-of-Way\",\"Passing Too Closely\",\"Driver Inattention\\u002fDistraction\",\"Driver Inattention\\u002fDistraction\",\"Failure to Yield Right-of-Way\",\"Turning Improperly\",\"Driver Inattention\\u002fDistraction\",\"Driver Inattention\\u002fDistraction\",\"Unspecified\",\"Reaction to Uninvolved Vehicle\",\"Unspecified\",\"Reaction to Uninvolved Vehicle\",\"Backing Unsafely\",\"Unspecified\",\"Unsafe Speed\",\"Driver Inattention\\u002fDistraction\",\"Unspecified\",\"Driver Inattention\\u002fDistraction\",\"Failure to Yield Right-of-Way\",\"Unspecified\",\"Driver Inexperience\",\"Driver Inattention\\u002fDistraction\",\"Driver Inattention\\u002fDistraction\",\"Following Too Closely\",\"Failure to Yield Right-of-Way\",\"Following Too Closely\",\"Unspecified\",\"Unspecified\",\"Failure to Yield Right-of-Way\",\"Driver Inattention\\u002fDistraction\",\"Driver Inattention\\u002fDistraction\",\"Failure to Yield Right-of-Way\",\"Failure to Yield Right-of-Way\",\"Unspecified\",\"Backing Unsafely\",\"Passing Too Closely\",\"Driver Inattention\\u002fDistraction\",\"Driver Inattention\\u002fDistraction\",\"Driver Inattention\\u002fDistraction\",\"Driver Inattention\\u002fDistraction\",\"Failure to Yield Right-of-Way\",\"Unspecified\",\"Passing or Lane Usage Improper\",\"Reaction to Uninvolved Vehicle\",\"Passing Too Closely\",\"Driver Inattention\\u002fDistraction\",\"Steering Failure\",\"Unspecified\",\"Fell Asleep\",\"Driver Inattention\\u002fDistraction\",\"Driver Inattention\\u002fDistraction\",\"Driver Inattention\\u002fDistraction\",\"View Obstructed\\u002fLimited\",\"Driver Inattention\\u002fDistraction\",\"Driver Inattention\\u002fDistraction\",\"Backing Unsafely\",\"Failure to Yield Right-of-Way\",\"Unspecified\",\"Driver Inexperience\",\"Unspecified\",\"Driver Inattention\\u002fDistraction\",\"Unspecified\",\"Unspecified\",\"Unspecified\",\"Unspecified\",\"Pedestrian\\u002fBicyclist\\u002fOther Pedestrian Error\\u002fConfusion\",\"Unspecified\",\"Driver Inattention\\u002fDistraction\",\"Driver Inattention\\u002fDistraction\",\"Passing Too Closely\",\"Alcohol Involvement\",\"Driver Inexperience\",\"Unspecified\",\"Failure to Yield Right-of-Way\",\"Driver Inexperience\",\"Driver Inattention\\u002fDistraction\",\"Unspecified\",\"Pedestrian\\u002fBicyclist\\u002fOther Pedestrian Error\\u002fConfusion\",\"Backing Unsafely\",\"Failure to Yield Right-of-Way\",\"View Obstructed\\u002fLimited\",\"Driver Inattention\\u002fDistraction\",\"Passing or Lane Usage Improper\",\"Driver Inattention\\u002fDistraction\",\"Passing or Lane Usage Improper\",\"Driver Inattention\\u002fDistraction\",\"Traffic Control Disregarded\",\"Failure to Yield Right-of-Way\",\"Driver Inattention\\u002fDistraction\",\"Driver Inattention\\u002fDistraction\",\"Unspecified\",\"Passing or Lane Usage Improper\",\"Driver Inattention\\u002fDistraction\",\"Unspecified\",\"Other Vehicular\",\"Driver Inattention\\u002fDistraction\",\"Turning Improperly\",\"Unsafe Speed\",\"Unspecified\",\"Following Too Closely\",\"Failure to Yield Right-of-Way\",\"Backing Unsafely\",\"Alcohol Involvement\",\"Driver Inexperience\",\"Driver Inattention\\u002fDistraction\",\"Driver Inattention\\u002fDistraction\",\"Passing or Lane Usage Improper\",\"Driver Inattention\\u002fDistraction\",\"Passing or Lane Usage Improper\",\"Unspecified\",\"Unspecified\",\"Unspecified\",\"Turning Improperly\",\"Traffic Control Disregarded\",\"Driver Inattention\\u002fDistraction\",\"Following Too Closely\",\"Backing Unsafely\",\"Unsafe Speed\",\"Following Too Closely\",\"Passing Too Closely\",\"Passing or Lane Usage Improper\",\"Unspecified\",\"Passing or Lane Usage Improper\",\"Passing or Lane Usage Improper\",\"Unspecified\",\"Unspecified\",\"Failure to Yield Right-of-Way\",\"Reaction to Uninvolved Vehicle\",\"Unspecified\",\"Unsafe Lane Changing\",\"Driver Inattention\\u002fDistraction\",\"Unspecified\",\"Unspecified\",\"Following Too Closely\",\"Driver Inexperience\",\"Driver Inattention\\u002fDistraction\",\"Other Vehicular\",\"Passing or Lane Usage Improper\",\"Driver Inattention\\u002fDistraction\",\"Driver Inattention\\u002fDistraction\",\"Following Too Closely\",\"Unspecified\",\"Driver Inattention\\u002fDistraction\",\"Unspecified\",\"Failure to Yield Right-of-Way\",\"Passing or Lane Usage Improper\",\"Driver Inattention\\u002fDistraction\",\"Unspecified\",\"Following Too Closely\",\"Failure to Yield Right-of-Way\",\"Passing Too Closely\",\"Driver Inattention\\u002fDistraction\",\"Unspecified\",\"Passing or Lane Usage Improper\",\"Following Too Closely\",\"Turning Improperly\",\"Driver Inattention\\u002fDistraction\",\"Unspecified\",\"Passing Too Closely\",\"Failure to Yield Right-of-Way\",\"Unspecified\",\"View Obstructed\\u002fLimited\",\"Unspecified\",\"Following Too Closely\",\"Pavement Slippery\",\"Unspecified\",\"Driver Inattention\\u002fDistraction\",\"Unspecified\",\"Driver Inattention\\u002fDistraction\",\"Driver Inattention\\u002fDistraction\",\"Unspecified\",\"Following Too Closely\",\"Unsafe Speed\",\"Backing Unsafely\",\"Failure to Yield Right-of-Way\",\"Pedestrian\\u002fBicyclist\\u002fOther Pedestrian Error\\u002fConfusion\",\"Unsafe Lane Changing\",\"Unspecified\",\"Passing or Lane Usage Improper\",\"Pavement Defective\",\"Unspecified\",\"Unspecified\",\"Backing Unsafely\",\"Other Lighting Defects\",\"Unspecified\",\"Unspecified\",\"Reaction to Uninvolved Vehicle\",\"Driver Inattention\\u002fDistraction\",\"Failure to Yield Right-of-Way\",\"Unspecified\",\"Following Too Closely\",\"Unspecified\",\"Driver Inattention\\u002fDistraction\",\"Driver Inattention\\u002fDistraction\",\"Passing or Lane Usage Improper\",\"Unspecified\",\"Unspecified\",\"Unspecified\",\"Driver Inattention\\u002fDistraction\",\"Driver Inattention\\u002fDistraction\",\"Unsafe Lane Changing\",\"Unspecified\",\"Failure to Yield Right-of-Way\",\"Driver Inattention\\u002fDistraction\",\"Brakes Defective\",\"Fell Asleep\",\"Driver Inattention\\u002fDistraction\",\"Driver Inattention\\u002fDistraction\",\"Traffic Control Disregarded\",\"Unspecified\",\"Obstruction\\u002fDebris\",\"Oversized Vehicle\",\"Animals Action\",\"Passing Too Closely\",\"Unspecified\",\"Driver Inattention\\u002fDistraction\",\"Failure to Yield Right-of-Way\",\"Traffic Control Disregarded\",\"Passing Too Closely\",\"Unspecified\",\"Passing Too Closely\",\"Driver Inattention\\u002fDistraction\",\"Driver Inattention\\u002fDistraction\",\"Driver Inattention\\u002fDistraction\",\"Failure to Yield Right-of-Way\",\"Unspecified\",\"Passing or Lane Usage Improper\",\"Passing Too Closely\",\"Unspecified\",\"Driver Inattention\\u002fDistraction\",\"Passing or Lane Usage Improper\",\"Passing or Lane Usage Improper\",\"Unsafe Lane Changing\",\"Driver Inattention\\u002fDistraction\",\"Failure to Yield Right-of-Way\",\"Following Too Closely\",\"Unspecified\",\"Unsafe Lane Changing\",\"Unsafe Lane Changing\",\"Unspecified\",\"Failure to Yield Right-of-Way\",\"Turning Improperly\",\"Unspecified\",\"Passing or Lane Usage Improper\",\"Following Too Closely\",\"Passing Too Closely\",\"Traffic Control Disregarded\",\"Outside Car Distraction\",\"Unspecified\",\"Turning Improperly\",\"Unspecified\",\"Driver Inattention\\u002fDistraction\",\"Alcohol Involvement\",\"Reaction to Uninvolved Vehicle\",\"Unspecified\",\"Unspecified\",\"Driver Inattention\\u002fDistraction\",\"Driver Inattention\\u002fDistraction\",\"Driver Inattention\\u002fDistraction\",\"Unspecified\",\"Driver Inattention\\u002fDistraction\",\"Unspecified\",\"Reaction to Uninvolved Vehicle\",\"Following Too Closely\",\"Passing Too Closely\",\"Reaction to Uninvolved Vehicle\",\"Unspecified\",\"Unsafe Lane Changing\",\"Unspecified\",\"Illnes\",\"Unsafe Speed\",\"Driver Inattention\\u002fDistraction\",\"Following Too Closely\",\"Unsafe Speed\",\"Unspecified\",\"Alcohol Involvement\",\"Unsafe Speed\",\"Unspecified\",\"Failure to Yield Right-of-Way\",\"Unsafe Speed\",\"Following Too Closely\",\"Failure to Yield Right-of-Way\",\"Driver Inattention\\u002fDistraction\",\"Unspecified\",\"Following Too Closely\",\"Unspecified\",\"Driver Inattention\\u002fDistraction\",\"Passing Too Closely\",\"Passing or Lane Usage Improper\",\"Driver Inattention\\u002fDistraction\",\"Unspecified\",\"Driver Inattention\\u002fDistraction\",\"Unsafe Speed\",\"Passing or Lane Usage Improper\",\"Unsafe Speed\",\"Unspecified\",\"Unspecified\",\"Unspecified\",\"Other Vehicular\",\"Reaction to Uninvolved Vehicle\",\"Unspecified\",\"Driver Inattention\\u002fDistraction\",\"Following Too Closely\",\"Unspecified\",\"Unspecified\",\"Unspecified\",\"Failure to Yield Right-of-Way\",\"Unspecified\",\"Unspecified\",\"Driver Inattention\\u002fDistraction\",\"Unspecified\",\"Failure to Yield Right-of-Way\",\"Unspecified\",\"Other Vehicular\",\"Unspecified\",\"Unsafe Lane Changing\",\"Failure to Yield Right-of-Way\",\"Unspecified\",\"Driver Inattention\\u002fDistraction\",\"Unspecified\",\"Unspecified\",\"Pavement Slippery\",\"Unspecified\",\"Passing Too Closely\",\"Unspecified\",\"Unspecified\",\"Following Too Closely\",\"Turning Improperly\",\"Traffic Control Disregarded\",\"Other Vehicular\",\"Unspecified\",\"Unspecified\",\"Unspecified\",\"Driver Inattention\\u002fDistraction\",\"Following Too Closely\",\"Driver Inattention\\u002fDistraction\",\"Following Too Closely\",\"Pedestrian\\u002fBicyclist\\u002fOther Pedestrian Error\\u002fConfusion\",\"Driver Inattention\\u002fDistraction\",\"Unspecified\",\"Traffic Control Disregarded\",\"Driver Inattention\\u002fDistraction\",\"Unsafe Lane Changing\",\"Driver Inattention\\u002fDistraction\",\"Following Too Closely\",\"Passing Too Closely\",\"Unsafe Speed\",\"Traffic Control Disregarded\",\"Following Too Closely\",\"Unspecified\",\"Driver Inattention\\u002fDistraction\",\"Following Too Closely\",\"Passing Too Closely\",\"Following Too Closely\",\"Unsafe Lane Changing\",\"Driver Inattention\\u002fDistraction\",\"Following Too Closely\",\"Passing Too Closely\",\"Unspecified\",\"Failure to Yield Right-of-Way\",\"Failure to Yield Right-of-Way\",\"Unspecified\",\"Driver Inattention\\u002fDistraction\",\"Unspecified\",\"Unspecified\",\"Driver Inattention\\u002fDistraction\",\"Driver Inattention\\u002fDistraction\",\"Unspecified\",\"Driver Inattention\\u002fDistraction\",\"Driver Inattention\\u002fDistraction\",\"Unspecified\",\"Pedestrian\\u002fBicyclist\\u002fOther Pedestrian Error\\u002fConfusion\",\"Driver Inattention\\u002fDistraction\",\"Driverless\\u002fRunaway Vehicle\",\"Driver Inattention\\u002fDistraction\",\"Unsafe Speed\",\"Unspecified\",\"Traffic Control Disregarded\",\"Driver Inattention\\u002fDistraction\",\"Unspecified\",\"Failure to Yield Right-of-Way\",\"Failure to Yield Right-of-Way\",\"Driver Inexperience\",\"Unspecified\",\"Unspecified\",\"Driver Inattention\\u002fDistraction\",\"Failure to Yield Right-of-Way\",\"Unspecified\",\"Driver Inattention\\u002fDistraction\",\"Passing Too Closely\",\"Driver Inattention\\u002fDistraction\",\"Turning Improperly\",\"Unspecified\",\"Driver Inattention\\u002fDistraction\",\"Pavement Slippery\",\"Unspecified\",\"Unsafe Speed\",\"Aggressive Driving\\u002fRoad Rage\",\"Unspecified\",\"Passing or Lane Usage Improper\",\"Failure to Yield Right-of-Way\",\"Failure to Yield Right-of-Way\",\"Driver Inattention\\u002fDistraction\",\"Passing or Lane Usage Improper\",\"Driver Inattention\\u002fDistraction\",\"Traffic Control Disregarded\",\"Passing Too Closely\",\"Failure to Yield Right-of-Way\",\"Driver Inattention\\u002fDistraction\",\"Unspecified\",\"Following Too Closely\",\"Following Too Closely\",\"Driver Inattention\\u002fDistraction\",\"Traffic Control Disregarded\",\"Unspecified\",\"Unspecified\",\"Unspecified\",\"Passing or Lane Usage Improper\",\"Driver Inattention\\u002fDistraction\",\"Unspecified\",\"Unspecified\",\"Following Too Closely\",\"Unspecified\",\"Unspecified\",\"Other Vehicular\",\"Traffic Control Disregarded\",\"Driver Inattention\\u002fDistraction\",\"Passing Too Closely\",\"Failure to Yield Right-of-Way\",\"Backing Unsafely\",\"Driver Inattention\\u002fDistraction\",\"Unspecified\",\"Unsafe Speed\",\"Driver Inattention\\u002fDistraction\",\"Other Vehicular\",\"Reaction to Uninvolved Vehicle\",\"Alcohol Involvement\",\"Driver Inattention\\u002fDistraction\",\"Turning Improperly\",\"Following Too Closely\",\"Passing or Lane Usage Improper\",\"Driver Inattention\\u002fDistraction\",\"Other Vehicular\",\"Turning Improperly\",\"Unsafe Lane Changing\",\"Following Too Closely\",\"Passing or Lane Usage Improper\",\"Unsafe Speed\",\"Driver Inattention\\u002fDistraction\",\"Following Too Closely\",\"Driver Inattention\\u002fDistraction\",\"Driver Inattention\\u002fDistraction\",\"Driver Inattention\\u002fDistraction\",\"Unspecified\",\"Backing Unsafely\",\"Backing Unsafely\",\"Unspecified\",\"Unspecified\",\"Driver Inattention\\u002fDistraction\",\"Unspecified\",\"Failure to Yield Right-of-Way\",\"Following Too Closely\",\"Unspecified\",\"Driver Inattention\\u002fDistraction\",\"Driver Inattention\\u002fDistraction\",\"Other Vehicular\",\"Driver Inattention\\u002fDistraction\",\"Driver Inattention\\u002fDistraction\",\"Traffic Control Disregarded\",\"Driver Inattention\\u002fDistraction\",\"Passing Too Closely\",\"Failure to Yield Right-of-Way\",\"Unspecified\",\"Passing Too Closely\",\"Driver Inattention\\u002fDistraction\",\"Driver Inattention\\u002fDistraction\",\"Passing or Lane Usage Improper\",\"Unspecified\",\"Unspecified\",\"Driver Inattention\\u002fDistraction\",\"Passing or Lane Usage Improper\",\"Driver Inattention\\u002fDistraction\",\"Driver Inattention\\u002fDistraction\",\"Passing Too Closely\",\"Unspecified\",\"Following Too Closely\",\"Driver Inattention\\u002fDistraction\",\"Traffic Control Disregarded\",\"Passing Too Closely\",\"Traffic Control Disregarded\",\"Passing or Lane Usage Improper\",\"Unspecified\",\"Turning Improperly\",\"Backing Unsafely\",\"Driver Inattention\\u002fDistraction\",\"Following Too Closely\",\"Unspecified\"],\"xaxis\":\"x\",\"yaxis\":\"y\",\"type\":\"histogram\"}],                        {\"template\":{\"data\":{\"histogram2dcontour\":[{\"type\":\"histogram2dcontour\",\"colorbar\":{\"outlinewidth\":0,\"ticks\":\"\"},\"colorscale\":[[0.0,\"#0d0887\"],[0.1111111111111111,\"#46039f\"],[0.2222222222222222,\"#7201a8\"],[0.3333333333333333,\"#9c179e\"],[0.4444444444444444,\"#bd3786\"],[0.5555555555555556,\"#d8576b\"],[0.6666666666666666,\"#ed7953\"],[0.7777777777777778,\"#fb9f3a\"],[0.8888888888888888,\"#fdca26\"],[1.0,\"#f0f921\"]]}],\"choropleth\":[{\"type\":\"choropleth\",\"colorbar\":{\"outlinewidth\":0,\"ticks\":\"\"}}],\"histogram2d\":[{\"type\":\"histogram2d\",\"colorbar\":{\"outlinewidth\":0,\"ticks\":\"\"},\"colorscale\":[[0.0,\"#0d0887\"],[0.1111111111111111,\"#46039f\"],[0.2222222222222222,\"#7201a8\"],[0.3333333333333333,\"#9c179e\"],[0.4444444444444444,\"#bd3786\"],[0.5555555555555556,\"#d8576b\"],[0.6666666666666666,\"#ed7953\"],[0.7777777777777778,\"#fb9f3a\"],[0.8888888888888888,\"#fdca26\"],[1.0,\"#f0f921\"]]}],\"heatmap\":[{\"type\":\"heatmap\",\"colorbar\":{\"outlinewidth\":0,\"ticks\":\"\"},\"colorscale\":[[0.0,\"#0d0887\"],[0.1111111111111111,\"#46039f\"],[0.2222222222222222,\"#7201a8\"],[0.3333333333333333,\"#9c179e\"],[0.4444444444444444,\"#bd3786\"],[0.5555555555555556,\"#d8576b\"],[0.6666666666666666,\"#ed7953\"],[0.7777777777777778,\"#fb9f3a\"],[0.8888888888888888,\"#fdca26\"],[1.0,\"#f0f921\"]]}],\"heatmapgl\":[{\"type\":\"heatmapgl\",\"colorbar\":{\"outlinewidth\":0,\"ticks\":\"\"},\"colorscale\":[[0.0,\"#0d0887\"],[0.1111111111111111,\"#46039f\"],[0.2222222222222222,\"#7201a8\"],[0.3333333333333333,\"#9c179e\"],[0.4444444444444444,\"#bd3786\"],[0.5555555555555556,\"#d8576b\"],[0.6666666666666666,\"#ed7953\"],[0.7777777777777778,\"#fb9f3a\"],[0.8888888888888888,\"#fdca26\"],[1.0,\"#f0f921\"]]}],\"contourcarpet\":[{\"type\":\"contourcarpet\",\"colorbar\":{\"outlinewidth\":0,\"ticks\":\"\"}}],\"contour\":[{\"type\":\"contour\",\"colorbar\":{\"outlinewidth\":0,\"ticks\":\"\"},\"colorscale\":[[0.0,\"#0d0887\"],[0.1111111111111111,\"#46039f\"],[0.2222222222222222,\"#7201a8\"],[0.3333333333333333,\"#9c179e\"],[0.4444444444444444,\"#bd3786\"],[0.5555555555555556,\"#d8576b\"],[0.6666666666666666,\"#ed7953\"],[0.7777777777777778,\"#fb9f3a\"],[0.8888888888888888,\"#fdca26\"],[1.0,\"#f0f921\"]]}],\"surface\":[{\"type\":\"surface\",\"colorbar\":{\"outlinewidth\":0,\"ticks\":\"\"},\"colorscale\":[[0.0,\"#0d0887\"],[0.1111111111111111,\"#46039f\"],[0.2222222222222222,\"#7201a8\"],[0.3333333333333333,\"#9c179e\"],[0.4444444444444444,\"#bd3786\"],[0.5555555555555556,\"#d8576b\"],[0.6666666666666666,\"#ed7953\"],[0.7777777777777778,\"#fb9f3a\"],[0.8888888888888888,\"#fdca26\"],[1.0,\"#f0f921\"]]}],\"mesh3d\":[{\"type\":\"mesh3d\",\"colorbar\":{\"outlinewidth\":0,\"ticks\":\"\"}}],\"scatter\":[{\"fillpattern\":{\"fillmode\":\"overlay\",\"size\":10,\"solidity\":0.2},\"type\":\"scatter\"}],\"parcoords\":[{\"type\":\"parcoords\",\"line\":{\"colorbar\":{\"outlinewidth\":0,\"ticks\":\"\"}}}],\"scatterpolargl\":[{\"type\":\"scatterpolargl\",\"marker\":{\"colorbar\":{\"outlinewidth\":0,\"ticks\":\"\"}}}],\"bar\":[{\"error_x\":{\"color\":\"#2a3f5f\"},\"error_y\":{\"color\":\"#2a3f5f\"},\"marker\":{\"line\":{\"color\":\"#E5ECF6\",\"width\":0.5},\"pattern\":{\"fillmode\":\"overlay\",\"size\":10,\"solidity\":0.2}},\"type\":\"bar\"}],\"scattergeo\":[{\"type\":\"scattergeo\",\"marker\":{\"colorbar\":{\"outlinewidth\":0,\"ticks\":\"\"}}}],\"scatterpolar\":[{\"type\":\"scatterpolar\",\"marker\":{\"colorbar\":{\"outlinewidth\":0,\"ticks\":\"\"}}}],\"histogram\":[{\"marker\":{\"pattern\":{\"fillmode\":\"overlay\",\"size\":10,\"solidity\":0.2}},\"type\":\"histogram\"}],\"scattergl\":[{\"type\":\"scattergl\",\"marker\":{\"colorbar\":{\"outlinewidth\":0,\"ticks\":\"\"}}}],\"scatter3d\":[{\"type\":\"scatter3d\",\"line\":{\"colorbar\":{\"outlinewidth\":0,\"ticks\":\"\"}},\"marker\":{\"colorbar\":{\"outlinewidth\":0,\"ticks\":\"\"}}}],\"scattermapbox\":[{\"type\":\"scattermapbox\",\"marker\":{\"colorbar\":{\"outlinewidth\":0,\"ticks\":\"\"}}}],\"scatterternary\":[{\"type\":\"scatterternary\",\"marker\":{\"colorbar\":{\"outlinewidth\":0,\"ticks\":\"\"}}}],\"scattercarpet\":[{\"type\":\"scattercarpet\",\"marker\":{\"colorbar\":{\"outlinewidth\":0,\"ticks\":\"\"}}}],\"carpet\":[{\"aaxis\":{\"endlinecolor\":\"#2a3f5f\",\"gridcolor\":\"white\",\"linecolor\":\"white\",\"minorgridcolor\":\"white\",\"startlinecolor\":\"#2a3f5f\"},\"baxis\":{\"endlinecolor\":\"#2a3f5f\",\"gridcolor\":\"white\",\"linecolor\":\"white\",\"minorgridcolor\":\"white\",\"startlinecolor\":\"#2a3f5f\"},\"type\":\"carpet\"}],\"table\":[{\"cells\":{\"fill\":{\"color\":\"#EBF0F8\"},\"line\":{\"color\":\"white\"}},\"header\":{\"fill\":{\"color\":\"#C8D4E3\"},\"line\":{\"color\":\"white\"}},\"type\":\"table\"}],\"barpolar\":[{\"marker\":{\"line\":{\"color\":\"#E5ECF6\",\"width\":0.5},\"pattern\":{\"fillmode\":\"overlay\",\"size\":10,\"solidity\":0.2}},\"type\":\"barpolar\"}],\"pie\":[{\"automargin\":true,\"type\":\"pie\"}]},\"layout\":{\"autotypenumbers\":\"strict\",\"colorway\":[\"#636efa\",\"#EF553B\",\"#00cc96\",\"#ab63fa\",\"#FFA15A\",\"#19d3f3\",\"#FF6692\",\"#B6E880\",\"#FF97FF\",\"#FECB52\"],\"font\":{\"color\":\"#2a3f5f\"},\"hovermode\":\"closest\",\"hoverlabel\":{\"align\":\"left\"},\"paper_bgcolor\":\"white\",\"plot_bgcolor\":\"#E5ECF6\",\"polar\":{\"bgcolor\":\"#E5ECF6\",\"angularaxis\":{\"gridcolor\":\"white\",\"linecolor\":\"white\",\"ticks\":\"\"},\"radialaxis\":{\"gridcolor\":\"white\",\"linecolor\":\"white\",\"ticks\":\"\"}},\"ternary\":{\"bgcolor\":\"#E5ECF6\",\"aaxis\":{\"gridcolor\":\"white\",\"linecolor\":\"white\",\"ticks\":\"\"},\"baxis\":{\"gridcolor\":\"white\",\"linecolor\":\"white\",\"ticks\":\"\"},\"caxis\":{\"gridcolor\":\"white\",\"linecolor\":\"white\",\"ticks\":\"\"}},\"coloraxis\":{\"colorbar\":{\"outlinewidth\":0,\"ticks\":\"\"}},\"colorscale\":{\"sequential\":[[0.0,\"#0d0887\"],[0.1111111111111111,\"#46039f\"],[0.2222222222222222,\"#7201a8\"],[0.3333333333333333,\"#9c179e\"],[0.4444444444444444,\"#bd3786\"],[0.5555555555555556,\"#d8576b\"],[0.6666666666666666,\"#ed7953\"],[0.7777777777777778,\"#fb9f3a\"],[0.8888888888888888,\"#fdca26\"],[1.0,\"#f0f921\"]],\"sequentialminus\":[[0.0,\"#0d0887\"],[0.1111111111111111,\"#46039f\"],[0.2222222222222222,\"#7201a8\"],[0.3333333333333333,\"#9c179e\"],[0.4444444444444444,\"#bd3786\"],[0.5555555555555556,\"#d8576b\"],[0.6666666666666666,\"#ed7953\"],[0.7777777777777778,\"#fb9f3a\"],[0.8888888888888888,\"#fdca26\"],[1.0,\"#f0f921\"]],\"diverging\":[[0,\"#8e0152\"],[0.1,\"#c51b7d\"],[0.2,\"#de77ae\"],[0.3,\"#f1b6da\"],[0.4,\"#fde0ef\"],[0.5,\"#f7f7f7\"],[0.6,\"#e6f5d0\"],[0.7,\"#b8e186\"],[0.8,\"#7fbc41\"],[0.9,\"#4d9221\"],[1,\"#276419\"]]},\"xaxis\":{\"gridcolor\":\"white\",\"linecolor\":\"white\",\"ticks\":\"\",\"title\":{\"standoff\":15},\"zerolinecolor\":\"white\",\"automargin\":true,\"zerolinewidth\":2},\"yaxis\":{\"gridcolor\":\"white\",\"linecolor\":\"white\",\"ticks\":\"\",\"title\":{\"standoff\":15},\"zerolinecolor\":\"white\",\"automargin\":true,\"zerolinewidth\":2},\"scene\":{\"xaxis\":{\"backgroundcolor\":\"#E5ECF6\",\"gridcolor\":\"white\",\"linecolor\":\"white\",\"showbackground\":true,\"ticks\":\"\",\"zerolinecolor\":\"white\",\"gridwidth\":2},\"yaxis\":{\"backgroundcolor\":\"#E5ECF6\",\"gridcolor\":\"white\",\"linecolor\":\"white\",\"showbackground\":true,\"ticks\":\"\",\"zerolinecolor\":\"white\",\"gridwidth\":2},\"zaxis\":{\"backgroundcolor\":\"#E5ECF6\",\"gridcolor\":\"white\",\"linecolor\":\"white\",\"showbackground\":true,\"ticks\":\"\",\"zerolinecolor\":\"white\",\"gridwidth\":2}},\"shapedefaults\":{\"line\":{\"color\":\"#2a3f5f\"}},\"annotationdefaults\":{\"arrowcolor\":\"#2a3f5f\",\"arrowhead\":0,\"arrowwidth\":1},\"geo\":{\"bgcolor\":\"white\",\"landcolor\":\"#E5ECF6\",\"subunitcolor\":\"white\",\"showland\":true,\"showlakes\":true,\"lakecolor\":\"white\"},\"title\":{\"x\":0.05},\"mapbox\":{\"style\":\"light\"}}},\"xaxis\":{\"anchor\":\"y\",\"domain\":[0.0,1.0],\"title\":{\"text\":\"Contributing Factor\"},\"categoryorder\":\"total descending\"},\"yaxis\":{\"anchor\":\"x\",\"domain\":[0.0,1.0],\"title\":{\"text\":\"count\"}},\"legend\":{\"tracegroupgap\":0},\"title\":{\"text\":\"Frequency of Contributing Factors in Vehicle Crashes\"},\"barmode\":\"relative\",\"bargap\":0.2},                        {\"responsive\": true}                    ).then(function(){\n",
       "                            \n",
       "var gd = document.getElementById('9199fea6-598c-4dcc-8976-1c37c5a8aadf');\n",
       "var x = new MutationObserver(function (mutations, observer) {{\n",
       "        var display = window.getComputedStyle(gd).display;\n",
       "        if (!display || display === 'none') {{\n",
       "            console.log([gd, 'removed!']);\n",
       "            Plotly.purge(gd);\n",
       "            observer.disconnect();\n",
       "        }}\n",
       "}});\n",
       "\n",
       "// Listen for the removal of the full notebook cells\n",
       "var notebookContainer = gd.closest('#notebook-container');\n",
       "if (notebookContainer) {{\n",
       "    x.observe(notebookContainer, {childList: true});\n",
       "}}\n",
       "\n",
       "// Listen for the clearing of the current output cell\n",
       "var outputEl = gd.closest('.output');\n",
       "if (outputEl) {{\n",
       "    x.observe(outputEl, {childList: true});\n",
       "}}\n",
       "\n",
       "                        })                };                });            </script>        </div>"
      ]
     },
     "metadata": {},
     "output_type": "display_data"
    }
   ],
   "source": [
    "fig = px.histogram(\n",
    "    cleaned_data, \n",
    "    x = \"contributing_factor_vehicle_1\",\n",
    "    title=\"Frequency of Contributing Factors in Vehicle Crashes\",\n",
    "    labels = {\"contributing_factor_vehicle_1\": \"Contributing Factor\"},\n",
    "    text_auto = True,)\n",
    "\n",
    "fig.update_layout(\n",
    "    xaxis = {'categoryorder':'total descending'}, # sort by frequency\n",
    "    bargap = 0.2\n",
    "    )\n",
    "fig.show()"
   ]
  },
  {
   "cell_type": "code",
   "execution_count": 21,
   "metadata": {},
   "outputs": [
    {
     "data": {
      "text/html": [
       "<div>\n",
       "<style scoped>\n",
       "    .dataframe tbody tr th:only-of-type {\n",
       "        vertical-align: middle;\n",
       "    }\n",
       "\n",
       "    .dataframe tbody tr th {\n",
       "        vertical-align: top;\n",
       "    }\n",
       "\n",
       "    .dataframe thead th {\n",
       "        text-align: right;\n",
       "    }\n",
       "</style>\n",
       "<table border=\"1\" class=\"dataframe\">\n",
       "  <thead>\n",
       "    <tr style=\"text-align: right;\">\n",
       "      <th></th>\n",
       "      <th>fiscal_year</th>\n",
       "      <th>payroll_number</th>\n",
       "      <th>agency_name</th>\n",
       "      <th>last_name</th>\n",
       "      <th>first_name</th>\n",
       "      <th>mid_init</th>\n",
       "      <th>agency_start_date</th>\n",
       "      <th>work_location_borough</th>\n",
       "      <th>title_description</th>\n",
       "      <th>leave_status_as_of_june_30</th>\n",
       "      <th>base_salary</th>\n",
       "      <th>pay_basis</th>\n",
       "      <th>regular_hours</th>\n",
       "      <th>regular_gross_paid</th>\n",
       "      <th>ot_hours</th>\n",
       "      <th>total_ot_paid</th>\n",
       "      <th>total_other_pay</th>\n",
       "    </tr>\n",
       "  </thead>\n",
       "  <tbody>\n",
       "    <tr>\n",
       "      <th>0</th>\n",
       "      <td>2024</td>\n",
       "      <td>67</td>\n",
       "      <td>ADMIN FOR CHILDREN'S SVCS</td>\n",
       "      <td>VIRUET</td>\n",
       "      <td>ADAM</td>\n",
       "      <td>X</td>\n",
       "      <td>2023-06-26T00:00:00.000</td>\n",
       "      <td>MANHATTAN</td>\n",
       "      <td>YOUTH DEVELOPMENT SPECIALIST</td>\n",
       "      <td>CEASED</td>\n",
       "      <td>50001.0</td>\n",
       "      <td>per Annum</td>\n",
       "      <td>64.0</td>\n",
       "      <td>1784.86</td>\n",
       "      <td>0.00</td>\n",
       "      <td>0.00</td>\n",
       "      <td>28.28</td>\n",
       "    </tr>\n",
       "    <tr>\n",
       "      <th>1</th>\n",
       "      <td>2024</td>\n",
       "      <td>67</td>\n",
       "      <td>ADMIN FOR CHILDREN'S SVCS</td>\n",
       "      <td>SCATURRO</td>\n",
       "      <td>DANIELLE</td>\n",
       "      <td>C</td>\n",
       "      <td>2023-10-23T00:00:00.000</td>\n",
       "      <td>MANHATTAN</td>\n",
       "      <td>COMMUNITY ASSOCIATE</td>\n",
       "      <td>ACTIVE</td>\n",
       "      <td>49615.0</td>\n",
       "      <td>per Annum</td>\n",
       "      <td>1190.0</td>\n",
       "      <td>31297.37</td>\n",
       "      <td>0.00</td>\n",
       "      <td>0.00</td>\n",
       "      <td>115.50</td>\n",
       "    </tr>\n",
       "    <tr>\n",
       "      <th>2</th>\n",
       "      <td>2024</td>\n",
       "      <td>67</td>\n",
       "      <td>ADMIN FOR CHILDREN'S SVCS</td>\n",
       "      <td>TAYLOR</td>\n",
       "      <td>MICHELE</td>\n",
       "      <td>NaN</td>\n",
       "      <td>2007-02-19T00:00:00.000</td>\n",
       "      <td>MANHATTAN</td>\n",
       "      <td>ADM MANAGER-NON-MGRL</td>\n",
       "      <td>CEASED</td>\n",
       "      <td>83568.0</td>\n",
       "      <td>per Annum</td>\n",
       "      <td>0.0</td>\n",
       "      <td>737.95</td>\n",
       "      <td>0.00</td>\n",
       "      <td>0.00</td>\n",
       "      <td>6.89</td>\n",
       "    </tr>\n",
       "    <tr>\n",
       "      <th>3</th>\n",
       "      <td>2024</td>\n",
       "      <td>67</td>\n",
       "      <td>ADMIN FOR CHILDREN'S SVCS</td>\n",
       "      <td>BERRY</td>\n",
       "      <td>MARIA</td>\n",
       "      <td>E</td>\n",
       "      <td>2023-11-20T00:00:00.000</td>\n",
       "      <td>QUEENS</td>\n",
       "      <td>CHILD PROTECTIVE SPECIALIST</td>\n",
       "      <td>ACTIVE</td>\n",
       "      <td>62043.0</td>\n",
       "      <td>per Annum</td>\n",
       "      <td>1050.0</td>\n",
       "      <td>31823.10</td>\n",
       "      <td>106.25</td>\n",
       "      <td>3969.23</td>\n",
       "      <td>27.88</td>\n",
       "    </tr>\n",
       "    <tr>\n",
       "      <th>4</th>\n",
       "      <td>2024</td>\n",
       "      <td>67</td>\n",
       "      <td>ADMIN FOR CHILDREN'S SVCS</td>\n",
       "      <td>AKINSULIRE</td>\n",
       "      <td>OLUWATOYIN</td>\n",
       "      <td>G</td>\n",
       "      <td>2023-11-20T00:00:00.000</td>\n",
       "      <td>QUEENS</td>\n",
       "      <td>CHILD PROTECTIVE SPECIALIST</td>\n",
       "      <td>CEASED</td>\n",
       "      <td>55463.0</td>\n",
       "      <td>per Annum</td>\n",
       "      <td>805.0</td>\n",
       "      <td>24397.34</td>\n",
       "      <td>44.00</td>\n",
       "      <td>1548.23</td>\n",
       "      <td>62.14</td>\n",
       "    </tr>\n",
       "  </tbody>\n",
       "</table>\n",
       "</div>"
      ],
      "text/plain": [
       "   fiscal_year  payroll_number                agency_name   last_name  \\\n",
       "0         2024              67  ADMIN FOR CHILDREN'S SVCS      VIRUET   \n",
       "1         2024              67  ADMIN FOR CHILDREN'S SVCS    SCATURRO   \n",
       "2         2024              67  ADMIN FOR CHILDREN'S SVCS      TAYLOR   \n",
       "3         2024              67  ADMIN FOR CHILDREN'S SVCS       BERRY   \n",
       "4         2024              67  ADMIN FOR CHILDREN'S SVCS  AKINSULIRE   \n",
       "\n",
       "   first_name mid_init        agency_start_date work_location_borough  \\\n",
       "0        ADAM        X  2023-06-26T00:00:00.000             MANHATTAN   \n",
       "1    DANIELLE        C  2023-10-23T00:00:00.000             MANHATTAN   \n",
       "2     MICHELE      NaN  2007-02-19T00:00:00.000             MANHATTAN   \n",
       "3       MARIA        E  2023-11-20T00:00:00.000                QUEENS   \n",
       "4  OLUWATOYIN        G  2023-11-20T00:00:00.000                QUEENS   \n",
       "\n",
       "              title_description leave_status_as_of_june_30  base_salary  \\\n",
       "0  YOUTH DEVELOPMENT SPECIALIST                     CEASED      50001.0   \n",
       "1           COMMUNITY ASSOCIATE                     ACTIVE      49615.0   \n",
       "2          ADM MANAGER-NON-MGRL                     CEASED      83568.0   \n",
       "3   CHILD PROTECTIVE SPECIALIST                     ACTIVE      62043.0   \n",
       "4   CHILD PROTECTIVE SPECIALIST                     CEASED      55463.0   \n",
       "\n",
       "   pay_basis  regular_hours  regular_gross_paid  ot_hours  total_ot_paid  \\\n",
       "0  per Annum           64.0             1784.86      0.00           0.00   \n",
       "1  per Annum         1190.0            31297.37      0.00           0.00   \n",
       "2  per Annum            0.0              737.95      0.00           0.00   \n",
       "3  per Annum         1050.0            31823.10    106.25        3969.23   \n",
       "4  per Annum          805.0            24397.34     44.00        1548.23   \n",
       "\n",
       "   total_other_pay  \n",
       "0            28.28  \n",
       "1           115.50  \n",
       "2             6.89  \n",
       "3            27.88  \n",
       "4            62.14  "
      ]
     },
     "execution_count": 21,
     "metadata": {},
     "output_type": "execute_result"
    }
   ],
   "source": [
    "url = 'https://data.cityofnewyork.us/resource/k397-673e.csv?$query=SELECT%0A%20%20%60fiscal_year%60%2C%0A%20%20%60payroll_number%60%2C%0A%20%20%60agency_name%60%2C%0A%20%20%60last_name%60%2C%0A%20%20%60first_name%60%2C%0A%20%20%60mid_init%60%2C%0A%20%20%60agency_start_date%60%2C%0A%20%20%60work_location_borough%60%2C%0A%20%20%60title_description%60%2C%0A%20%20%60leave_status_as_of_june_30%60%2C%0A%20%20%60base_salary%60%2C%0A%20%20%60pay_basis%60%2C%0A%20%20%60regular_hours%60%2C%0A%20%20%60regular_gross_paid%60%2C%0A%20%20%60ot_hours%60%2C%0A%20%20%60total_ot_paid%60%2C%0A%20%20%60total_other_pay%60%0AORDER%20BY%20%60agency_name%60%20ASC%20NULL%20LAST%2C%20%60fiscal_year%60%20DESC%20NULL%20FIRST'\n",
    "\n",
    "pay = pd.read_csv(url)\n",
    "pay.head()"
   ]
  },
  {
   "cell_type": "code",
   "execution_count": 27,
   "metadata": {},
   "outputs": [
    {
     "name": "stdout",
     "output_type": "stream",
     "text": [
      "<class 'pandas.core.frame.DataFrame'>\n",
      "RangeIndex: 1000 entries, 0 to 999\n",
      "Data columns (total 17 columns):\n",
      " #   Column                      Non-Null Count  Dtype  \n",
      "---  ------                      --------------  -----  \n",
      " 0   fiscal_year                 1000 non-null   int64  \n",
      " 1   payroll_number              1000 non-null   int64  \n",
      " 2   agency_name                 1000 non-null   object \n",
      " 3   last_name                   1000 non-null   object \n",
      " 4   first_name                  1000 non-null   object \n",
      " 5   mid_init                    724 non-null    object \n",
      " 6   agency_start_date           1000 non-null   object \n",
      " 7   work_location_borough       1000 non-null   object \n",
      " 8   title_description           1000 non-null   object \n",
      " 9   leave_status_as_of_june_30  1000 non-null   object \n",
      " 10  base_salary                 1000 non-null   float64\n",
      " 11  pay_basis                   1000 non-null   object \n",
      " 12  regular_hours               1000 non-null   float64\n",
      " 13  regular_gross_paid          1000 non-null   float64\n",
      " 14  ot_hours                    1000 non-null   float64\n",
      " 15  total_ot_paid               1000 non-null   float64\n",
      " 16  total_other_pay             1000 non-null   float64\n",
      "dtypes: float64(6), int64(2), object(9)\n",
      "memory usage: 132.9+ KB\n"
     ]
    }
   ],
   "source": [
    "pay.info()\n",
    "\n",
    "# we see that mid init has nulls "
   ]
  },
  {
   "cell_type": "code",
   "execution_count": 29,
   "metadata": {},
   "outputs": [
    {
     "data": {
      "text/html": [
       "<div>\n",
       "<style scoped>\n",
       "    .dataframe tbody tr th:only-of-type {\n",
       "        vertical-align: middle;\n",
       "    }\n",
       "\n",
       "    .dataframe tbody tr th {\n",
       "        vertical-align: top;\n",
       "    }\n",
       "\n",
       "    .dataframe thead th {\n",
       "        text-align: right;\n",
       "    }\n",
       "</style>\n",
       "<table border=\"1\" class=\"dataframe\">\n",
       "  <thead>\n",
       "    <tr style=\"text-align: right;\">\n",
       "      <th></th>\n",
       "      <th>fiscal_year</th>\n",
       "      <th>payroll_number</th>\n",
       "      <th>base_salary</th>\n",
       "      <th>regular_hours</th>\n",
       "      <th>regular_gross_paid</th>\n",
       "      <th>ot_hours</th>\n",
       "      <th>total_ot_paid</th>\n",
       "      <th>total_other_pay</th>\n",
       "    </tr>\n",
       "  </thead>\n",
       "  <tbody>\n",
       "    <tr>\n",
       "      <th>count</th>\n",
       "      <td>1000.0</td>\n",
       "      <td>1000.0</td>\n",
       "      <td>1000.000000</td>\n",
       "      <td>1000.000000</td>\n",
       "      <td>1000.000000</td>\n",
       "      <td>1000.000000</td>\n",
       "      <td>1000.000000</td>\n",
       "      <td>1000.000000</td>\n",
       "    </tr>\n",
       "    <tr>\n",
       "      <th>mean</th>\n",
       "      <td>2024.0</td>\n",
       "      <td>67.0</td>\n",
       "      <td>67179.737160</td>\n",
       "      <td>876.755140</td>\n",
       "      <td>33700.216410</td>\n",
       "      <td>33.888460</td>\n",
       "      <td>1343.928860</td>\n",
       "      <td>36.415820</td>\n",
       "    </tr>\n",
       "    <tr>\n",
       "      <th>std</th>\n",
       "      <td>0.0</td>\n",
       "      <td>0.0</td>\n",
       "      <td>20245.057219</td>\n",
       "      <td>707.420724</td>\n",
       "      <td>33817.532662</td>\n",
       "      <td>84.680374</td>\n",
       "      <td>4059.917968</td>\n",
       "      <td>34.911683</td>\n",
       "    </tr>\n",
       "    <tr>\n",
       "      <th>min</th>\n",
       "      <td>2024.0</td>\n",
       "      <td>67.0</td>\n",
       "      <td>27.160000</td>\n",
       "      <td>-144.000000</td>\n",
       "      <td>-3386.390000</td>\n",
       "      <td>-6.000000</td>\n",
       "      <td>-658.470000</td>\n",
       "      <td>0.000000</td>\n",
       "    </tr>\n",
       "    <tr>\n",
       "      <th>25%</th>\n",
       "      <td>2024.0</td>\n",
       "      <td>67.0</td>\n",
       "      <td>56300.000000</td>\n",
       "      <td>210.000000</td>\n",
       "      <td>5976.155000</td>\n",
       "      <td>0.000000</td>\n",
       "      <td>0.000000</td>\n",
       "      <td>6.415000</td>\n",
       "    </tr>\n",
       "    <tr>\n",
       "      <th>50%</th>\n",
       "      <td>2024.0</td>\n",
       "      <td>67.0</td>\n",
       "      <td>62043.000000</td>\n",
       "      <td>630.000000</td>\n",
       "      <td>17525.325000</td>\n",
       "      <td>4.500000</td>\n",
       "      <td>167.335000</td>\n",
       "      <td>25.895000</td>\n",
       "    </tr>\n",
       "    <tr>\n",
       "      <th>75%</th>\n",
       "      <td>2024.0</td>\n",
       "      <td>67.0</td>\n",
       "      <td>75193.000000</td>\n",
       "      <td>1750.000000</td>\n",
       "      <td>55868.687500</td>\n",
       "      <td>34.750000</td>\n",
       "      <td>1227.885000</td>\n",
       "      <td>59.435000</td>\n",
       "    </tr>\n",
       "    <tr>\n",
       "      <th>max</th>\n",
       "      <td>2024.0</td>\n",
       "      <td>67.0</td>\n",
       "      <td>167699.000000</td>\n",
       "      <td>2080.000000</td>\n",
       "      <td>153557.310000</td>\n",
       "      <td>1921.250000</td>\n",
       "      <td>103509.950000</td>\n",
       "      <td>115.500000</td>\n",
       "    </tr>\n",
       "  </tbody>\n",
       "</table>\n",
       "</div>"
      ],
      "text/plain": [
       "       fiscal_year  payroll_number    base_salary  regular_hours  \\\n",
       "count       1000.0          1000.0    1000.000000    1000.000000   \n",
       "mean        2024.0            67.0   67179.737160     876.755140   \n",
       "std            0.0             0.0   20245.057219     707.420724   \n",
       "min         2024.0            67.0      27.160000    -144.000000   \n",
       "25%         2024.0            67.0   56300.000000     210.000000   \n",
       "50%         2024.0            67.0   62043.000000     630.000000   \n",
       "75%         2024.0            67.0   75193.000000    1750.000000   \n",
       "max         2024.0            67.0  167699.000000    2080.000000   \n",
       "\n",
       "       regular_gross_paid     ot_hours  total_ot_paid  total_other_pay  \n",
       "count         1000.000000  1000.000000    1000.000000      1000.000000  \n",
       "mean         33700.216410    33.888460    1343.928860        36.415820  \n",
       "std          33817.532662    84.680374    4059.917968        34.911683  \n",
       "min          -3386.390000    -6.000000    -658.470000         0.000000  \n",
       "25%           5976.155000     0.000000       0.000000         6.415000  \n",
       "50%          17525.325000     4.500000     167.335000        25.895000  \n",
       "75%          55868.687500    34.750000    1227.885000        59.435000  \n",
       "max         153557.310000  1921.250000  103509.950000       115.500000  "
      ]
     },
     "execution_count": 29,
     "metadata": {},
     "output_type": "execute_result"
    }
   ],
   "source": [
    "pay.describe()"
   ]
  },
  {
   "cell_type": "code",
   "execution_count": 41,
   "metadata": {},
   "outputs": [
    {
     "data": {
      "text/html": [
       "<div>\n",
       "<style scoped>\n",
       "    .dataframe tbody tr th:only-of-type {\n",
       "        vertical-align: middle;\n",
       "    }\n",
       "\n",
       "    .dataframe tbody tr th {\n",
       "        vertical-align: top;\n",
       "    }\n",
       "\n",
       "    .dataframe thead th {\n",
       "        text-align: right;\n",
       "    }\n",
       "</style>\n",
       "<table border=\"1\" class=\"dataframe\">\n",
       "  <thead>\n",
       "    <tr style=\"text-align: right;\">\n",
       "      <th></th>\n",
       "      <th>base_salary</th>\n",
       "      <th>total_other_pay</th>\n",
       "      <th>fiscal_year</th>\n",
       "    </tr>\n",
       "  </thead>\n",
       "  <tbody>\n",
       "    <tr>\n",
       "      <th>0</th>\n",
       "      <td>50001.0</td>\n",
       "      <td>28.28</td>\n",
       "      <td>2024</td>\n",
       "    </tr>\n",
       "    <tr>\n",
       "      <th>1</th>\n",
       "      <td>49615.0</td>\n",
       "      <td>115.50</td>\n",
       "      <td>2024</td>\n",
       "    </tr>\n",
       "    <tr>\n",
       "      <th>2</th>\n",
       "      <td>83568.0</td>\n",
       "      <td>6.89</td>\n",
       "      <td>2024</td>\n",
       "    </tr>\n",
       "    <tr>\n",
       "      <th>3</th>\n",
       "      <td>62043.0</td>\n",
       "      <td>27.88</td>\n",
       "      <td>2024</td>\n",
       "    </tr>\n",
       "    <tr>\n",
       "      <th>4</th>\n",
       "      <td>55463.0</td>\n",
       "      <td>62.14</td>\n",
       "      <td>2024</td>\n",
       "    </tr>\n",
       "  </tbody>\n",
       "</table>\n",
       "</div>"
      ],
      "text/plain": [
       "   base_salary  total_other_pay  fiscal_year\n",
       "0      50001.0            28.28         2024\n",
       "1      49615.0           115.50         2024\n",
       "2      83568.0             6.89         2024\n",
       "3      62043.0            27.88         2024\n",
       "4      55463.0            62.14         2024"
      ]
     },
     "execution_count": 41,
     "metadata": {},
     "output_type": "execute_result"
    }
   ],
   "source": [
    "pay_clean = pay[[\"base_salary\", \"total_other_pay\", \"fiscal_year\"]]\n",
    "\n",
    "pay_clean.head()\n",
    "\n",
    "# if you put single bracket: you are indexing "
   ]
  },
  {
   "cell_type": "code",
   "execution_count": 43,
   "metadata": {},
   "outputs": [
    {
     "data": {
      "application/vnd.plotly.v1+json": {
       "config": {
        "plotlyServerURL": "https://plot.ly"
       },
       "data": [
        {
         "hovertemplate": "base_salary=%{x}<br>total_other_pay=%{y}<br>fiscal_year=%{marker.color}<extra></extra>",
         "legendgroup": "",
         "marker": {
          "color": [
           2024,
           2024,
           2024,
           2024,
           2024,
           2024,
           2024,
           2024,
           2024,
           2024,
           2024,
           2024,
           2024,
           2024,
           2024,
           2024,
           2024,
           2024,
           2024,
           2024,
           2024,
           2024,
           2024,
           2024,
           2024,
           2024,
           2024,
           2024,
           2024,
           2024,
           2024,
           2024,
           2024,
           2024,
           2024,
           2024,
           2024,
           2024,
           2024,
           2024,
           2024,
           2024,
           2024,
           2024,
           2024,
           2024,
           2024,
           2024,
           2024,
           2024,
           2024,
           2024,
           2024,
           2024,
           2024,
           2024,
           2024,
           2024,
           2024,
           2024,
           2024,
           2024,
           2024,
           2024,
           2024,
           2024,
           2024,
           2024,
           2024,
           2024,
           2024,
           2024,
           2024,
           2024,
           2024,
           2024,
           2024,
           2024,
           2024,
           2024,
           2024,
           2024,
           2024,
           2024,
           2024,
           2024,
           2024,
           2024,
           2024,
           2024,
           2024,
           2024,
           2024,
           2024,
           2024,
           2024,
           2024,
           2024,
           2024,
           2024,
           2024,
           2024,
           2024,
           2024,
           2024,
           2024,
           2024,
           2024,
           2024,
           2024,
           2024,
           2024,
           2024,
           2024,
           2024,
           2024,
           2024,
           2024,
           2024,
           2024,
           2024,
           2024,
           2024,
           2024,
           2024,
           2024,
           2024,
           2024,
           2024,
           2024,
           2024,
           2024,
           2024,
           2024,
           2024,
           2024,
           2024,
           2024,
           2024,
           2024,
           2024,
           2024,
           2024,
           2024,
           2024,
           2024,
           2024,
           2024,
           2024,
           2024,
           2024,
           2024,
           2024,
           2024,
           2024,
           2024,
           2024,
           2024,
           2024,
           2024,
           2024,
           2024,
           2024,
           2024,
           2024,
           2024,
           2024,
           2024,
           2024,
           2024,
           2024,
           2024,
           2024,
           2024,
           2024,
           2024,
           2024,
           2024,
           2024,
           2024,
           2024,
           2024,
           2024,
           2024,
           2024,
           2024,
           2024,
           2024,
           2024,
           2024,
           2024,
           2024,
           2024,
           2024,
           2024,
           2024,
           2024,
           2024,
           2024,
           2024,
           2024,
           2024,
           2024,
           2024,
           2024,
           2024,
           2024,
           2024,
           2024,
           2024,
           2024,
           2024,
           2024,
           2024,
           2024,
           2024,
           2024,
           2024,
           2024,
           2024,
           2024,
           2024,
           2024,
           2024,
           2024,
           2024,
           2024,
           2024,
           2024,
           2024,
           2024,
           2024,
           2024,
           2024,
           2024,
           2024,
           2024,
           2024,
           2024,
           2024,
           2024,
           2024,
           2024,
           2024,
           2024,
           2024,
           2024,
           2024,
           2024,
           2024,
           2024,
           2024,
           2024,
           2024,
           2024,
           2024,
           2024,
           2024,
           2024,
           2024,
           2024,
           2024,
           2024,
           2024,
           2024,
           2024,
           2024,
           2024,
           2024,
           2024,
           2024,
           2024,
           2024,
           2024,
           2024,
           2024,
           2024,
           2024,
           2024,
           2024,
           2024,
           2024,
           2024,
           2024,
           2024,
           2024,
           2024,
           2024,
           2024,
           2024,
           2024,
           2024,
           2024,
           2024,
           2024,
           2024,
           2024,
           2024,
           2024,
           2024,
           2024,
           2024,
           2024,
           2024,
           2024,
           2024,
           2024,
           2024,
           2024,
           2024,
           2024,
           2024,
           2024,
           2024,
           2024,
           2024,
           2024,
           2024,
           2024,
           2024,
           2024,
           2024,
           2024,
           2024,
           2024,
           2024,
           2024,
           2024,
           2024,
           2024,
           2024,
           2024,
           2024,
           2024,
           2024,
           2024,
           2024,
           2024,
           2024,
           2024,
           2024,
           2024,
           2024,
           2024,
           2024,
           2024,
           2024,
           2024,
           2024,
           2024,
           2024,
           2024,
           2024,
           2024,
           2024,
           2024,
           2024,
           2024,
           2024,
           2024,
           2024,
           2024,
           2024,
           2024,
           2024,
           2024,
           2024,
           2024,
           2024,
           2024,
           2024,
           2024,
           2024,
           2024,
           2024,
           2024,
           2024,
           2024,
           2024,
           2024,
           2024,
           2024,
           2024,
           2024,
           2024,
           2024,
           2024,
           2024,
           2024,
           2024,
           2024,
           2024,
           2024,
           2024,
           2024,
           2024,
           2024,
           2024,
           2024,
           2024,
           2024,
           2024,
           2024,
           2024,
           2024,
           2024,
           2024,
           2024,
           2024,
           2024,
           2024,
           2024,
           2024,
           2024,
           2024,
           2024,
           2024,
           2024,
           2024,
           2024,
           2024,
           2024,
           2024,
           2024,
           2024,
           2024,
           2024,
           2024,
           2024,
           2024,
           2024,
           2024,
           2024,
           2024,
           2024,
           2024,
           2024,
           2024,
           2024,
           2024,
           2024,
           2024,
           2024,
           2024,
           2024,
           2024,
           2024,
           2024,
           2024,
           2024,
           2024,
           2024,
           2024,
           2024,
           2024,
           2024,
           2024,
           2024,
           2024,
           2024,
           2024,
           2024,
           2024,
           2024,
           2024,
           2024,
           2024,
           2024,
           2024,
           2024,
           2024,
           2024,
           2024,
           2024,
           2024,
           2024,
           2024,
           2024,
           2024,
           2024,
           2024,
           2024,
           2024,
           2024,
           2024,
           2024,
           2024,
           2024,
           2024,
           2024,
           2024,
           2024,
           2024,
           2024,
           2024,
           2024,
           2024,
           2024,
           2024,
           2024,
           2024,
           2024,
           2024,
           2024,
           2024,
           2024,
           2024,
           2024,
           2024,
           2024,
           2024,
           2024,
           2024,
           2024,
           2024,
           2024,
           2024,
           2024,
           2024,
           2024,
           2024,
           2024,
           2024,
           2024,
           2024,
           2024,
           2024,
           2024,
           2024,
           2024,
           2024,
           2024,
           2024,
           2024,
           2024,
           2024,
           2024,
           2024,
           2024,
           2024,
           2024,
           2024,
           2024,
           2024,
           2024,
           2024,
           2024,
           2024,
           2024,
           2024,
           2024,
           2024,
           2024,
           2024,
           2024,
           2024,
           2024,
           2024,
           2024,
           2024,
           2024,
           2024,
           2024,
           2024,
           2024,
           2024,
           2024,
           2024,
           2024,
           2024,
           2024,
           2024,
           2024,
           2024,
           2024,
           2024,
           2024,
           2024,
           2024,
           2024,
           2024,
           2024,
           2024,
           2024,
           2024,
           2024,
           2024,
           2024,
           2024,
           2024,
           2024,
           2024,
           2024,
           2024,
           2024,
           2024,
           2024,
           2024,
           2024,
           2024,
           2024,
           2024,
           2024,
           2024,
           2024,
           2024,
           2024,
           2024,
           2024,
           2024,
           2024,
           2024,
           2024,
           2024,
           2024,
           2024,
           2024,
           2024,
           2024,
           2024,
           2024,
           2024,
           2024,
           2024,
           2024,
           2024,
           2024,
           2024,
           2024,
           2024,
           2024,
           2024,
           2024,
           2024,
           2024,
           2024,
           2024,
           2024,
           2024,
           2024,
           2024,
           2024,
           2024,
           2024,
           2024,
           2024,
           2024,
           2024,
           2024,
           2024,
           2024,
           2024,
           2024,
           2024,
           2024,
           2024,
           2024,
           2024,
           2024,
           2024,
           2024,
           2024,
           2024,
           2024,
           2024,
           2024,
           2024,
           2024,
           2024,
           2024,
           2024,
           2024,
           2024,
           2024,
           2024,
           2024,
           2024,
           2024,
           2024,
           2024,
           2024,
           2024,
           2024,
           2024,
           2024,
           2024,
           2024,
           2024,
           2024,
           2024,
           2024,
           2024,
           2024,
           2024,
           2024,
           2024,
           2024,
           2024,
           2024,
           2024,
           2024,
           2024,
           2024,
           2024,
           2024,
           2024,
           2024,
           2024,
           2024,
           2024,
           2024,
           2024,
           2024,
           2024,
           2024,
           2024,
           2024,
           2024,
           2024,
           2024,
           2024,
           2024,
           2024,
           2024,
           2024,
           2024,
           2024,
           2024,
           2024,
           2024,
           2024,
           2024,
           2024,
           2024,
           2024,
           2024,
           2024,
           2024,
           2024,
           2024,
           2024,
           2024,
           2024,
           2024,
           2024,
           2024,
           2024,
           2024,
           2024,
           2024,
           2024,
           2024,
           2024,
           2024,
           2024,
           2024,
           2024,
           2024,
           2024,
           2024,
           2024,
           2024,
           2024,
           2024,
           2024,
           2024,
           2024,
           2024,
           2024,
           2024,
           2024,
           2024,
           2024,
           2024,
           2024,
           2024,
           2024,
           2024,
           2024,
           2024,
           2024,
           2024,
           2024,
           2024,
           2024,
           2024,
           2024,
           2024,
           2024,
           2024,
           2024,
           2024,
           2024,
           2024,
           2024,
           2024,
           2024,
           2024,
           2024,
           2024,
           2024,
           2024,
           2024,
           2024,
           2024,
           2024,
           2024,
           2024,
           2024,
           2024,
           2024,
           2024,
           2024,
           2024,
           2024,
           2024,
           2024,
           2024,
           2024,
           2024,
           2024,
           2024,
           2024,
           2024,
           2024,
           2024,
           2024,
           2024,
           2024,
           2024,
           2024,
           2024,
           2024,
           2024,
           2024,
           2024,
           2024,
           2024,
           2024,
           2024,
           2024,
           2024,
           2024,
           2024,
           2024,
           2024,
           2024,
           2024,
           2024,
           2024,
           2024,
           2024,
           2024,
           2024,
           2024,
           2024,
           2024,
           2024,
           2024,
           2024,
           2024,
           2024,
           2024,
           2024,
           2024,
           2024,
           2024,
           2024,
           2024,
           2024,
           2024,
           2024,
           2024,
           2024,
           2024,
           2024,
           2024,
           2024,
           2024,
           2024,
           2024,
           2024,
           2024,
           2024,
           2024,
           2024,
           2024,
           2024,
           2024,
           2024,
           2024,
           2024,
           2024,
           2024,
           2024,
           2024,
           2024,
           2024,
           2024,
           2024,
           2024,
           2024,
           2024,
           2024,
           2024,
           2024,
           2024,
           2024,
           2024,
           2024,
           2024,
           2024,
           2024,
           2024,
           2024,
           2024,
           2024,
           2024,
           2024,
           2024,
           2024,
           2024,
           2024,
           2024,
           2024,
           2024,
           2024,
           2024,
           2024,
           2024,
           2024,
           2024,
           2024,
           2024,
           2024,
           2024,
           2024,
           2024,
           2024,
           2024,
           2024,
           2024,
           2024,
           2024,
           2024,
           2024,
           2024,
           2024,
           2024,
           2024,
           2024,
           2024,
           2024,
           2024,
           2024,
           2024,
           2024,
           2024,
           2024,
           2024,
           2024,
           2024,
           2024,
           2024,
           2024,
           2024,
           2024,
           2024,
           2024,
           2024,
           2024,
           2024,
           2024,
           2024,
           2024,
           2024,
           2024,
           2024,
           2024,
           2024,
           2024,
           2024,
           2024,
           2024,
           2024,
           2024,
           2024,
           2024,
           2024,
           2024,
           2024,
           2024,
           2024,
           2024,
           2024,
           2024,
           2024,
           2024,
           2024,
           2024
          ],
          "coloraxis": "coloraxis",
          "symbol": "circle"
         },
         "mode": "markers",
         "name": "",
         "orientation": "v",
         "showlegend": false,
         "type": "scatter",
         "x": [
          50001,
          49615,
          83568,
          62043,
          55463,
          67899,
          60236,
          84601,
          75309,
          85998,
          51502,
          62043,
          62043,
          78971,
          134627,
          55463,
          75193,
          62043,
          57127,
          70022,
          46693,
          48545,
          62043,
          50001,
          46693,
          50001,
          62043,
          62043,
          55507,
          79454,
          113395,
          132101,
          76127,
          42092,
          55463,
          94522,
          36955,
          60236,
          57127,
          99248,
          70022,
          57127,
          79177,
          94521,
          75193,
          62043,
          57127,
          62043,
          62043,
          51502,
          62043,
          57127,
          57779,
          57127,
          94521,
          62043,
          51502,
          51502,
          93784,
          78971,
          62043,
          62043,
          94522,
          102744,
          114425,
          130976,
          77140,
          55463,
          57127,
          84413,
          80733,
          75193,
          62043,
          94521,
          47132,
          55463,
          57127,
          93640,
          57127,
          57127,
          70022,
          99045,
          57127,
          49615,
          57127,
          55463,
          35879,
          72190,
          55463,
          55463,
          57127,
          57843,
          94521,
          64001,
          62043,
          57127,
          94522,
          57127,
          70022,
          49615,
          57127,
          50001,
          51502,
          51502,
          57127,
          57127,
          62043,
          84601,
          52320,
          50001,
          75193,
          57127,
          78786,
          62043,
          62043,
          53848,
          97721,
          60236,
          51502,
          46393,
          64897,
          55507,
          49615,
          51502,
          62043,
          62043,
          91625,
          94521,
          97920,
          102385,
          109387,
          112551,
          122661,
          128208,
          145922,
          75193,
          77140,
          76127,
          36955,
          94521,
          75193,
          57127,
          57127,
          57127,
          70022,
          86565,
          75193,
          38250,
          75193,
          38712,
          65291,
          75270,
          35879,
          38177,
          57779,
          66003,
          57127,
          60236,
          49615,
          57127,
          57127,
          57127,
          79798,
          86565,
          82400,
          98717,
          57127,
          75193,
          75193,
          57127,
          65921,
          67983,
          57127,
          89435,
          35879,
          57127,
          79798,
          70022,
          70022,
          55463,
          70022,
          62043,
          50001,
          60236,
          62043,
          60889,
          57127,
          60236,
          66274,
          77140,
          74893,
          57127,
          70022,
          57127,
          70024,
          62043,
          51502,
          55463,
          35879,
          50001,
          57127,
          75193,
          62043,
          57127,
          91882,
          50001,
          51502,
          51502,
          62043,
          62043,
          73034,
          84601,
          55463,
          99372,
          131797,
          57127,
          57127,
          67899,
          57127,
          62043,
          75193,
          65921,
          50001,
          86565,
          62043,
          62043,
          63279,
          70907,
          62043,
          62043,
          60236,
          125186,
          70022,
          84601,
          62043,
          97602,
          62043,
          70022,
          62043,
          50001,
          53890,
          62043,
          62043,
          94597,
          51502,
          55507,
          62043,
          46434,
          62043,
          62043,
          84143,
          62043,
          100053,
          62043,
          91148,
          91587,
          92711,
          94521,
          94597,
          100786,
          100353,
          102846,
          99869,
          103546,
          108973,
          112300,
          131826,
          124261,
          124932,
          126952,
          135891,
          146317,
          77140,
          76127,
          73910,
          86500,
          86292,
          37065,
          86985,
          77140,
          79798,
          57127,
          75193,
          55463,
          57127,
          57127,
          57127,
          57127,
          57127,
          87790,
          55463,
          86195,
          55463,
          94543,
          99248,
          119986,
          75193,
          75193,
          55463,
          55463,
          290,
          66978,
          75193,
          63726,
          50610,
          47693,
          86978,
          60236,
          103000,
          76127,
          35879,
          67899,
          55463,
          46982,
          57127,
          57127,
          55463,
          55463,
          94521,
          58482,
          57127,
          57127,
          57127,
          57127,
          57127,
          57127,
          55463,
          57127,
          76270,
          75193,
          77024,
          75193,
          83958,
          94521,
          43144,
          57127,
          41279,
          57127,
          41887,
          57127,
          56167,
          57127,
          55463,
          35879,
          55463,
          60236,
          55463,
          55463,
          55463,
          35879,
          72033,
          76377,
          57127,
          65102,
          57127,
          57127,
          60889,
          86565,
          106473,
          75193,
          57127,
          57127,
          75193,
          57127,
          66950,
          98501,
          70664,
          56343,
          56097,
          60236,
          47132,
          57127,
          67536,
          57127,
          108434,
          57127,
          55463,
          62043,
          57127,
          60236,
          97721,
          61114,
          57127,
          77140,
          74893,
          57127,
          74893,
          59334,
          60889,
          62043,
          57127,
          42092,
          62043,
          44013,
          37065,
          50001,
          55463,
          65921,
          62043,
          62043,
          55463,
          60236,
          55463,
          57127,
          72505,
          128457,
          57127,
          57127,
          58916,
          90971,
          57127,
          60236,
          75193,
          56167,
          51502,
          51502,
          51502,
          51502,
          51502,
          51502,
          38177,
          74893,
          55463,
          62043,
          62043,
          62043,
          75193,
          62043,
          57127,
          94521,
          62043,
          84601,
          62043,
          60236,
          51502,
          57127,
          74858,
          62845,
          62043,
          115980,
          62043,
          57127,
          57127,
          57127,
          74893,
          85998,
          55507,
          63029,
          51502,
          94521,
          62043,
          62043,
          62043,
          56974,
          70022,
          62043,
          51502,
          57127,
          62043,
          61818,
          62043,
          51502,
          62043,
          62043,
          62043,
          62043,
          62043,
          62043,
          51502,
          51502,
          55463,
          60889,
          51502,
          51502,
          62043,
          62043,
          82192,
          62043,
          62043,
          101456,
          51502,
          51502,
          51502,
          77140,
          69955,
          67983,
          70022,
          62043,
          73876,
          62043,
          64232,
          62043,
          50001,
          55507,
          94522,
          62043,
          62043,
          46393,
          94800,
          50001,
          70022,
          57127,
          36955,
          64926,
          62043,
          62043,
          60236,
          51502,
          70087,
          42192,
          89220,
          89561,
          94598,
          91054,
          142273,
          92292,
          102982,
          94031,
          94597,
          94597,
          95668,
          96793,
          99045,
          99045,
          100353,
          103973,
          105108,
          105733,
          104919,
          106360,
          108973,
          108973,
          110435,
          111769,
          115259,
          116835,
          117243,
          116467,
          115409,
          123806,
          125681,
          125044,
          124534,
          125056,
          145642,
          142377,
          154465,
          167699,
          64001,
          52280,
          38177,
          76127,
          60236,
          73910,
          73910,
          76127,
          77140,
          73910,
          58482,
          77140,
          35879,
          57598,
          55463,
          55463,
          97116,
          290,
          57127,
          72100,
          75193,
          57127,
          55911,
          57127,
          57127,
          55463,
          57127,
          55463,
          60236,
          55463,
          57127,
          40957,
          110000,
          49615,
          75193,
          57127,
          57127,
          57127,
          55463,
          60236,
          70022,
          60236,
          72504,
          79410,
          57127,
          57127,
          58526,
          57127,
          57127,
          55463,
          70022,
          60236,
          57127,
          55463,
          62043,
          55507,
          60236,
          50001,
          75193,
          75193,
          290,
          27.16,
          38250,
          62043,
          62137,
          76101,
          56097,
          75193,
          74893,
          70022,
          48545,
          57570,
          137917,
          42092,
          60236,
          49615,
          35879,
          57127,
          87203,
          48545,
          55463,
          57127,
          35879,
          84601,
          57127,
          55463,
          57127,
          55463,
          55463,
          57127,
          67899,
          66672,
          40998,
          87881,
          57127,
          57127,
          57127,
          57127,
          57127,
          55463,
          57127,
          57127,
          57127,
          57127,
          57127,
          57127,
          55463,
          55463,
          60889,
          57127,
          91768,
          60889,
          123600,
          38712,
          70022,
          70022,
          73159,
          75193,
          79543,
          82192,
          81596,
          94521,
          57127,
          57127,
          57127,
          57127,
          55463,
          55463,
          57127,
          75193,
          60889,
          55463,
          75193,
          57127,
          75193,
          62043,
          77483,
          57127,
          67899,
          57127,
          50001,
          57127,
          61135,
          74893,
          57127,
          62043,
          35879,
          74894,
          74893,
          57127,
          62043,
          57127,
          56300,
          57127,
          77024,
          55463,
          57127,
          57127,
          62043,
          57127,
          62043,
          55463,
          48545,
          94310,
          57127,
          55463,
          60889,
          49615,
          103000,
          75398,
          84981,
          94521,
          124368,
          57127,
          55463,
          67899,
          49615,
          57127,
          62043,
          75193,
          94521,
          62043,
          42773,
          85998,
          50001,
          50001,
          61860,
          62043,
          55463,
          55463,
          62043,
          55463,
          50001,
          57127,
          57127,
          50001,
          55463,
          55463,
          62043,
          57127,
          62043,
          57127,
          77491,
          94521,
          57127,
          57127,
          57127,
          79798,
          62043,
          92630,
          55463,
          57127,
          57127,
          55463,
          57127,
          101295,
          55463,
          84140,
          57127,
          62043,
          62043,
          57127,
          74893,
          62043,
          56300,
          57127,
          57127,
          62043,
          65921,
          57779,
          57127,
          65921,
          57127,
          57127,
          57127,
          55463,
          57127,
          62043,
          57127,
          84981,
          62043,
          55463,
          55463,
          35879,
          57127,
          50001,
          62043,
          55507,
          57127,
          57127,
          74893,
          74894,
          72123,
          74894,
          62043,
          57127,
          55463,
          74893,
          57127,
          62043,
          70022,
          57127,
          62043,
          70022,
          94521,
          94522,
          57127,
          135665,
          75193,
          49615,
          75193,
          94310,
          40619,
          57127,
          50001,
          62043,
          85998,
          106071,
          98501,
          62043,
          62043,
          55463,
          51502,
          51502,
          51502,
          51502,
          51502,
          51502,
          51502,
          51502,
          51502,
          51502,
          51502,
          51502,
          51502,
          60236,
          57127,
          62043,
          60889,
          57127,
          62043,
          98501,
          51502,
          57127,
          57127,
          55463,
          62043,
          76514,
          62043,
          38712,
          51502,
          57127,
          140000,
          75193,
          62043,
          62043,
          51502,
          51502,
          76724,
          48545,
          57127,
          51502,
          57127,
          51502,
          57127,
          51502,
          65559,
          67983,
          50001,
          62043,
          60236,
          60889,
          108150,
          94522,
          57127,
          62043,
          62043,
          57127,
          62043,
          45333,
          62043,
          70022,
          77140,
          44013,
          62043,
          50001,
          51502,
          100911,
          87340,
          57127,
          77140,
          62043,
          57127,
          57127,
          77025,
          57127,
          48094,
          50001,
          90041,
          62043,
          62908,
          62043,
          70022,
          62043,
          36955,
          62043,
          62043,
          58482,
          57529,
          87139,
          62043,
          55463,
          62043,
          82192,
          85959,
          60236,
          94310,
          38858,
          55507,
          67899,
          62043,
          43144,
          62043,
          62043,
          49615,
          62043,
          62043,
          62043,
          70022,
          84877,
          62043,
          97721,
          62043,
          50001,
          62043,
          51502,
          64232,
          62043,
          60236,
          62043,
          51502,
          62043,
          57127,
          60236,
          102679,
          60236,
          58406,
          62043,
          62043,
          77025,
          62043,
          62043,
          46693,
          97139,
          68813,
          119455,
          51502,
          62043,
          60889,
          49615,
          55463,
          62043,
          70022,
          69722,
          67899,
          50001,
          67983,
          70022,
          62043,
          51502,
          50001,
          94310,
          36955,
          62043,
          67899,
          55463,
          60236,
          51502,
          62043,
          62043,
          55507,
          59513,
          51502,
          62043,
          51502,
          94521,
          99248,
          62043,
          58526,
          97139,
          62043,
          82192
         ],
         "xaxis": "x",
         "y": [
          28.28,
          115.5,
          6.89,
          27.88,
          62.14,
          114.81,
          0,
          6.86,
          13.19,
          27.75,
          44.45,
          62.06,
          92.66,
          114.25,
          0,
          0,
          0,
          6.83,
          8.25,
          13.02,
          18.47,
          27.47,
          37.95,
          44.45,
          51.1,
          62.05,
          77.27,
          92.36,
          106,
          114.14,
          0,
          0,
          0,
          0,
          0,
          0,
          3.54,
          6.59,
          8.25,
          8.25,
          8.75,
          12.8,
          16.5,
          18.3,
          24.75,
          27.12,
          33,
          37.94,
          41.25,
          44.45,
          46.56,
          50.5,
          57.59,
          61.64,
          69.97,
          76.85,
          84.21,
          91.88,
          99.47,
          106,
          110.85,
          114.13,
          0,
          0,
          0,
          0,
          0,
          0,
          0,
          0,
          0,
          0,
          0,
          0,
          0.94,
          3.54,
          5.31,
          6.22,
          8.25,
          8.25,
          8.25,
          8.25,
          8.25,
          8.75,
          10.93,
          12.8,
          15.45,
          16.5,
          16.5,
          18.21,
          21.81,
          24.75,
          25.11,
          27.08,
          30.91,
          33,
          35.16,
          37.65,
          40.44,
          41.25,
          42.25,
          44.45,
          44.45,
          46.13,
          49.5,
          50.5,
          53.65,
          57.29,
          58.86,
          61.59,
          66,
          69.89,
          74.25,
          76.65,
          81.17,
          83.99,
          88.83,
          91.7,
          95.93,
          99.06,
          103.72,
          106,
          108.25,
          110.45,
          112.19,
          113.61,
          0,
          0,
          0,
          0,
          0,
          0,
          0,
          0,
          0,
          0,
          0,
          0,
          0,
          0,
          0,
          0,
          0,
          0,
          0,
          0,
          0,
          0,
          0,
          0,
          0.32,
          0.92,
          2,
          3.05,
          4.19,
          5.28,
          6.07,
          6.07,
          7.9,
          8.25,
          8.25,
          8.25,
          8.25,
          8.25,
          8.25,
          8.25,
          8.25,
          8.25,
          8.25,
          8.75,
          9.28,
          10.75,
          12.04,
          12.7,
          13.6,
          15.17,
          16.5,
          16.5,
          16.5,
          16.5,
          17,
          18.11,
          19.84,
          21.45,
          22.57,
          24.75,
          24.75,
          24.75,
          25.67,
          27,
          29.59,
          30.82,
          32.55,
          33,
          33.48,
          34.85,
          35.56,
          37.55,
          38.72,
          40.35,
          41.25,
          41.25,
          41.25,
          42.2,
          43.59,
          44.45,
          44.45,
          44.45,
          44.58,
          45.55,
          48.04,
          49.39,
          49.71,
          50.23,
          52.74,
          53.65,
          56.07,
          57.17,
          57.75,
          58.25,
          60.25,
          61.35,
          63.62,
          66,
          67.61,
          69.41,
          72.11,
          74.25,
          74.75,
          76.62,
          78.47,
          80.86,
          83,
          83.72,
          86.29,
          88.75,
          90.41,
          91.63,
          94.32,
          95.5,
          97.4,
          99,
          101.06,
          103.64,
          105.33,
          106,
          107.25,
          107.95,
          109.62,
          109.98,
          111.8,
          112.14,
          112.48,
          113.32,
          0,
          0,
          0,
          0,
          0,
          0,
          0,
          0,
          0,
          0,
          0,
          0,
          0,
          0,
          0,
          0,
          0,
          0,
          0,
          0,
          0,
          0,
          0,
          0,
          0,
          0,
          0,
          0,
          0,
          0,
          0,
          0,
          0,
          0,
          0,
          0,
          0,
          0,
          0,
          0,
          0,
          0,
          0,
          0,
          0,
          0,
          0,
          0,
          0,
          0.27,
          0.57,
          0.76,
          1.15,
          1.73,
          2.05,
          2.96,
          4.01,
          4.18,
          4.55,
          4.95,
          6.07,
          6.07,
          6.07,
          6.07,
          7.53,
          7.9,
          8.25,
          8.25,
          8.25,
          8.25,
          8.25,
          8.25,
          8.25,
          8.25,
          8.25,
          8.25,
          8.25,
          8.25,
          8.25,
          8.25,
          8.25,
          8.25,
          8.25,
          8.25,
          8.25,
          8.25,
          8.54,
          8.75,
          8.75,
          9.26,
          10.62,
          10.62,
          11.38,
          12.04,
          12.14,
          12.54,
          13.4,
          13.58,
          14.32,
          14.53,
          16.5,
          16.5,
          16.5,
          16.5,
          16.5,
          16.5,
          16.5,
          16.5,
          16.5,
          17,
          17.5,
          18.01,
          18.78,
          19.08,
          20.42,
          21.24,
          22.38,
          22.57,
          24.57,
          24.75,
          24.75,
          24.75,
          24.75,
          24.75,
          25.25,
          25.57,
          26.04,
          26.92,
          28.69,
          29.46,
          30.64,
          30.82,
          31.99,
          32.53,
          32.84,
          33,
          33,
          33,
          33.5,
          34.79,
          35.39,
          35.56,
          36.79,
          37.26,
          38.31,
          38.4,
          39.07,
          39.56,
          40.98,
          41.25,
          41.25,
          41.25,
          41.25,
          41.25,
          41.68,
          41.75,
          42.87,
          43.46,
          43.75,
          44.22,
          44.45,
          44.45,
          44.45,
          44.45,
          44.45,
          44.45,
          44.91,
          45.44,
          47.32,
          47.87,
          48.28,
          49.24,
          49.5,
          49.5,
          50,
          50,
          52.63,
          52.74,
          53.2,
          53.39,
          54.72,
          55.57,
          56.72,
          57.09,
          57.75,
          57.75,
          57.84,
          58.25,
          59.36,
          60.12,
          60.32,
          61.25,
          62.67,
          63.59,
          65.7,
          66,
          66.57,
          67.61,
          68.44,
          68.81,
          70.71,
          79.8,
          73.28,
          74.09,
          74.25,
          74.32,
          74.75,
          75.96,
          78.04,
          78.37,
          79.3,
          80.35,
          82.5,
          82.93,
          83.24,
          83.61,
          85,
          86,
          87.67,
          88.71,
          90.08,
          90.21,
          90.75,
          91.25,
          93.18,
          94.05,
          94.77,
          95.42,
          96.97,
          97.35,
          97.67,
          99,
          100,
          100.83,
          101.88,
          103.55,
          104.09,
          105.07,
          106,
          106,
          106.9,
          107.25,
          107.25,
          107.94,
          109.02,
          109.59,
          109.75,
          109.86,
          110.88,
          111.58,
          111.8,
          111.94,
          112.2,
          112.22,
          112.62,
          113.29,
          0,
          0,
          0,
          0,
          0,
          0,
          0,
          0,
          0,
          0,
          0,
          0,
          0,
          0,
          0,
          0,
          0,
          0,
          0,
          0,
          0,
          0,
          0,
          0,
          0,
          0,
          0,
          0,
          0,
          0,
          0,
          0,
          0,
          0,
          0,
          0,
          0,
          0,
          0,
          0,
          0,
          0,
          0,
          0,
          0,
          0,
          0,
          0,
          0,
          0,
          0,
          0,
          0,
          0,
          0,
          0,
          0,
          0,
          0,
          0,
          0,
          0,
          0,
          0,
          0,
          0,
          0,
          0,
          0,
          0,
          0,
          0,
          0,
          0,
          0,
          0,
          0,
          0,
          0,
          0,
          0,
          0,
          0,
          0,
          0,
          0,
          0,
          0,
          0,
          0,
          0,
          0,
          0,
          0,
          0,
          0,
          0,
          0,
          0,
          0.04,
          0.43,
          0.47,
          0.74,
          0.74,
          0.96,
          1.14,
          1.21,
          1.22,
          2,
          6.48,
          2.09,
          2.8,
          3.79,
          3.95,
          4.01,
          4.05,
          4.36,
          4.42,
          4.55,
          4.55,
          5.6,
          6.02,
          6.07,
          6.07,
          6.07,
          6.07,
          6.07,
          6.07,
          7.22,
          7.3,
          7.62,
          7.86,
          8.25,
          8.25,
          8.25,
          8.25,
          8.25,
          8.25,
          8.25,
          8.25,
          8.25,
          8.25,
          8.25,
          8.25,
          8.25,
          8.25,
          8.25,
          8.25,
          8.25,
          8.25,
          8.25,
          8.25,
          8.25,
          8.25,
          8.25,
          8.25,
          8.25,
          8.25,
          8.25,
          8.25,
          8.25,
          8.25,
          8.25,
          8.25,
          8.25,
          8.25,
          8.25,
          8.25,
          8.25,
          8.25,
          8.25,
          8.25,
          8.25,
          8.25,
          8.74,
          8.75,
          8.75,
          8.75,
          8.89,
          9.11,
          9.9,
          10.05,
          10.62,
          10.62,
          11.16,
          11.19,
          11.89,
          11.89,
          12.04,
          12.14,
          12.18,
          12.5,
          13.31,
          13.4,
          13.56,
          13.56,
          13.91,
          14.32,
          14.32,
          14.32,
          16,
          16.23,
          16.5,
          16.5,
          16.5,
          16.5,
          16.5,
          16.5,
          16.5,
          16.5,
          16.5,
          16.5,
          16.5,
          16.5,
          16.5,
          16.5,
          16.5,
          16.5,
          16.5,
          16.69,
          17.12,
          17.39,
          17.78,
          17.78,
          18.58,
          18.64,
          18.96,
          18.97,
          20.29,
          20.39,
          20.52,
          21.05,
          21.81,
          21.89,
          22.57,
          22.57,
          23.42,
          23.56,
          24.7,
          24.75,
          24.75,
          24.75,
          24.75,
          24.75,
          24.75,
          24.75,
          24.75,
          24.75,
          25.2,
          25.25,
          25.25,
          25.25,
          25.75,
          25.75,
          26.46,
          26.82,
          28.64,
          28.64,
          29.15,
          29.3,
          29.91,
          30.56,
          30.69,
          30.82,
          30.92,
          31.53,
          32.4,
          32.53,
          32.79,
          32.79,
          33,
          33,
          33,
          33,
          33,
          33,
          33.5,
          33.5,
          34.11,
          34.71,
          35.21,
          35.33,
          35.5,
          35.56,
          36.22,
          36.71,
          36.89,
          37.19,
          38.06,
          38.21,
          38.32,
          38.4,
          39.05,
          39.07,
          39.07,
          39.09,
          40.68,
          40.78,
          41.08,
          41.25,
          41.25,
          41.25,
          41.25,
          41.25,
          41.25,
          41.25,
          41.25,
          41.25,
          41.25,
          41.47,
          41.71,
          41.75,
          42.41,
          42.86,
          43,
          43.35,
          43.62,
          43.62,
          44.12,
          44.12,
          44.45,
          44.45,
          44.45,
          44.45,
          44.45,
          44.45,
          44.45,
          44.45,
          44.45,
          44.45,
          44.45,
          44.45,
          44.64,
          44.82,
          45.14,
          45.23,
          46.75,
          47.32,
          47.42,
          47.87,
          48.28,
          48.28,
          48.58,
          49.08,
          49.5,
          49.5,
          49.5,
          49.5,
          49.93,
          50,
          50,
          50,
          51.71,
          51.87,
          52.7,
          52.7,
          53,
          53.16,
          53.29,
          53.34,
          54.55,
          54.71,
          55.05,
          55.4,
          56.57,
          56.72,
          56.77,
          56.91,
          57.75,
          57.75,
          57.75,
          57.75,
          57.75,
          57.84,
          58.22,
          58.25,
          59.03,
          59.24,
          59.66,
          59.87,
          60.27,
          60.31,
          60.5,
          60.95,
          62.19,
          62.4,
          62.9,
          63.47,
          64.18,
          65.25,
          66,
          66,
          66.5,
          66.5,
          67.22,
          67.35,
          68.19,
          68.23,
          68.49,
          68.77,
          70.44,
          70.55,
          70.8,
          71.03,
          72.57,
          72.83,
          73.59,
          73.9,
          74.25,
          74.25,
          74.25,
          74.25,
          74.75,
          74.75,
          74.81,
          75.33,
          77.6,
          77.96,
          78.14,
          78.26,
          78.86,
          79.2,
          79.42,
          80.32,
          81.93,
          82.45,
          82.5,
          82.5,
          83,
          83.18,
          83.35,
          83.44,
          84.62,
          84.82,
          85.82,
          85.88,
          86.58,
          87.04,
          87.67,
          87.93,
          89.07,
          89.91,
          90.09,
          90.09,
          90.59,
          90.7,
          90.75,
          90.75,
          92.86,
          93.12,
          93.48,
          93.55,
          94.34,
          94.48,
          94.8,
          95.3,
          95.94,
          96.86,
          97.02,
          97.06,
          97.46,
          97.67,
          98.31,
          98.37,
          99.67,
          100,
          100.04,
          100.67,
          101.46,
          101.67,
          103.05,
          103.41,
          103.88,
          103.88,
          104.54,
          104.68,
          105.57,
          105.92,
          106,
          106,
          106.48,
          106.75,
          107.04,
          107.25,
          107.25,
          107.25,
          107.53,
          107.68,
          108.36,
          115.5
         ],
         "yaxis": "y"
        }
       ],
       "layout": {
        "autosize": true,
        "coloraxis": {
         "colorbar": {
          "title": {
           "text": "fiscal_year"
          }
         },
         "colorscale": [
          [
           0,
           "#0d0887"
          ],
          [
           0.1111111111111111,
           "#46039f"
          ],
          [
           0.2222222222222222,
           "#7201a8"
          ],
          [
           0.3333333333333333,
           "#9c179e"
          ],
          [
           0.4444444444444444,
           "#bd3786"
          ],
          [
           0.5555555555555556,
           "#d8576b"
          ],
          [
           0.6666666666666666,
           "#ed7953"
          ],
          [
           0.7777777777777778,
           "#fb9f3a"
          ],
          [
           0.8888888888888888,
           "#fdca26"
          ],
          [
           1,
           "#f0f921"
          ]
         ]
        },
        "legend": {
         "tracegroupgap": 0
        },
        "margin": {
         "t": 60
        },
        "template": {
         "data": {
          "bar": [
           {
            "error_x": {
             "color": "#2a3f5f"
            },
            "error_y": {
             "color": "#2a3f5f"
            },
            "marker": {
             "line": {
              "color": "#E5ECF6",
              "width": 0.5
             },
             "pattern": {
              "fillmode": "overlay",
              "size": 10,
              "solidity": 0.2
             }
            },
            "type": "bar"
           }
          ],
          "barpolar": [
           {
            "marker": {
             "line": {
              "color": "#E5ECF6",
              "width": 0.5
             },
             "pattern": {
              "fillmode": "overlay",
              "size": 10,
              "solidity": 0.2
             }
            },
            "type": "barpolar"
           }
          ],
          "carpet": [
           {
            "aaxis": {
             "endlinecolor": "#2a3f5f",
             "gridcolor": "white",
             "linecolor": "white",
             "minorgridcolor": "white",
             "startlinecolor": "#2a3f5f"
            },
            "baxis": {
             "endlinecolor": "#2a3f5f",
             "gridcolor": "white",
             "linecolor": "white",
             "minorgridcolor": "white",
             "startlinecolor": "#2a3f5f"
            },
            "type": "carpet"
           }
          ],
          "choropleth": [
           {
            "colorbar": {
             "outlinewidth": 0,
             "ticks": ""
            },
            "type": "choropleth"
           }
          ],
          "contour": [
           {
            "colorbar": {
             "outlinewidth": 0,
             "ticks": ""
            },
            "colorscale": [
             [
              0,
              "#0d0887"
             ],
             [
              0.1111111111111111,
              "#46039f"
             ],
             [
              0.2222222222222222,
              "#7201a8"
             ],
             [
              0.3333333333333333,
              "#9c179e"
             ],
             [
              0.4444444444444444,
              "#bd3786"
             ],
             [
              0.5555555555555556,
              "#d8576b"
             ],
             [
              0.6666666666666666,
              "#ed7953"
             ],
             [
              0.7777777777777778,
              "#fb9f3a"
             ],
             [
              0.8888888888888888,
              "#fdca26"
             ],
             [
              1,
              "#f0f921"
             ]
            ],
            "type": "contour"
           }
          ],
          "contourcarpet": [
           {
            "colorbar": {
             "outlinewidth": 0,
             "ticks": ""
            },
            "type": "contourcarpet"
           }
          ],
          "heatmap": [
           {
            "colorbar": {
             "outlinewidth": 0,
             "ticks": ""
            },
            "colorscale": [
             [
              0,
              "#0d0887"
             ],
             [
              0.1111111111111111,
              "#46039f"
             ],
             [
              0.2222222222222222,
              "#7201a8"
             ],
             [
              0.3333333333333333,
              "#9c179e"
             ],
             [
              0.4444444444444444,
              "#bd3786"
             ],
             [
              0.5555555555555556,
              "#d8576b"
             ],
             [
              0.6666666666666666,
              "#ed7953"
             ],
             [
              0.7777777777777778,
              "#fb9f3a"
             ],
             [
              0.8888888888888888,
              "#fdca26"
             ],
             [
              1,
              "#f0f921"
             ]
            ],
            "type": "heatmap"
           }
          ],
          "heatmapgl": [
           {
            "colorbar": {
             "outlinewidth": 0,
             "ticks": ""
            },
            "colorscale": [
             [
              0,
              "#0d0887"
             ],
             [
              0.1111111111111111,
              "#46039f"
             ],
             [
              0.2222222222222222,
              "#7201a8"
             ],
             [
              0.3333333333333333,
              "#9c179e"
             ],
             [
              0.4444444444444444,
              "#bd3786"
             ],
             [
              0.5555555555555556,
              "#d8576b"
             ],
             [
              0.6666666666666666,
              "#ed7953"
             ],
             [
              0.7777777777777778,
              "#fb9f3a"
             ],
             [
              0.8888888888888888,
              "#fdca26"
             ],
             [
              1,
              "#f0f921"
             ]
            ],
            "type": "heatmapgl"
           }
          ],
          "histogram": [
           {
            "marker": {
             "pattern": {
              "fillmode": "overlay",
              "size": 10,
              "solidity": 0.2
             }
            },
            "type": "histogram"
           }
          ],
          "histogram2d": [
           {
            "colorbar": {
             "outlinewidth": 0,
             "ticks": ""
            },
            "colorscale": [
             [
              0,
              "#0d0887"
             ],
             [
              0.1111111111111111,
              "#46039f"
             ],
             [
              0.2222222222222222,
              "#7201a8"
             ],
             [
              0.3333333333333333,
              "#9c179e"
             ],
             [
              0.4444444444444444,
              "#bd3786"
             ],
             [
              0.5555555555555556,
              "#d8576b"
             ],
             [
              0.6666666666666666,
              "#ed7953"
             ],
             [
              0.7777777777777778,
              "#fb9f3a"
             ],
             [
              0.8888888888888888,
              "#fdca26"
             ],
             [
              1,
              "#f0f921"
             ]
            ],
            "type": "histogram2d"
           }
          ],
          "histogram2dcontour": [
           {
            "colorbar": {
             "outlinewidth": 0,
             "ticks": ""
            },
            "colorscale": [
             [
              0,
              "#0d0887"
             ],
             [
              0.1111111111111111,
              "#46039f"
             ],
             [
              0.2222222222222222,
              "#7201a8"
             ],
             [
              0.3333333333333333,
              "#9c179e"
             ],
             [
              0.4444444444444444,
              "#bd3786"
             ],
             [
              0.5555555555555556,
              "#d8576b"
             ],
             [
              0.6666666666666666,
              "#ed7953"
             ],
             [
              0.7777777777777778,
              "#fb9f3a"
             ],
             [
              0.8888888888888888,
              "#fdca26"
             ],
             [
              1,
              "#f0f921"
             ]
            ],
            "type": "histogram2dcontour"
           }
          ],
          "mesh3d": [
           {
            "colorbar": {
             "outlinewidth": 0,
             "ticks": ""
            },
            "type": "mesh3d"
           }
          ],
          "parcoords": [
           {
            "line": {
             "colorbar": {
              "outlinewidth": 0,
              "ticks": ""
             }
            },
            "type": "parcoords"
           }
          ],
          "pie": [
           {
            "automargin": true,
            "type": "pie"
           }
          ],
          "scatter": [
           {
            "fillpattern": {
             "fillmode": "overlay",
             "size": 10,
             "solidity": 0.2
            },
            "type": "scatter"
           }
          ],
          "scatter3d": [
           {
            "line": {
             "colorbar": {
              "outlinewidth": 0,
              "ticks": ""
             }
            },
            "marker": {
             "colorbar": {
              "outlinewidth": 0,
              "ticks": ""
             }
            },
            "type": "scatter3d"
           }
          ],
          "scattercarpet": [
           {
            "marker": {
             "colorbar": {
              "outlinewidth": 0,
              "ticks": ""
             }
            },
            "type": "scattercarpet"
           }
          ],
          "scattergeo": [
           {
            "marker": {
             "colorbar": {
              "outlinewidth": 0,
              "ticks": ""
             }
            },
            "type": "scattergeo"
           }
          ],
          "scattergl": [
           {
            "marker": {
             "colorbar": {
              "outlinewidth": 0,
              "ticks": ""
             }
            },
            "type": "scattergl"
           }
          ],
          "scattermapbox": [
           {
            "marker": {
             "colorbar": {
              "outlinewidth": 0,
              "ticks": ""
             }
            },
            "type": "scattermapbox"
           }
          ],
          "scatterpolar": [
           {
            "marker": {
             "colorbar": {
              "outlinewidth": 0,
              "ticks": ""
             }
            },
            "type": "scatterpolar"
           }
          ],
          "scatterpolargl": [
           {
            "marker": {
             "colorbar": {
              "outlinewidth": 0,
              "ticks": ""
             }
            },
            "type": "scatterpolargl"
           }
          ],
          "scatterternary": [
           {
            "marker": {
             "colorbar": {
              "outlinewidth": 0,
              "ticks": ""
             }
            },
            "type": "scatterternary"
           }
          ],
          "surface": [
           {
            "colorbar": {
             "outlinewidth": 0,
             "ticks": ""
            },
            "colorscale": [
             [
              0,
              "#0d0887"
             ],
             [
              0.1111111111111111,
              "#46039f"
             ],
             [
              0.2222222222222222,
              "#7201a8"
             ],
             [
              0.3333333333333333,
              "#9c179e"
             ],
             [
              0.4444444444444444,
              "#bd3786"
             ],
             [
              0.5555555555555556,
              "#d8576b"
             ],
             [
              0.6666666666666666,
              "#ed7953"
             ],
             [
              0.7777777777777778,
              "#fb9f3a"
             ],
             [
              0.8888888888888888,
              "#fdca26"
             ],
             [
              1,
              "#f0f921"
             ]
            ],
            "type": "surface"
           }
          ],
          "table": [
           {
            "cells": {
             "fill": {
              "color": "#EBF0F8"
             },
             "line": {
              "color": "white"
             }
            },
            "header": {
             "fill": {
              "color": "#C8D4E3"
             },
             "line": {
              "color": "white"
             }
            },
            "type": "table"
           }
          ]
         },
         "layout": {
          "annotationdefaults": {
           "arrowcolor": "#2a3f5f",
           "arrowhead": 0,
           "arrowwidth": 1
          },
          "autotypenumbers": "strict",
          "coloraxis": {
           "colorbar": {
            "outlinewidth": 0,
            "ticks": ""
           }
          },
          "colorscale": {
           "diverging": [
            [
             0,
             "#8e0152"
            ],
            [
             0.1,
             "#c51b7d"
            ],
            [
             0.2,
             "#de77ae"
            ],
            [
             0.3,
             "#f1b6da"
            ],
            [
             0.4,
             "#fde0ef"
            ],
            [
             0.5,
             "#f7f7f7"
            ],
            [
             0.6,
             "#e6f5d0"
            ],
            [
             0.7,
             "#b8e186"
            ],
            [
             0.8,
             "#7fbc41"
            ],
            [
             0.9,
             "#4d9221"
            ],
            [
             1,
             "#276419"
            ]
           ],
           "sequential": [
            [
             0,
             "#0d0887"
            ],
            [
             0.1111111111111111,
             "#46039f"
            ],
            [
             0.2222222222222222,
             "#7201a8"
            ],
            [
             0.3333333333333333,
             "#9c179e"
            ],
            [
             0.4444444444444444,
             "#bd3786"
            ],
            [
             0.5555555555555556,
             "#d8576b"
            ],
            [
             0.6666666666666666,
             "#ed7953"
            ],
            [
             0.7777777777777778,
             "#fb9f3a"
            ],
            [
             0.8888888888888888,
             "#fdca26"
            ],
            [
             1,
             "#f0f921"
            ]
           ],
           "sequentialminus": [
            [
             0,
             "#0d0887"
            ],
            [
             0.1111111111111111,
             "#46039f"
            ],
            [
             0.2222222222222222,
             "#7201a8"
            ],
            [
             0.3333333333333333,
             "#9c179e"
            ],
            [
             0.4444444444444444,
             "#bd3786"
            ],
            [
             0.5555555555555556,
             "#d8576b"
            ],
            [
             0.6666666666666666,
             "#ed7953"
            ],
            [
             0.7777777777777778,
             "#fb9f3a"
            ],
            [
             0.8888888888888888,
             "#fdca26"
            ],
            [
             1,
             "#f0f921"
            ]
           ]
          },
          "colorway": [
           "#636efa",
           "#EF553B",
           "#00cc96",
           "#ab63fa",
           "#FFA15A",
           "#19d3f3",
           "#FF6692",
           "#B6E880",
           "#FF97FF",
           "#FECB52"
          ],
          "font": {
           "color": "#2a3f5f"
          },
          "geo": {
           "bgcolor": "white",
           "lakecolor": "white",
           "landcolor": "#E5ECF6",
           "showlakes": true,
           "showland": true,
           "subunitcolor": "white"
          },
          "hoverlabel": {
           "align": "left"
          },
          "hovermode": "closest",
          "mapbox": {
           "style": "light"
          },
          "paper_bgcolor": "white",
          "plot_bgcolor": "#E5ECF6",
          "polar": {
           "angularaxis": {
            "gridcolor": "white",
            "linecolor": "white",
            "ticks": ""
           },
           "bgcolor": "#E5ECF6",
           "radialaxis": {
            "gridcolor": "white",
            "linecolor": "white",
            "ticks": ""
           }
          },
          "scene": {
           "xaxis": {
            "backgroundcolor": "#E5ECF6",
            "gridcolor": "white",
            "gridwidth": 2,
            "linecolor": "white",
            "showbackground": true,
            "ticks": "",
            "zerolinecolor": "white"
           },
           "yaxis": {
            "backgroundcolor": "#E5ECF6",
            "gridcolor": "white",
            "gridwidth": 2,
            "linecolor": "white",
            "showbackground": true,
            "ticks": "",
            "zerolinecolor": "white"
           },
           "zaxis": {
            "backgroundcolor": "#E5ECF6",
            "gridcolor": "white",
            "gridwidth": 2,
            "linecolor": "white",
            "showbackground": true,
            "ticks": "",
            "zerolinecolor": "white"
           }
          },
          "shapedefaults": {
           "line": {
            "color": "#2a3f5f"
           }
          },
          "ternary": {
           "aaxis": {
            "gridcolor": "white",
            "linecolor": "white",
            "ticks": ""
           },
           "baxis": {
            "gridcolor": "white",
            "linecolor": "white",
            "ticks": ""
           },
           "bgcolor": "#E5ECF6",
           "caxis": {
            "gridcolor": "white",
            "linecolor": "white",
            "ticks": ""
           }
          },
          "title": {
           "x": 0.05
          },
          "xaxis": {
           "automargin": true,
           "gridcolor": "white",
           "linecolor": "white",
           "ticks": "",
           "title": {
            "standoff": 15
           },
           "zerolinecolor": "white",
           "zerolinewidth": 2
          },
          "yaxis": {
           "automargin": true,
           "gridcolor": "white",
           "linecolor": "white",
           "ticks": "",
           "title": {
            "standoff": 15
           },
           "zerolinecolor": "white",
           "zerolinewidth": 2
          }
         }
        },
        "xaxis": {
         "anchor": "y",
         "autorange": true,
         "domain": [
          0,
          1
         ],
         "range": [
          -10820.031403508772,
          178546.19140350877
         ],
         "title": {
          "text": "base_salary"
         },
         "type": "linear"
        },
        "yaxis": {
         "anchor": "x",
         "autorange": true,
         "domain": [
          0,
          1
         ],
         "range": [
          -8.942913385826772,
          124.44291338582677
         ],
         "title": {
          "text": "total_other_pay"
         },
         "type": "linear"
        }
       }
      },
      "image/png": "[encoded data removed]",
      "text/html": [
       "<div>                            <div id=\"0f4b2bf0-9ee6-4788-a9b2-be906590d2f1\" class=\"plotly-graph-div\" style=\"height:525px; width:100%;\"></div>            <script type=\"text/javascript\">                require([\"plotly\"], function(Plotly) {                    window.PLOTLYENV=window.PLOTLYENV || {};                                    if (document.getElementById(\"0f4b2bf0-9ee6-4788-a9b2-be906590d2f1\")) {                    Plotly.newPlot(                        \"0f4b2bf0-9ee6-4788-a9b2-be906590d2f1\",                        [{\"hovertemplate\":\"base_salary=%{x}\\u003cbr\\u003etotal_other_pay=%{y}\\u003cbr\\u003efiscal_year=%{marker.color}\\u003cextra\\u003e\\u003c\\u002fextra\\u003e\",\"legendgroup\":\"\",\"marker\":{\"color\":[2024,2024,2024,2024,2024,2024,2024,2024,2024,2024,2024,2024,2024,2024,2024,2024,2024,2024,2024,2024,2024,2024,2024,2024,2024,2024,2024,2024,2024,2024,2024,2024,2024,2024,2024,2024,2024,2024,2024,2024,2024,2024,2024,2024,2024,2024,2024,2024,2024,2024,2024,2024,2024,2024,2024,2024,2024,2024,2024,2024,2024,2024,2024,2024,2024,2024,2024,2024,2024,2024,2024,2024,2024,2024,2024,2024,2024,2024,2024,2024,2024,2024,2024,2024,2024,2024,2024,2024,2024,2024,2024,2024,2024,2024,2024,2024,2024,2024,2024,2024,2024,2024,2024,2024,2024,2024,2024,2024,2024,2024,2024,2024,2024,2024,2024,2024,2024,2024,2024,2024,2024,2024,2024,2024,2024,2024,2024,2024,2024,2024,2024,2024,2024,2024,2024,2024,2024,2024,2024,2024,2024,2024,2024,2024,2024,2024,2024,2024,2024,2024,2024,2024,2024,2024,2024,2024,2024,2024,2024,2024,2024,2024,2024,2024,2024,2024,2024,2024,2024,2024,2024,2024,2024,2024,2024,2024,2024,2024,2024,2024,2024,2024,2024,2024,2024,2024,2024,2024,2024,2024,2024,2024,2024,2024,2024,2024,2024,2024,2024,2024,2024,2024,2024,2024,2024,2024,2024,2024,2024,2024,2024,2024,2024,2024,2024,2024,2024,2024,2024,2024,2024,2024,2024,2024,2024,2024,2024,2024,2024,2024,2024,2024,2024,2024,2024,2024,2024,2024,2024,2024,2024,2024,2024,2024,2024,2024,2024,2024,2024,2024,2024,2024,2024,2024,2024,2024,2024,2024,2024,2024,2024,2024,2024,2024,2024,2024,2024,2024,2024,2024,2024,2024,2024,2024,2024,2024,2024,2024,2024,2024,2024,2024,2024,2024,2024,2024,2024,2024,2024,2024,2024,2024,2024,2024,2024,2024,2024,2024,2024,2024,2024,2024,2024,2024,2024,2024,2024,2024,2024,2024,2024,2024,2024,2024,2024,2024,2024,2024,2024,2024,2024,2024,2024,2024,2024,2024,2024,2024,2024,2024,2024,2024,2024,2024,2024,2024,2024,2024,2024,2024,2024,2024,2024,2024,2024,2024,2024,2024,2024,2024,2024,2024,2024,2024,2024,2024,2024,2024,2024,2024,2024,2024,2024,2024,2024,2024,2024,2024,2024,2024,2024,2024,2024,2024,2024,2024,2024,2024,2024,2024,2024,2024,2024,2024,2024,2024,2024,2024,2024,2024,2024,2024,2024,2024,2024,2024,2024,2024,2024,2024,2024,2024,2024,2024,2024,2024,2024,2024,2024,2024,2024,2024,2024,2024,2024,2024,2024,2024,2024,2024,2024,2024,2024,2024,2024,2024,2024,2024,2024,2024,2024,2024,2024,2024,2024,2024,2024,2024,2024,2024,2024,2024,2024,2024,2024,2024,2024,2024,2024,2024,2024,2024,2024,2024,2024,2024,2024,2024,2024,2024,2024,2024,2024,2024,2024,2024,2024,2024,2024,2024,2024,2024,2024,2024,2024,2024,2024,2024,2024,2024,2024,2024,2024,2024,2024,2024,2024,2024,2024,2024,2024,2024,2024,2024,2024,2024,2024,2024,2024,2024,2024,2024,2024,2024,2024,2024,2024,2024,2024,2024,2024,2024,2024,2024,2024,2024,2024,2024,2024,2024,2024,2024,2024,2024,2024,2024,2024,2024,2024,2024,2024,2024,2024,2024,2024,2024,2024,2024,2024,2024,2024,2024,2024,2024,2024,2024,2024,2024,2024,2024,2024,2024,2024,2024,2024,2024,2024,2024,2024,2024,2024,2024,2024,2024,2024,2024,2024,2024,2024,2024,2024,2024,2024,2024,2024,2024,2024,2024,2024,2024,2024,2024,2024,2024,2024,2024,2024,2024,2024,2024,2024,2024,2024,2024,2024,2024,2024,2024,2024,2024,2024,2024,2024,2024,2024,2024,2024,2024,2024,2024,2024,2024,2024,2024,2024,2024,2024,2024,2024,2024,2024,2024,2024,2024,2024,2024,2024,2024,2024,2024,2024,2024,2024,2024,2024,2024,2024,2024,2024,2024,2024,2024,2024,2024,2024,2024,2024,2024,2024,2024,2024,2024,2024,2024,2024,2024,2024,2024,2024,2024,2024,2024,2024,2024,2024,2024,2024,2024,2024,2024,2024,2024,2024,2024,2024,2024,2024,2024,2024,2024,2024,2024,2024,2024,2024,2024,2024,2024,2024,2024,2024,2024,2024,2024,2024,2024,2024,2024,2024,2024,2024,2024,2024,2024,2024,2024,2024,2024,2024,2024,2024,2024,2024,2024,2024,2024,2024,2024,2024,2024,2024,2024,2024,2024,2024,2024,2024,2024,2024,2024,2024,2024,2024,2024,2024,2024,2024,2024,2024,2024,2024,2024,2024,2024,2024,2024,2024,2024,2024,2024,2024,2024,2024,2024,2024,2024,2024,2024,2024,2024,2024,2024,2024,2024,2024,2024,2024,2024,2024,2024,2024,2024,2024,2024,2024,2024,2024,2024,2024,2024,2024,2024,2024,2024,2024,2024,2024,2024,2024,2024,2024,2024,2024,2024,2024,2024,2024,2024,2024,2024,2024,2024,2024,2024,2024,2024,2024,2024,2024,2024,2024,2024,2024,2024,2024,2024,2024,2024,2024,2024,2024,2024,2024,2024,2024,2024,2024,2024,2024,2024,2024,2024,2024,2024,2024,2024,2024,2024,2024,2024,2024,2024,2024,2024,2024,2024,2024,2024,2024,2024,2024,2024,2024,2024,2024,2024,2024,2024,2024,2024,2024,2024,2024,2024,2024,2024,2024,2024,2024,2024,2024,2024,2024,2024,2024,2024,2024,2024,2024,2024,2024,2024,2024,2024,2024,2024,2024,2024,2024,2024,2024,2024,2024,2024,2024,2024,2024,2024,2024,2024,2024,2024,2024,2024,2024,2024,2024,2024,2024,2024,2024,2024,2024,2024,2024,2024,2024,2024,2024,2024,2024,2024,2024,2024,2024,2024,2024,2024,2024,2024,2024,2024,2024,2024,2024,2024,2024,2024,2024,2024,2024,2024,2024,2024,2024,2024,2024,2024,2024,2024,2024,2024,2024,2024,2024,2024,2024,2024,2024,2024,2024,2024,2024,2024,2024,2024,2024,2024,2024,2024,2024,2024,2024,2024,2024,2024,2024,2024,2024,2024,2024,2024,2024,2024,2024,2024,2024,2024,2024,2024,2024,2024,2024,2024,2024,2024,2024,2024,2024,2024],\"coloraxis\":\"coloraxis\",\"symbol\":\"circle\"},\"mode\":\"markers\",\"name\":\"\",\"orientation\":\"v\",\"showlegend\":false,\"x\":[50001.0,49615.0,83568.0,62043.0,55463.0,67899.0,60236.0,84601.0,75309.0,85998.0,51502.0,62043.0,62043.0,78971.0,134627.0,55463.0,75193.0,62043.0,57127.0,70022.0,46693.0,48545.0,62043.0,50001.0,46693.0,50001.0,62043.0,62043.0,55507.0,79454.0,113395.0,132101.0,76127.0,42092.0,55463.0,94522.0,36955.0,60236.0,57127.0,99248.0,70022.0,57127.0,79177.0,94521.0,75193.0,62043.0,57127.0,62043.0,62043.0,51502.0,62043.0,57127.0,57779.0,57127.0,94521.0,62043.0,51502.0,51502.0,93784.0,78971.0,62043.0,62043.0,94522.0,102744.0,114425.0,130976.0,77140.0,55463.0,57127.0,84413.0,80733.0,75193.0,62043.0,94521.0,47132.0,55463.0,57127.0,93640.0,57127.0,57127.0,70022.0,99045.0,57127.0,49615.0,57127.0,55463.0,35879.0,72190.0,55463.0,55463.0,57127.0,57843.0,94521.0,64001.0,62043.0,57127.0,94522.0,57127.0,70022.0,49615.0,57127.0,50001.0,51502.0,51502.0,57127.0,57127.0,62043.0,84601.0,52320.0,50001.0,75193.0,57127.0,78786.0,62043.0,62043.0,53848.0,97721.0,60236.0,51502.0,46393.0,64897.0,55507.0,49615.0,51502.0,62043.0,62043.0,91625.0,94521.0,97920.0,102385.0,109387.0,112551.0,122661.0,128208.0,145922.0,75193.0,77140.0,76127.0,36955.0,94521.0,75193.0,57127.0,57127.0,57127.0,70022.0,86565.0,75193.0,38250.0,75193.0,38712.0,65291.0,75270.0,35879.0,38177.0,57779.0,66003.0,57127.0,60236.0,49615.0,57127.0,57127.0,57127.0,79798.0,86565.0,82400.0,98717.0,57127.0,75193.0,75193.0,57127.0,65921.0,67983.0,57127.0,89435.0,35879.0,57127.0,79798.0,70022.0,70022.0,55463.0,70022.0,62043.0,50001.0,60236.0,62043.0,60889.0,57127.0,60236.0,66274.0,77140.0,74893.0,57127.0,70022.0,57127.0,70024.0,62043.0,51502.0,55463.0,35879.0,50001.0,57127.0,75193.0,62043.0,57127.0,91882.0,50001.0,51502.0,51502.0,62043.0,62043.0,73034.0,84601.0,55463.0,99372.0,131797.0,57127.0,57127.0,67899.0,57127.0,62043.0,75193.0,65921.0,50001.0,86565.0,62043.0,62043.0,63279.0,70907.0,62043.0,62043.0,60236.0,125186.0,70022.0,84601.0,62043.0,97602.0,62043.0,70022.0,62043.0,50001.0,53890.0,62043.0,62043.0,94597.0,51502.0,55507.0,62043.0,46434.0,62043.0,62043.0,84143.0,62043.0,100053.0,62043.0,91148.0,91587.0,92711.0,94521.0,94597.0,100786.0,100353.0,102846.0,99869.0,103546.0,108973.0,112300.0,131826.0,124261.0,124932.0,126952.0,135891.0,146317.0,77140.0,76127.0,73910.0,86500.0,86292.0,37065.0,86985.0,77140.0,79798.0,57127.0,75193.0,55463.0,57127.0,57127.0,57127.0,57127.0,57127.0,87790.0,55463.0,86195.0,55463.0,94543.0,99248.0,119986.0,75193.0,75193.0,55463.0,55463.0,290.0,66978.0,75193.0,63726.0,50610.0,47693.0,86978.0,60236.0,103000.0,76127.0,35879.0,67899.0,55463.0,46982.0,57127.0,57127.0,55463.0,55463.0,94521.0,58482.0,57127.0,57127.0,57127.0,57127.0,57127.0,57127.0,55463.0,57127.0,76270.0,75193.0,77024.0,75193.0,83958.0,94521.0,43144.0,57127.0,41279.0,57127.0,41887.0,57127.0,56167.0,57127.0,55463.0,35879.0,55463.0,60236.0,55463.0,55463.0,55463.0,35879.0,72033.0,76377.0,57127.0,65102.0,57127.0,57127.0,60889.0,86565.0,106473.0,75193.0,57127.0,57127.0,75193.0,57127.0,66950.0,98501.0,70664.0,56343.0,56097.0,60236.0,47132.0,57127.0,67536.0,57127.0,108434.0,57127.0,55463.0,62043.0,57127.0,60236.0,97721.0,61114.0,57127.0,77140.0,74893.0,57127.0,74893.0,59334.0,60889.0,62043.0,57127.0,42092.0,62043.0,44013.0,37065.0,50001.0,55463.0,65921.0,62043.0,62043.0,55463.0,60236.0,55463.0,57127.0,72505.0,128457.0,57127.0,57127.0,58916.0,90971.0,57127.0,60236.0,75193.0,56167.0,51502.0,51502.0,51502.0,51502.0,51502.0,51502.0,38177.0,74893.0,55463.0,62043.0,62043.0,62043.0,75193.0,62043.0,57127.0,94521.0,62043.0,84601.0,62043.0,60236.0,51502.0,57127.0,74858.0,62845.0,62043.0,115980.0,62043.0,57127.0,57127.0,57127.0,74893.0,85998.0,55507.0,63029.0,51502.0,94521.0,62043.0,62043.0,62043.0,56974.0,70022.0,62043.0,51502.0,57127.0,62043.0,61818.0,62043.0,51502.0,62043.0,62043.0,62043.0,62043.0,62043.0,62043.0,51502.0,51502.0,55463.0,60889.0,51502.0,51502.0,62043.0,62043.0,82192.0,62043.0,62043.0,101456.0,51502.0,51502.0,51502.0,77140.0,69955.0,67983.0,70022.0,62043.0,73876.0,62043.0,64232.0,62043.0,50001.0,55507.0,94522.0,62043.0,62043.0,46393.0,94800.0,50001.0,70022.0,57127.0,36955.0,64926.0,62043.0,62043.0,60236.0,51502.0,70087.0,42192.0,89220.0,89561.0,94598.0,91054.0,142273.0,92292.0,102982.0,94031.0,94597.0,94597.0,95668.0,96793.0,99045.0,99045.0,100353.0,103973.0,105108.0,105733.0,104919.0,106360.0,108973.0,108973.0,110435.0,111769.0,115259.0,116835.0,117243.0,116467.0,115409.0,123806.0,125681.0,125044.0,124534.0,125056.0,145642.0,142377.0,154465.0,167699.0,64001.0,52280.0,38177.0,76127.0,60236.0,73910.0,73910.0,76127.0,77140.0,73910.0,58482.0,77140.0,35879.0,57598.0,55463.0,55463.0,97116.0,290.0,57127.0,72100.0,75193.0,57127.0,55911.0,57127.0,57127.0,55463.0,57127.0,55463.0,60236.0,55463.0,57127.0,40957.0,110000.0,49615.0,75193.0,57127.0,57127.0,57127.0,55463.0,60236.0,70022.0,60236.0,72504.0,79410.0,57127.0,57127.0,58526.0,57127.0,57127.0,55463.0,70022.0,60236.0,57127.0,55463.0,62043.0,55507.0,60236.0,50001.0,75193.0,75193.0,290.0,27.16,38250.0,62043.0,62137.0,76101.0,56097.0,75193.0,74893.0,70022.0,48545.0,57570.0,137917.0,42092.0,60236.0,49615.0,35879.0,57127.0,87203.0,48545.0,55463.0,57127.0,35879.0,84601.0,57127.0,55463.0,57127.0,55463.0,55463.0,57127.0,67899.0,66672.0,40998.0,87881.0,57127.0,57127.0,57127.0,57127.0,57127.0,55463.0,57127.0,57127.0,57127.0,57127.0,57127.0,57127.0,55463.0,55463.0,60889.0,57127.0,91768.0,60889.0,123600.0,38712.0,70022.0,70022.0,73159.0,75193.0,79543.0,82192.0,81596.0,94521.0,57127.0,57127.0,57127.0,57127.0,55463.0,55463.0,57127.0,75193.0,60889.0,55463.0,75193.0,57127.0,75193.0,62043.0,77483.0,57127.0,67899.0,57127.0,50001.0,57127.0,61135.0,74893.0,57127.0,62043.0,35879.0,74894.0,74893.0,57127.0,62043.0,57127.0,56300.0,57127.0,77024.0,55463.0,57127.0,57127.0,62043.0,57127.0,62043.0,55463.0,48545.0,94310.0,57127.0,55463.0,60889.0,49615.0,103000.0,75398.0,84981.0,94521.0,124368.0,57127.0,55463.0,67899.0,49615.0,57127.0,62043.0,75193.0,94521.0,62043.0,42773.0,85998.0,50001.0,50001.0,61860.0,62043.0,55463.0,55463.0,62043.0,55463.0,50001.0,57127.0,57127.0,50001.0,55463.0,55463.0,62043.0,57127.0,62043.0,57127.0,77491.0,94521.0,57127.0,57127.0,57127.0,79798.0,62043.0,92630.0,55463.0,57127.0,57127.0,55463.0,57127.0,101295.0,55463.0,84140.0,57127.0,62043.0,62043.0,57127.0,74893.0,62043.0,56300.0,57127.0,57127.0,62043.0,65921.0,57779.0,57127.0,65921.0,57127.0,57127.0,57127.0,55463.0,57127.0,62043.0,57127.0,84981.0,62043.0,55463.0,55463.0,35879.0,57127.0,50001.0,62043.0,55507.0,57127.0,57127.0,74893.0,74894.0,72123.0,74894.0,62043.0,57127.0,55463.0,74893.0,57127.0,62043.0,70022.0,57127.0,62043.0,70022.0,94521.0,94522.0,57127.0,135665.0,75193.0,49615.0,75193.0,94310.0,40619.0,57127.0,50001.0,62043.0,85998.0,106071.0,98501.0,62043.0,62043.0,55463.0,51502.0,51502.0,51502.0,51502.0,51502.0,51502.0,51502.0,51502.0,51502.0,51502.0,51502.0,51502.0,51502.0,60236.0,57127.0,62043.0,60889.0,57127.0,62043.0,98501.0,51502.0,57127.0,57127.0,55463.0,62043.0,76514.0,62043.0,38712.0,51502.0,57127.0,140000.0,75193.0,62043.0,62043.0,51502.0,51502.0,76724.0,48545.0,57127.0,51502.0,57127.0,51502.0,57127.0,51502.0,65559.0,67983.0,50001.0,62043.0,60236.0,60889.0,108150.0,94522.0,57127.0,62043.0,62043.0,57127.0,62043.0,45333.0,62043.0,70022.0,77140.0,44013.0,62043.0,50001.0,51502.0,100911.0,87340.0,57127.0,77140.0,62043.0,57127.0,57127.0,77025.0,57127.0,48094.0,50001.0,90041.0,62043.0,62908.0,62043.0,70022.0,62043.0,36955.0,62043.0,62043.0,58482.0,57529.0,87139.0,62043.0,55463.0,62043.0,82192.0,85959.0,60236.0,94310.0,38858.0,55507.0,67899.0,62043.0,43144.0,62043.0,62043.0,49615.0,62043.0,62043.0,62043.0,70022.0,84877.0,62043.0,97721.0,62043.0,50001.0,62043.0,51502.0,64232.0,62043.0,60236.0,62043.0,51502.0,62043.0,57127.0,60236.0,102679.0,60236.0,58406.0,62043.0,62043.0,77025.0,62043.0,62043.0,46693.0,97139.0,68813.0,119455.0,51502.0,62043.0,60889.0,49615.0,55463.0,62043.0,70022.0,69722.0,67899.0,50001.0,67983.0,70022.0,62043.0,51502.0,50001.0,94310.0,36955.0,62043.0,67899.0,55463.0,60236.0,51502.0,62043.0,62043.0,55507.0,59513.0,51502.0,62043.0,51502.0,94521.0,99248.0,62043.0,58526.0,97139.0,62043.0,82192.0],\"xaxis\":\"x\",\"y\":[28.28,115.5,6.89,27.88,62.14,114.81,0.0,6.86,13.19,27.75,44.45,62.06,92.66,114.25,0.0,0.0,0.0,6.83,8.25,13.02,18.47,27.47,37.95,44.45,51.1,62.05,77.27,92.36,106.0,114.14,0.0,0.0,0.0,0.0,0.0,0.0,3.54,6.59,8.25,8.25,8.75,12.8,16.5,18.3,24.75,27.12,33.0,37.94,41.25,44.45,46.56,50.5,57.59,61.64,69.97,76.85,84.21,91.88,99.47,106.0,110.85,114.13,0.0,0.0,0.0,0.0,0.0,0.0,0.0,0.0,0.0,0.0,0.0,0.0,0.94,3.54,5.31,6.22,8.25,8.25,8.25,8.25,8.25,8.75,10.93,12.8,15.45,16.5,16.5,18.21,21.81,24.75,25.11,27.08,30.91,33.0,35.16,37.65,40.44,41.25,42.25,44.45,44.45,46.13,49.5,50.5,53.65,57.29,58.86,61.59,66.0,69.89,74.25,76.65,81.17,83.99,88.83,91.7,95.93,99.06,103.72,106.0,108.25,110.45,112.19,113.61,0.0,0.0,0.0,0.0,0.0,0.0,0.0,0.0,0.0,0.0,0.0,0.0,0.0,0.0,0.0,0.0,0.0,0.0,0.0,0.0,0.0,0.0,0.0,0.0,0.32,0.92,2.0,3.05,4.19,5.28,6.07,6.07,7.9,8.25,8.25,8.25,8.25,8.25,8.25,8.25,8.25,8.25,8.25,8.75,9.28,10.75,12.04,12.7,13.6,15.17,16.5,16.5,16.5,16.5,17.0,18.11,19.84,21.45,22.57,24.75,24.75,24.75,25.67,27.0,29.59,30.82,32.55,33.0,33.48,34.85,35.56,37.55,38.72,40.35,41.25,41.25,41.25,42.2,43.59,44.45,44.45,44.45,44.58,45.55,48.04,49.39,49.71,50.23,52.74,53.65,56.07,57.17,57.75,58.25,60.25,61.35,63.62,66.0,67.61,69.41,72.11,74.25,74.75,76.62,78.47,80.86,83.0,83.72,86.29,88.75,90.41,91.63,94.32,95.5,97.4,99.0,101.06,103.64,105.33,106.0,107.25,107.95,109.62,109.98,111.8,112.14,112.48,113.32,0.0,0.0,0.0,0.0,0.0,0.0,0.0,0.0,0.0,0.0,0.0,0.0,0.0,0.0,0.0,0.0,0.0,0.0,0.0,0.0,0.0,0.0,0.0,0.0,0.0,0.0,0.0,0.0,0.0,0.0,0.0,0.0,0.0,0.0,0.0,0.0,0.0,0.0,0.0,0.0,0.0,0.0,0.0,0.0,0.0,0.0,0.0,0.0,0.0,0.27,0.57,0.76,1.15,1.73,2.05,2.96,4.01,4.18,4.55,4.95,6.07,6.07,6.07,6.07,7.53,7.9,8.25,8.25,8.25,8.25,8.25,8.25,8.25,8.25,8.25,8.25,8.25,8.25,8.25,8.25,8.25,8.25,8.25,8.25,8.25,8.25,8.54,8.75,8.75,9.26,10.62,10.62,11.38,12.04,12.14,12.54,13.4,13.58,14.32,14.53,16.5,16.5,16.5,16.5,16.5,16.5,16.5,16.5,16.5,17.0,17.5,18.01,18.78,19.08,20.42,21.24,22.38,22.57,24.57,24.75,24.75,24.75,24.75,24.75,25.25,25.57,26.04,26.92,28.69,29.46,30.64,30.82,31.99,32.53,32.84,33.0,33.0,33.0,33.5,34.79,35.39,35.56,36.79,37.26,38.31,38.4,39.07,39.56,40.98,41.25,41.25,41.25,41.25,41.25,41.68,41.75,42.87,43.46,43.75,44.22,44.45,44.45,44.45,44.45,44.45,44.45,44.91,45.44,47.32,47.87,48.28,49.24,49.5,49.5,50.0,50.0,52.63,52.74,53.2,53.39,54.72,55.57,56.72,57.09,57.75,57.75,57.84,58.25,59.36,60.12,60.32,61.25,62.67,63.59,65.7,66.0,66.57,67.61,68.44,68.81,70.71,79.8,73.28,74.09,74.25,74.32,74.75,75.96,78.04,78.37,79.3,80.35,82.5,82.93,83.24,83.61,85.0,86.0,87.67,88.71,90.08,90.21,90.75,91.25,93.18,94.05,94.77,95.42,96.97,97.35,97.67,99.0,100.0,100.83,101.88,103.55,104.09,105.07,106.0,106.0,106.9,107.25,107.25,107.94,109.02,109.59,109.75,109.86,110.88,111.58,111.8,111.94,112.2,112.22,112.62,113.29,0.0,0.0,0.0,0.0,0.0,0.0,0.0,0.0,0.0,0.0,0.0,0.0,0.0,0.0,0.0,0.0,0.0,0.0,0.0,0.0,0.0,0.0,0.0,0.0,0.0,0.0,0.0,0.0,0.0,0.0,0.0,0.0,0.0,0.0,0.0,0.0,0.0,0.0,0.0,0.0,0.0,0.0,0.0,0.0,0.0,0.0,0.0,0.0,0.0,0.0,0.0,0.0,0.0,0.0,0.0,0.0,0.0,0.0,0.0,0.0,0.0,0.0,0.0,0.0,0.0,0.0,0.0,0.0,0.0,0.0,0.0,0.0,0.0,0.0,0.0,0.0,0.0,0.0,0.0,0.0,0.0,0.0,0.0,0.0,0.0,0.0,0.0,0.0,0.0,0.0,0.0,0.0,0.0,0.0,0.0,0.0,0.0,0.0,0.0,0.04,0.43,0.47,0.74,0.74,0.96,1.14,1.21,1.22,2.0,6.48,2.09,2.8,3.79,3.95,4.01,4.05,4.36,4.42,4.55,4.55,5.6,6.02,6.07,6.07,6.07,6.07,6.07,6.07,7.22,7.3,7.62,7.86,8.25,8.25,8.25,8.25,8.25,8.25,8.25,8.25,8.25,8.25,8.25,8.25,8.25,8.25,8.25,8.25,8.25,8.25,8.25,8.25,8.25,8.25,8.25,8.25,8.25,8.25,8.25,8.25,8.25,8.25,8.25,8.25,8.25,8.25,8.25,8.25,8.25,8.25,8.25,8.25,8.25,8.25,8.74,8.75,8.75,8.75,8.89,9.11,9.9,10.05,10.62,10.62,11.16,11.19,11.89,11.89,12.04,12.14,12.18,12.5,13.31,13.4,13.56,13.56,13.91,14.32,14.32,14.32,16.0,16.23,16.5,16.5,16.5,16.5,16.5,16.5,16.5,16.5,16.5,16.5,16.5,16.5,16.5,16.5,16.5,16.5,16.5,16.69,17.12,17.39,17.78,17.78,18.58,18.64,18.96,18.97,20.29,20.39,20.52,21.05,21.81,21.89,22.57,22.57,23.42,23.56,24.7,24.75,24.75,24.75,24.75,24.75,24.75,24.75,24.75,24.75,25.2,25.25,25.25,25.25,25.75,25.75,26.46,26.82,28.64,28.64,29.15,29.3,29.91,30.56,30.69,30.82,30.92,31.53,32.4,32.53,32.79,32.79,33.0,33.0,33.0,33.0,33.0,33.0,33.5,33.5,34.11,34.71,35.21,35.33,35.5,35.56,36.22,36.71,36.89,37.19,38.06,38.21,38.32,38.4,39.05,39.07,39.07,39.09,40.68,40.78,41.08,41.25,41.25,41.25,41.25,41.25,41.25,41.25,41.25,41.25,41.25,41.47,41.71,41.75,42.41,42.86,43.0,43.35,43.62,43.62,44.12,44.12,44.45,44.45,44.45,44.45,44.45,44.45,44.45,44.45,44.45,44.45,44.45,44.45,44.64,44.82,45.14,45.23,46.75,47.32,47.42,47.87,48.28,48.28,48.58,49.08,49.5,49.5,49.5,49.5,49.93,50.0,50.0,50.0,51.71,51.87,52.7,52.7,53.0,53.16,53.29,53.34,54.55,54.71,55.05,55.4,56.57,56.72,56.77,56.91,57.75,57.75,57.75,57.75,57.75,57.84,58.22,58.25,59.03,59.24,59.66,59.87,60.27,60.31,60.5,60.95,62.19,62.4,62.9,63.47,64.18,65.25,66.0,66.0,66.5,66.5,67.22,67.35,68.19,68.23,68.49,68.77,70.44,70.55,70.8,71.03,72.57,72.83,73.59,73.9,74.25,74.25,74.25,74.25,74.75,74.75,74.81,75.33,77.6,77.96,78.14,78.26,78.86,79.2,79.42,80.32,81.93,82.45,82.5,82.5,83.0,83.18,83.35,83.44,84.62,84.82,85.82,85.88,86.58,87.04,87.67,87.93,89.07,89.91,90.09,90.09,90.59,90.7,90.75,90.75,92.86,93.12,93.48,93.55,94.34,94.48,94.8,95.3,95.94,96.86,97.02,97.06,97.46,97.67,98.31,98.37,99.67,100.0,100.04,100.67,101.46,101.67,103.05,103.41,103.88,103.88,104.54,104.68,105.57,105.92,106.0,106.0,106.48,106.75,107.04,107.25,107.25,107.25,107.53,107.68,108.36,115.5],\"yaxis\":\"y\",\"type\":\"scatter\"}],                        {\"template\":{\"data\":{\"histogram2dcontour\":[{\"type\":\"histogram2dcontour\",\"colorbar\":{\"outlinewidth\":0,\"ticks\":\"\"},\"colorscale\":[[0.0,\"#0d0887\"],[0.1111111111111111,\"#46039f\"],[0.2222222222222222,\"#7201a8\"],[0.3333333333333333,\"#9c179e\"],[0.4444444444444444,\"#bd3786\"],[0.5555555555555556,\"#d8576b\"],[0.6666666666666666,\"#ed7953\"],[0.7777777777777778,\"#fb9f3a\"],[0.8888888888888888,\"#fdca26\"],[1.0,\"#f0f921\"]]}],\"choropleth\":[{\"type\":\"choropleth\",\"colorbar\":{\"outlinewidth\":0,\"ticks\":\"\"}}],\"histogram2d\":[{\"type\":\"histogram2d\",\"colorbar\":{\"outlinewidth\":0,\"ticks\":\"\"},\"colorscale\":[[0.0,\"#0d0887\"],[0.1111111111111111,\"#46039f\"],[0.2222222222222222,\"#7201a8\"],[0.3333333333333333,\"#9c179e\"],[0.4444444444444444,\"#bd3786\"],[0.5555555555555556,\"#d8576b\"],[0.6666666666666666,\"#ed7953\"],[0.7777777777777778,\"#fb9f3a\"],[0.8888888888888888,\"#fdca26\"],[1.0,\"#f0f921\"]]}],\"heatmap\":[{\"type\":\"heatmap\",\"colorbar\":{\"outlinewidth\":0,\"ticks\":\"\"},\"colorscale\":[[0.0,\"#0d0887\"],[0.1111111111111111,\"#46039f\"],[0.2222222222222222,\"#7201a8\"],[0.3333333333333333,\"#9c179e\"],[0.4444444444444444,\"#bd3786\"],[0.5555555555555556,\"#d8576b\"],[0.6666666666666666,\"#ed7953\"],[0.7777777777777778,\"#fb9f3a\"],[0.8888888888888888,\"#fdca26\"],[1.0,\"#f0f921\"]]}],\"heatmapgl\":[{\"type\":\"heatmapgl\",\"colorbar\":{\"outlinewidth\":0,\"ticks\":\"\"},\"colorscale\":[[0.0,\"#0d0887\"],[0.1111111111111111,\"#46039f\"],[0.2222222222222222,\"#7201a8\"],[0.3333333333333333,\"#9c179e\"],[0.4444444444444444,\"#bd3786\"],[0.5555555555555556,\"#d8576b\"],[0.6666666666666666,\"#ed7953\"],[0.7777777777777778,\"#fb9f3a\"],[0.8888888888888888,\"#fdca26\"],[1.0,\"#f0f921\"]]}],\"contourcarpet\":[{\"type\":\"contourcarpet\",\"colorbar\":{\"outlinewidth\":0,\"ticks\":\"\"}}],\"contour\":[{\"type\":\"contour\",\"colorbar\":{\"outlinewidth\":0,\"ticks\":\"\"},\"colorscale\":[[0.0,\"#0d0887\"],[0.1111111111111111,\"#46039f\"],[0.2222222222222222,\"#7201a8\"],[0.3333333333333333,\"#9c179e\"],[0.4444444444444444,\"#bd3786\"],[0.5555555555555556,\"#d8576b\"],[0.6666666666666666,\"#ed7953\"],[0.7777777777777778,\"#fb9f3a\"],[0.8888888888888888,\"#fdca26\"],[1.0,\"#f0f921\"]]}],\"surface\":[{\"type\":\"surface\",\"colorbar\":{\"outlinewidth\":0,\"ticks\":\"\"},\"colorscale\":[[0.0,\"#0d0887\"],[0.1111111111111111,\"#46039f\"],[0.2222222222222222,\"#7201a8\"],[0.3333333333333333,\"#9c179e\"],[0.4444444444444444,\"#bd3786\"],[0.5555555555555556,\"#d8576b\"],[0.6666666666666666,\"#ed7953\"],[0.7777777777777778,\"#fb9f3a\"],[0.8888888888888888,\"#fdca26\"],[1.0,\"#f0f921\"]]}],\"mesh3d\":[{\"type\":\"mesh3d\",\"colorbar\":{\"outlinewidth\":0,\"ticks\":\"\"}}],\"scatter\":[{\"fillpattern\":{\"fillmode\":\"overlay\",\"size\":10,\"solidity\":0.2},\"type\":\"scatter\"}],\"parcoords\":[{\"type\":\"parcoords\",\"line\":{\"colorbar\":{\"outlinewidth\":0,\"ticks\":\"\"}}}],\"scatterpolargl\":[{\"type\":\"scatterpolargl\",\"marker\":{\"colorbar\":{\"outlinewidth\":0,\"ticks\":\"\"}}}],\"bar\":[{\"error_x\":{\"color\":\"#2a3f5f\"},\"error_y\":{\"color\":\"#2a3f5f\"},\"marker\":{\"line\":{\"color\":\"#E5ECF6\",\"width\":0.5},\"pattern\":{\"fillmode\":\"overlay\",\"size\":10,\"solidity\":0.2}},\"type\":\"bar\"}],\"scattergeo\":[{\"type\":\"scattergeo\",\"marker\":{\"colorbar\":{\"outlinewidth\":0,\"ticks\":\"\"}}}],\"scatterpolar\":[{\"type\":\"scatterpolar\",\"marker\":{\"colorbar\":{\"outlinewidth\":0,\"ticks\":\"\"}}}],\"histogram\":[{\"marker\":{\"pattern\":{\"fillmode\":\"overlay\",\"size\":10,\"solidity\":0.2}},\"type\":\"histogram\"}],\"scattergl\":[{\"type\":\"scattergl\",\"marker\":{\"colorbar\":{\"outlinewidth\":0,\"ticks\":\"\"}}}],\"scatter3d\":[{\"type\":\"scatter3d\",\"line\":{\"colorbar\":{\"outlinewidth\":0,\"ticks\":\"\"}},\"marker\":{\"colorbar\":{\"outlinewidth\":0,\"ticks\":\"\"}}}],\"scattermapbox\":[{\"type\":\"scattermapbox\",\"marker\":{\"colorbar\":{\"outlinewidth\":0,\"ticks\":\"\"}}}],\"scatterternary\":[{\"type\":\"scatterternary\",\"marker\":{\"colorbar\":{\"outlinewidth\":0,\"ticks\":\"\"}}}],\"scattercarpet\":[{\"type\":\"scattercarpet\",\"marker\":{\"colorbar\":{\"outlinewidth\":0,\"ticks\":\"\"}}}],\"carpet\":[{\"aaxis\":{\"endlinecolor\":\"#2a3f5f\",\"gridcolor\":\"white\",\"linecolor\":\"white\",\"minorgridcolor\":\"white\",\"startlinecolor\":\"#2a3f5f\"},\"baxis\":{\"endlinecolor\":\"#2a3f5f\",\"gridcolor\":\"white\",\"linecolor\":\"white\",\"minorgridcolor\":\"white\",\"startlinecolor\":\"#2a3f5f\"},\"type\":\"carpet\"}],\"table\":[{\"cells\":{\"fill\":{\"color\":\"#EBF0F8\"},\"line\":{\"color\":\"white\"}},\"header\":{\"fill\":{\"color\":\"#C8D4E3\"},\"line\":{\"color\":\"white\"}},\"type\":\"table\"}],\"barpolar\":[{\"marker\":{\"line\":{\"color\":\"#E5ECF6\",\"width\":0.5},\"pattern\":{\"fillmode\":\"overlay\",\"size\":10,\"solidity\":0.2}},\"type\":\"barpolar\"}],\"pie\":[{\"automargin\":true,\"type\":\"pie\"}]},\"layout\":{\"autotypenumbers\":\"strict\",\"colorway\":[\"#636efa\",\"#EF553B\",\"#00cc96\",\"#ab63fa\",\"#FFA15A\",\"#19d3f3\",\"#FF6692\",\"#B6E880\",\"#FF97FF\",\"#FECB52\"],\"font\":{\"color\":\"#2a3f5f\"},\"hovermode\":\"closest\",\"hoverlabel\":{\"align\":\"left\"},\"paper_bgcolor\":\"white\",\"plot_bgcolor\":\"#E5ECF6\",\"polar\":{\"bgcolor\":\"#E5ECF6\",\"angularaxis\":{\"gridcolor\":\"white\",\"linecolor\":\"white\",\"ticks\":\"\"},\"radialaxis\":{\"gridcolor\":\"white\",\"linecolor\":\"white\",\"ticks\":\"\"}},\"ternary\":{\"bgcolor\":\"#E5ECF6\",\"aaxis\":{\"gridcolor\":\"white\",\"linecolor\":\"white\",\"ticks\":\"\"},\"baxis\":{\"gridcolor\":\"white\",\"linecolor\":\"white\",\"ticks\":\"\"},\"caxis\":{\"gridcolor\":\"white\",\"linecolor\":\"white\",\"ticks\":\"\"}},\"coloraxis\":{\"colorbar\":{\"outlinewidth\":0,\"ticks\":\"\"}},\"colorscale\":{\"sequential\":[[0.0,\"#0d0887\"],[0.1111111111111111,\"#46039f\"],[0.2222222222222222,\"#7201a8\"],[0.3333333333333333,\"#9c179e\"],[0.4444444444444444,\"#bd3786\"],[0.5555555555555556,\"#d8576b\"],[0.6666666666666666,\"#ed7953\"],[0.7777777777777778,\"#fb9f3a\"],[0.8888888888888888,\"#fdca26\"],[1.0,\"#f0f921\"]],\"sequentialminus\":[[0.0,\"#0d0887\"],[0.1111111111111111,\"#46039f\"],[0.2222222222222222,\"#7201a8\"],[0.3333333333333333,\"#9c179e\"],[0.4444444444444444,\"#bd3786\"],[0.5555555555555556,\"#d8576b\"],[0.6666666666666666,\"#ed7953\"],[0.7777777777777778,\"#fb9f3a\"],[0.8888888888888888,\"#fdca26\"],[1.0,\"#f0f921\"]],\"diverging\":[[0,\"#8e0152\"],[0.1,\"#c51b7d\"],[0.2,\"#de77ae\"],[0.3,\"#f1b6da\"],[0.4,\"#fde0ef\"],[0.5,\"#f7f7f7\"],[0.6,\"#e6f5d0\"],[0.7,\"#b8e186\"],[0.8,\"#7fbc41\"],[0.9,\"#4d9221\"],[1,\"#276419\"]]},\"xaxis\":{\"gridcolor\":\"white\",\"linecolor\":\"white\",\"ticks\":\"\",\"title\":{\"standoff\":15},\"zerolinecolor\":\"white\",\"automargin\":true,\"zerolinewidth\":2},\"yaxis\":{\"gridcolor\":\"white\",\"linecolor\":\"white\",\"ticks\":\"\",\"title\":{\"standoff\":15},\"zerolinecolor\":\"white\",\"automargin\":true,\"zerolinewidth\":2},\"scene\":{\"xaxis\":{\"backgroundcolor\":\"#E5ECF6\",\"gridcolor\":\"white\",\"linecolor\":\"white\",\"showbackground\":true,\"ticks\":\"\",\"zerolinecolor\":\"white\",\"gridwidth\":2},\"yaxis\":{\"backgroundcolor\":\"#E5ECF6\",\"gridcolor\":\"white\",\"linecolor\":\"white\",\"showbackground\":true,\"ticks\":\"\",\"zerolinecolor\":\"white\",\"gridwidth\":2},\"zaxis\":{\"backgroundcolor\":\"#E5ECF6\",\"gridcolor\":\"white\",\"linecolor\":\"white\",\"showbackground\":true,\"ticks\":\"\",\"zerolinecolor\":\"white\",\"gridwidth\":2}},\"shapedefaults\":{\"line\":{\"color\":\"#2a3f5f\"}},\"annotationdefaults\":{\"arrowcolor\":\"#2a3f5f\",\"arrowhead\":0,\"arrowwidth\":1},\"geo\":{\"bgcolor\":\"white\",\"landcolor\":\"#E5ECF6\",\"subunitcolor\":\"white\",\"showland\":true,\"showlakes\":true,\"lakecolor\":\"white\"},\"title\":{\"x\":0.05},\"mapbox\":{\"style\":\"light\"}}},\"xaxis\":{\"anchor\":\"y\",\"domain\":[0.0,1.0],\"title\":{\"text\":\"base_salary\"}},\"yaxis\":{\"anchor\":\"x\",\"domain\":[0.0,1.0],\"title\":{\"text\":\"total_other_pay\"}},\"coloraxis\":{\"colorbar\":{\"title\":{\"text\":\"fiscal_year\"}},\"colorscale\":[[0.0,\"#0d0887\"],[0.1111111111111111,\"#46039f\"],[0.2222222222222222,\"#7201a8\"],[0.3333333333333333,\"#9c179e\"],[0.4444444444444444,\"#bd3786\"],[0.5555555555555556,\"#d8576b\"],[0.6666666666666666,\"#ed7953\"],[0.7777777777777778,\"#fb9f3a\"],[0.8888888888888888,\"#fdca26\"],[1.0,\"#f0f921\"]]},\"legend\":{\"tracegroupgap\":0},\"margin\":{\"t\":60}},                        {\"responsive\": true}                    ).then(function(){\n",
       "                            \n",
       "var gd = document.getElementById('0f4b2bf0-9ee6-4788-a9b2-be906590d2f1');\n",
       "var x = new MutationObserver(function (mutations, observer) {{\n",
       "        var display = window.getComputedStyle(gd).display;\n",
       "        if (!display || display === 'none') {{\n",
       "            console.log([gd, 'removed!']);\n",
       "            Plotly.purge(gd);\n",
       "            observer.disconnect();\n",
       "        }}\n",
       "}});\n",
       "\n",
       "// Listen for the removal of the full notebook cells\n",
       "var notebookContainer = gd.closest('#notebook-container');\n",
       "if (notebookContainer) {{\n",
       "    x.observe(notebookContainer, {childList: true});\n",
       "}}\n",
       "\n",
       "// Listen for the clearing of the current output cell\n",
       "var outputEl = gd.closest('.output');\n",
       "if (outputEl) {{\n",
       "    x.observe(outputEl, {childList: true});\n",
       "}}\n",
       "\n",
       "                        })                };                });            </script>        </div>"
      ]
     },
     "metadata": {},
     "output_type": "display_data"
    }
   ],
   "source": [
    "fig2 = px.scatter(\n",
    "    pay_clean,\n",
    "    x = \"base_salary\",\n",
    "    y = \"total_other_pay\",\n",
    "    color = \"fiscal_year\"\n",
    ")\n",
    "\n",
    "fig2.show()"
   ]
  },
  {
   "cell_type": "markdown",
   "metadata": {
    "editable": true,
    "slideshow": {
     "slide_type": ""
    },
    "tags": []
   },
   "source": [
    "## Step 0\n",
    "\n",
    "Read the data from the [New York City Population By Community Districts](https://data.cityofnewyork.us/City-Government/New-York-City-Population-By-Community-Districts/xi7c-iiu2/data) data set into a DataFrame called `pop_by_cd`. To get the URL:\n",
    "\n",
    "1. Visit the page linked above.\n",
    "1. Click `Export`.\n",
    "1. Right-click `CSV`.\n",
    "1. Click `Copy Link Address` (or `Location`, depending on your browser)."
   ]
  },
  {
   "cell_type": "code",
   "execution_count": 151,
   "metadata": {
    "editable": true,
    "slideshow": {
     "slide_type": ""
    },
    "tags": [
     "solution"
    ]
   },
   "outputs": [
    {
     "data": {
      "text/html": [
       "<div>\n",
       "<style scoped>\n",
       "    .dataframe tbody tr th:only-of-type {\n",
       "        vertical-align: middle;\n",
       "    }\n",
       "\n",
       "    .dataframe tbody tr th {\n",
       "        vertical-align: top;\n",
       "    }\n",
       "\n",
       "    .dataframe thead th {\n",
       "        text-align: right;\n",
       "    }\n",
       "</style>\n",
       "<table border=\"1\" class=\"dataframe\">\n",
       "  <thead>\n",
       "    <tr style=\"text-align: right;\">\n",
       "      <th></th>\n",
       "      <th>Borough</th>\n",
       "      <th>CD Number</th>\n",
       "      <th>CD Name</th>\n",
       "      <th>1970 Population</th>\n",
       "      <th>1980 Population</th>\n",
       "      <th>1990 Population</th>\n",
       "      <th>2000 Population</th>\n",
       "      <th>2010 Population</th>\n",
       "    </tr>\n",
       "  </thead>\n",
       "  <tbody>\n",
       "    <tr>\n",
       "      <th>0</th>\n",
       "      <td>Bronx</td>\n",
       "      <td>1</td>\n",
       "      <td>Melrose, Mott Haven, Port Morris</td>\n",
       "      <td>138557</td>\n",
       "      <td>78441</td>\n",
       "      <td>77214</td>\n",
       "      <td>82159</td>\n",
       "      <td>91497</td>\n",
       "    </tr>\n",
       "    <tr>\n",
       "      <th>1</th>\n",
       "      <td>Bronx</td>\n",
       "      <td>2</td>\n",
       "      <td>Hunts Point, Longwood</td>\n",
       "      <td>99493</td>\n",
       "      <td>34399</td>\n",
       "      <td>39443</td>\n",
       "      <td>46824</td>\n",
       "      <td>52246</td>\n",
       "    </tr>\n",
       "    <tr>\n",
       "      <th>2</th>\n",
       "      <td>Bronx</td>\n",
       "      <td>3</td>\n",
       "      <td>Morrisania, Crotona Park East</td>\n",
       "      <td>150636</td>\n",
       "      <td>53635</td>\n",
       "      <td>57162</td>\n",
       "      <td>68574</td>\n",
       "      <td>79762</td>\n",
       "    </tr>\n",
       "    <tr>\n",
       "      <th>3</th>\n",
       "      <td>Bronx</td>\n",
       "      <td>4</td>\n",
       "      <td>Highbridge, Concourse Village</td>\n",
       "      <td>144207</td>\n",
       "      <td>114312</td>\n",
       "      <td>119962</td>\n",
       "      <td>139563</td>\n",
       "      <td>146441</td>\n",
       "    </tr>\n",
       "    <tr>\n",
       "      <th>4</th>\n",
       "      <td>Bronx</td>\n",
       "      <td>5</td>\n",
       "      <td>University Hts., Fordham, Mt. Hope</td>\n",
       "      <td>121807</td>\n",
       "      <td>107995</td>\n",
       "      <td>118435</td>\n",
       "      <td>128313</td>\n",
       "      <td>128200</td>\n",
       "    </tr>\n",
       "  </tbody>\n",
       "</table>\n",
       "</div>"
      ],
      "text/plain": [
       "  Borough  CD Number                             CD Name  1970 Population  \\\n",
       "0   Bronx          1    Melrose, Mott Haven, Port Morris           138557   \n",
       "1   Bronx          2               Hunts Point, Longwood            99493   \n",
       "2   Bronx          3       Morrisania, Crotona Park East           150636   \n",
       "3   Bronx          4       Highbridge, Concourse Village           144207   \n",
       "4   Bronx          5  University Hts., Fordham, Mt. Hope           121807   \n",
       "\n",
       "   1980 Population  1990 Population  2000 Population  2010 Population  \n",
       "0            78441            77214            82159            91497  \n",
       "1            34399            39443            46824            52246  \n",
       "2            53635            57162            68574            79762  \n",
       "3           114312           119962           139563           146441  \n",
       "4           107995           118435           128313           128200  "
      ]
     },
     "execution_count": 151,
     "metadata": {},
     "output_type": "execute_result"
    }
   ],
   "source": [
    "url = 'https://data.cityofnewyork.us/api/views/xi7c-iiu2/rows.csv?accessType=DOWNLOAD'\n",
    "pop_by_cd = pd.read_csv(url)\n",
    "\n",
    "pop_by_cd.head()"
   ]
  },
  {
   "cell_type": "markdown",
   "metadata": {
    "editable": true,
    "slideshow": {
     "slide_type": ""
    },
    "tags": []
   },
   "source": [
    "## Step 1\n",
    "\n",
    "Prepare the data. Use the following code to [reshape](https://pandas.pydata.org/pandas-docs/stable/user_guide/reshaping.html#melt-and-wide-to-long) the DataFrame to have one row per community district per Census year."
   ]
  },
  {
   "cell_type": "code",
   "execution_count": 154,
   "metadata": {
    "editable": true,
    "slideshow": {
     "slide_type": ""
    },
    "tags": []
   },
   "outputs": [
    {
     "data": {
      "text/html": [
       "<div>\n",
       "<style scoped>\n",
       "    .dataframe tbody tr th:only-of-type {\n",
       "        vertical-align: middle;\n",
       "    }\n",
       "\n",
       "    .dataframe tbody tr th {\n",
       "        vertical-align: top;\n",
       "    }\n",
       "\n",
       "    .dataframe thead th {\n",
       "        text-align: right;\n",
       "    }\n",
       "</style>\n",
       "<table border=\"1\" class=\"dataframe\">\n",
       "  <thead>\n",
       "    <tr style=\"text-align: right;\">\n",
       "      <th></th>\n",
       "      <th>Borough</th>\n",
       "      <th>CD Number</th>\n",
       "      <th>CD Name</th>\n",
       "      <th>year</th>\n",
       "      <th>population</th>\n",
       "    </tr>\n",
       "  </thead>\n",
       "  <tbody>\n",
       "    <tr>\n",
       "      <th>0</th>\n",
       "      <td>Bronx</td>\n",
       "      <td>1</td>\n",
       "      <td>Melrose, Mott Haven, Port Morris</td>\n",
       "      <td>1970</td>\n",
       "      <td>138557</td>\n",
       "    </tr>\n",
       "    <tr>\n",
       "      <th>1</th>\n",
       "      <td>Bronx</td>\n",
       "      <td>2</td>\n",
       "      <td>Hunts Point, Longwood</td>\n",
       "      <td>1970</td>\n",
       "      <td>99493</td>\n",
       "    </tr>\n",
       "    <tr>\n",
       "      <th>2</th>\n",
       "      <td>Bronx</td>\n",
       "      <td>3</td>\n",
       "      <td>Morrisania, Crotona Park East</td>\n",
       "      <td>1970</td>\n",
       "      <td>150636</td>\n",
       "    </tr>\n",
       "    <tr>\n",
       "      <th>3</th>\n",
       "      <td>Bronx</td>\n",
       "      <td>4</td>\n",
       "      <td>Highbridge, Concourse Village</td>\n",
       "      <td>1970</td>\n",
       "      <td>144207</td>\n",
       "    </tr>\n",
       "    <tr>\n",
       "      <th>4</th>\n",
       "      <td>Bronx</td>\n",
       "      <td>5</td>\n",
       "      <td>University Hts., Fordham, Mt. Hope</td>\n",
       "      <td>1970</td>\n",
       "      <td>121807</td>\n",
       "    </tr>\n",
       "    <tr>\n",
       "      <th>...</th>\n",
       "      <td>...</td>\n",
       "      <td>...</td>\n",
       "      <td>...</td>\n",
       "      <td>...</td>\n",
       "      <td>...</td>\n",
       "    </tr>\n",
       "    <tr>\n",
       "      <th>290</th>\n",
       "      <td>Queens</td>\n",
       "      <td>13</td>\n",
       "      <td>Queens Village, Rosedale</td>\n",
       "      <td>2010</td>\n",
       "      <td>188593</td>\n",
       "    </tr>\n",
       "    <tr>\n",
       "      <th>291</th>\n",
       "      <td>Queens</td>\n",
       "      <td>14</td>\n",
       "      <td>The Rockaways, Broad Channel</td>\n",
       "      <td>2010</td>\n",
       "      <td>114978</td>\n",
       "    </tr>\n",
       "    <tr>\n",
       "      <th>292</th>\n",
       "      <td>Staten Island</td>\n",
       "      <td>1</td>\n",
       "      <td>Stapleton, Port Richmond</td>\n",
       "      <td>2010</td>\n",
       "      <td>175756</td>\n",
       "    </tr>\n",
       "    <tr>\n",
       "      <th>293</th>\n",
       "      <td>Staten Island</td>\n",
       "      <td>2</td>\n",
       "      <td>New Springville, South Beach</td>\n",
       "      <td>2010</td>\n",
       "      <td>132003</td>\n",
       "    </tr>\n",
       "    <tr>\n",
       "      <th>294</th>\n",
       "      <td>Staten Island</td>\n",
       "      <td>3</td>\n",
       "      <td>Tottenville, Woodrow, Great Kills</td>\n",
       "      <td>2010</td>\n",
       "      <td>160209</td>\n",
       "    </tr>\n",
       "  </tbody>\n",
       "</table>\n",
       "<p>295 rows × 5 columns</p>\n",
       "</div>"
      ],
      "text/plain": [
       "           Borough  CD Number                             CD Name  year  \\\n",
       "0            Bronx          1    Melrose, Mott Haven, Port Morris  1970   \n",
       "1            Bronx          2               Hunts Point, Longwood  1970   \n",
       "2            Bronx          3       Morrisania, Crotona Park East  1970   \n",
       "3            Bronx          4       Highbridge, Concourse Village  1970   \n",
       "4            Bronx          5  University Hts., Fordham, Mt. Hope  1970   \n",
       "..             ...        ...                                 ...   ...   \n",
       "290         Queens         13            Queens Village, Rosedale  2010   \n",
       "291         Queens         14        The Rockaways, Broad Channel  2010   \n",
       "292  Staten Island          1            Stapleton, Port Richmond  2010   \n",
       "293  Staten Island          2        New Springville, South Beach  2010   \n",
       "294  Staten Island          3   Tottenville, Woodrow, Great Kills  2010   \n",
       "\n",
       "     population  \n",
       "0        138557  \n",
       "1         99493  \n",
       "2        150636  \n",
       "3        144207  \n",
       "4        121807  \n",
       "..          ...  \n",
       "290      188593  \n",
       "291      114978  \n",
       "292      175756  \n",
       "293      132003  \n",
       "294      160209  \n",
       "\n",
       "[295 rows x 5 columns]"
      ]
     },
     "execution_count": 154,
     "metadata": {},
     "output_type": "execute_result"
    }
   ],
   "source": [
    "# turn the population columns into rows\n",
    "populations = pd.melt(\n",
    "    pop_by_cd,\n",
    "    id_vars=[\"Borough\", \"CD Number\", \"CD Name\"],\n",
    "    var_name=\"year\",\n",
    "    value_name=\"population\",\n",
    ")\n",
    "\n",
    "# turn the years into numbers\n",
    "populations.year = populations.year.str.replace(\" Population\", \"\").astype(int)\n",
    "\n",
    "populations"
   ]
  },
  {
   "cell_type": "markdown",
   "metadata": {
    "editable": true,
    "slideshow": {
     "slide_type": ""
    },
    "tags": []
   },
   "source": [
    "## Step 2\n",
    "\n",
    "Create a line chart of the population over time for each community district in Manhattan. There should be [one line for each](https://plotly.com/python/line-charts/#Line-Plots-with-column-encoding-color)."
   ]
  },
  {
   "cell_type": "code",
   "execution_count": 159,
   "metadata": {
    "editable": true,
    "slideshow": {
     "slide_type": ""
    },
    "tags": [
     "solution"
    ]
   },
   "outputs": [
    {
     "data": {
      "text/html": [
       "<div>\n",
       "<style scoped>\n",
       "    .dataframe tbody tr th:only-of-type {\n",
       "        vertical-align: middle;\n",
       "    }\n",
       "\n",
       "    .dataframe tbody tr th {\n",
       "        vertical-align: top;\n",
       "    }\n",
       "\n",
       "    .dataframe thead th {\n",
       "        text-align: right;\n",
       "    }\n",
       "</style>\n",
       "<table border=\"1\" class=\"dataframe\">\n",
       "  <thead>\n",
       "    <tr style=\"text-align: right;\">\n",
       "      <th></th>\n",
       "      <th>Borough</th>\n",
       "      <th>CD Number</th>\n",
       "      <th>CD Name</th>\n",
       "      <th>year</th>\n",
       "      <th>population</th>\n",
       "    </tr>\n",
       "  </thead>\n",
       "  <tbody>\n",
       "    <tr>\n",
       "      <th>30</th>\n",
       "      <td>Manhattan</td>\n",
       "      <td>1</td>\n",
       "      <td>Battery Park City, Tribeca</td>\n",
       "      <td>1970</td>\n",
       "      <td>7706</td>\n",
       "    </tr>\n",
       "    <tr>\n",
       "      <th>31</th>\n",
       "      <td>Manhattan</td>\n",
       "      <td>2</td>\n",
       "      <td>Greenwich Village, Soho</td>\n",
       "      <td>1970</td>\n",
       "      <td>84337</td>\n",
       "    </tr>\n",
       "    <tr>\n",
       "      <th>32</th>\n",
       "      <td>Manhattan</td>\n",
       "      <td>3</td>\n",
       "      <td>Lower East Side, Chinatown</td>\n",
       "      <td>1970</td>\n",
       "      <td>181845</td>\n",
       "    </tr>\n",
       "    <tr>\n",
       "      <th>33</th>\n",
       "      <td>Manhattan</td>\n",
       "      <td>4</td>\n",
       "      <td>Chelsea, Clinton</td>\n",
       "      <td>1970</td>\n",
       "      <td>83601</td>\n",
       "    </tr>\n",
       "    <tr>\n",
       "      <th>34</th>\n",
       "      <td>Manhattan</td>\n",
       "      <td>5</td>\n",
       "      <td>Midtown Business District</td>\n",
       "      <td>1970</td>\n",
       "      <td>31076</td>\n",
       "    </tr>\n",
       "  </tbody>\n",
       "</table>\n",
       "</div>"
      ],
      "text/plain": [
       "      Borough  CD Number                     CD Name  year  population\n",
       "30  Manhattan          1  Battery Park City, Tribeca  1970        7706\n",
       "31  Manhattan          2     Greenwich Village, Soho  1970       84337\n",
       "32  Manhattan          3  Lower East Side, Chinatown  1970      181845\n",
       "33  Manhattan          4            Chelsea, Clinton  1970       83601\n",
       "34  Manhattan          5   Midtown Business District  1970       31076"
      ]
     },
     "execution_count": 159,
     "metadata": {},
     "output_type": "execute_result"
    }
   ],
   "source": [
    "manhattan = populations[populations[\"Borough\"] == \"Manhattan\"]\n",
    "manhattan.head()"
   ]
  },
  {
   "cell_type": "code",
   "execution_count": 161,
   "metadata": {
    "editable": true,
    "slideshow": {
     "slide_type": ""
    },
    "tags": [
     "solution"
    ]
   },
   "outputs": [
    {
     "data": {
      "application/vnd.plotly.v1+json": {
       "config": {
        "plotlyServerURL": "https://plot.ly"
       },
       "data": [
        {
         "hovertemplate": "Community District=Battery Park City, Tribeca<br>Year=%{x}<br>Population=%{y}<extra></extra>",
         "legendgroup": "Battery Park City, Tribeca",
         "line": {
          "color": "#636efa",
          "dash": "solid"
         },
         "marker": {
          "symbol": "circle"
         },
         "mode": "lines",
         "name": "Battery Park City, Tribeca",
         "orientation": "v",
         "showlegend": true,
         "type": "scatter",
         "x": [
          1970,
          1980,
          1990,
          2000,
          2010
         ],
         "xaxis": "x",
         "y": [
          7706,
          15918,
          25366,
          34420,
          60978
         ],
         "yaxis": "y"
        },
        {
         "hovertemplate": "Community District=Greenwich Village, Soho<br>Year=%{x}<br>Population=%{y}<extra></extra>",
         "legendgroup": "Greenwich Village, Soho",
         "line": {
          "color": "#EF553B",
          "dash": "solid"
         },
         "marker": {
          "symbol": "circle"
         },
         "mode": "lines",
         "name": "Greenwich Village, Soho",
         "orientation": "v",
         "showlegend": true,
         "type": "scatter",
         "x": [
          1970,
          1980,
          1990,
          2000,
          2010
         ],
         "xaxis": "x",
         "y": [
          84337,
          87069,
          94105,
          93119,
          90016
         ],
         "yaxis": "y"
        },
        {
         "hovertemplate": "Community District=Lower East Side, Chinatown<br>Year=%{x}<br>Population=%{y}<extra></extra>",
         "legendgroup": "Lower East Side, Chinatown",
         "line": {
          "color": "#00cc96",
          "dash": "solid"
         },
         "marker": {
          "symbol": "circle"
         },
         "mode": "lines",
         "name": "Lower East Side, Chinatown",
         "orientation": "v",
         "showlegend": true,
         "type": "scatter",
         "x": [
          1970,
          1980,
          1990,
          2000,
          2010
         ],
         "xaxis": "x",
         "y": [
          181845,
          154848,
          161617,
          164407,
          163277
         ],
         "yaxis": "y"
        },
        {
         "hovertemplate": "Community District=Chelsea, Clinton<br>Year=%{x}<br>Population=%{y}<extra></extra>",
         "legendgroup": "Chelsea, Clinton",
         "line": {
          "color": "#ab63fa",
          "dash": "solid"
         },
         "marker": {
          "symbol": "circle"
         },
         "mode": "lines",
         "name": "Chelsea, Clinton",
         "orientation": "v",
         "showlegend": true,
         "type": "scatter",
         "x": [
          1970,
          1980,
          1990,
          2000,
          2010
         ],
         "xaxis": "x",
         "y": [
          83601,
          82164,
          84431,
          87479,
          103245
         ],
         "yaxis": "y"
        },
        {
         "hovertemplate": "Community District=Midtown Business District<br>Year=%{x}<br>Population=%{y}<extra></extra>",
         "legendgroup": "Midtown Business District",
         "line": {
          "color": "#FFA15A",
          "dash": "solid"
         },
         "marker": {
          "symbol": "circle"
         },
         "mode": "lines",
         "name": "Midtown Business District",
         "orientation": "v",
         "showlegend": true,
         "type": "scatter",
         "x": [
          1970,
          1980,
          1990,
          2000,
          2010
         ],
         "xaxis": "x",
         "y": [
          31076,
          39544,
          43507,
          44028,
          51673
         ],
         "yaxis": "y"
        },
        {
         "hovertemplate": "Community District=Stuyvesant Town, Turtle Bay<br>Year=%{x}<br>Population=%{y}<extra></extra>",
         "legendgroup": "Stuyvesant Town, Turtle Bay",
         "line": {
          "color": "#19d3f3",
          "dash": "solid"
         },
         "marker": {
          "symbol": "circle"
         },
         "mode": "lines",
         "name": "Stuyvesant Town, Turtle Bay",
         "orientation": "v",
         "showlegend": true,
         "type": "scatter",
         "x": [
          1970,
          1980,
          1990,
          2000,
          2010
         ],
         "xaxis": "x",
         "y": [
          122465,
          127554,
          133748,
          136152,
          142745
         ],
         "yaxis": "y"
        },
        {
         "hovertemplate": "Community District=West Side, Upper West Side<br>Year=%{x}<br>Population=%{y}<extra></extra>",
         "legendgroup": "West Side, Upper West Side",
         "line": {
          "color": "#FF6692",
          "dash": "solid"
         },
         "marker": {
          "symbol": "circle"
         },
         "mode": "lines",
         "name": "West Side, Upper West Side",
         "orientation": "v",
         "showlegend": true,
         "type": "scatter",
         "x": [
          1970,
          1980,
          1990,
          2000,
          2010
         ],
         "xaxis": "x",
         "y": [
          212422,
          206669,
          210993,
          207699,
          209084
         ],
         "yaxis": "y"
        },
        {
         "hovertemplate": "Community District=Upper East Side<br>Year=%{x}<br>Population=%{y}<extra></extra>",
         "legendgroup": "Upper East Side",
         "line": {
          "color": "#B6E880",
          "dash": "solid"
         },
         "marker": {
          "symbol": "circle"
         },
         "mode": "lines",
         "name": "Upper East Side",
         "orientation": "v",
         "showlegend": true,
         "type": "scatter",
         "x": [
          1970,
          1980,
          1990,
          2000,
          2010
         ],
         "xaxis": "x",
         "y": [
          200851,
          204305,
          210880,
          217063,
          219920
         ],
         "yaxis": "y"
        },
        {
         "hovertemplate": "Community District=Manhattanville, Hamilton Heights<br>Year=%{x}<br>Population=%{y}<extra></extra>",
         "legendgroup": "Manhattanville, Hamilton Heights",
         "line": {
          "color": "#FF97FF",
          "dash": "solid"
         },
         "marker": {
          "symbol": "circle"
         },
         "mode": "lines",
         "name": "Manhattanville, Hamilton Heights",
         "orientation": "v",
         "showlegend": true,
         "type": "scatter",
         "x": [
          1970,
          1980,
          1990,
          2000,
          2010
         ],
         "xaxis": "x",
         "y": [
          113606,
          103038,
          106978,
          111724,
          110193
         ],
         "yaxis": "y"
        },
        {
         "hovertemplate": "Community District=Central Harlem<br>Year=%{x}<br>Population=%{y}<extra></extra>",
         "legendgroup": "Central Harlem",
         "line": {
          "color": "#FECB52",
          "dash": "solid"
         },
         "marker": {
          "symbol": "circle"
         },
         "mode": "lines",
         "name": "Central Harlem",
         "orientation": "v",
         "showlegend": true,
         "type": "scatter",
         "x": [
          1970,
          1980,
          1990,
          2000,
          2010
         ],
         "xaxis": "x",
         "y": [
          159267,
          105641,
          99519,
          107109,
          115723
         ],
         "yaxis": "y"
        },
        {
         "hovertemplate": "Community District=East Harlem<br>Year=%{x}<br>Population=%{y}<extra></extra>",
         "legendgroup": "East Harlem",
         "line": {
          "color": "#636efa",
          "dash": "solid"
         },
         "marker": {
          "symbol": "circle"
         },
         "mode": "lines",
         "name": "East Harlem",
         "orientation": "v",
         "showlegend": true,
         "type": "scatter",
         "x": [
          1970,
          1980,
          1990,
          2000,
          2010
         ],
         "xaxis": "x",
         "y": [
          154662,
          114569,
          110508,
          117743,
          120511
         ],
         "yaxis": "y"
        },
        {
         "hovertemplate": "Community District=Washington Heights, Inwood<br>Year=%{x}<br>Population=%{y}<extra></extra>",
         "legendgroup": "Washington Heights, Inwood",
         "line": {
          "color": "#EF553B",
          "dash": "solid"
         },
         "marker": {
          "symbol": "circle"
         },
         "mode": "lines",
         "name": "Washington Heights, Inwood",
         "orientation": "v",
         "showlegend": true,
         "type": "scatter",
         "x": [
          1970,
          1980,
          1990,
          2000,
          2010
         ],
         "xaxis": "x",
         "y": [
          180561,
          179941,
          198192,
          208414,
          190020
         ],
         "yaxis": "y"
        }
       ],
       "layout": {
        "autosize": true,
        "legend": {
         "title": {
          "text": "Community District"
         },
         "tracegroupgap": 0
        },
        "template": {
         "data": {
          "bar": [
           {
            "error_x": {
             "color": "#2a3f5f"
            },
            "error_y": {
             "color": "#2a3f5f"
            },
            "marker": {
             "line": {
              "color": "#E5ECF6",
              "width": 0.5
             },
             "pattern": {
              "fillmode": "overlay",
              "size": 10,
              "solidity": 0.2
             }
            },
            "type": "bar"
           }
          ],
          "barpolar": [
           {
            "marker": {
             "line": {
              "color": "#E5ECF6",
              "width": 0.5
             },
             "pattern": {
              "fillmode": "overlay",
              "size": 10,
              "solidity": 0.2
             }
            },
            "type": "barpolar"
           }
          ],
          "carpet": [
           {
            "aaxis": {
             "endlinecolor": "#2a3f5f",
             "gridcolor": "white",
             "linecolor": "white",
             "minorgridcolor": "white",
             "startlinecolor": "#2a3f5f"
            },
            "baxis": {
             "endlinecolor": "#2a3f5f",
             "gridcolor": "white",
             "linecolor": "white",
             "minorgridcolor": "white",
             "startlinecolor": "#2a3f5f"
            },
            "type": "carpet"
           }
          ],
          "choropleth": [
           {
            "colorbar": {
             "outlinewidth": 0,
             "ticks": ""
            },
            "type": "choropleth"
           }
          ],
          "contour": [
           {
            "colorbar": {
             "outlinewidth": 0,
             "ticks": ""
            },
            "colorscale": [
             [
              0,
              "#0d0887"
             ],
             [
              0.1111111111111111,
              "#46039f"
             ],
             [
              0.2222222222222222,
              "#7201a8"
             ],
             [
              0.3333333333333333,
              "#9c179e"
             ],
             [
              0.4444444444444444,
              "#bd3786"
             ],
             [
              0.5555555555555556,
              "#d8576b"
             ],
             [
              0.6666666666666666,
              "#ed7953"
             ],
             [
              0.7777777777777778,
              "#fb9f3a"
             ],
             [
              0.8888888888888888,
              "#fdca26"
             ],
             [
              1,
              "#f0f921"
             ]
            ],
            "type": "contour"
           }
          ],
          "contourcarpet": [
           {
            "colorbar": {
             "outlinewidth": 0,
             "ticks": ""
            },
            "type": "contourcarpet"
           }
          ],
          "heatmap": [
           {
            "colorbar": {
             "outlinewidth": 0,
             "ticks": ""
            },
            "colorscale": [
             [
              0,
              "#0d0887"
             ],
             [
              0.1111111111111111,
              "#46039f"
             ],
             [
              0.2222222222222222,
              "#7201a8"
             ],
             [
              0.3333333333333333,
              "#9c179e"
             ],
             [
              0.4444444444444444,
              "#bd3786"
             ],
             [
              0.5555555555555556,
              "#d8576b"
             ],
             [
              0.6666666666666666,
              "#ed7953"
             ],
             [
              0.7777777777777778,
              "#fb9f3a"
             ],
             [
              0.8888888888888888,
              "#fdca26"
             ],
             [
              1,
              "#f0f921"
             ]
            ],
            "type": "heatmap"
           }
          ],
          "heatmapgl": [
           {
            "colorbar": {
             "outlinewidth": 0,
             "ticks": ""
            },
            "colorscale": [
             [
              0,
              "#0d0887"
             ],
             [
              0.1111111111111111,
              "#46039f"
             ],
             [
              0.2222222222222222,
              "#7201a8"
             ],
             [
              0.3333333333333333,
              "#9c179e"
             ],
             [
              0.4444444444444444,
              "#bd3786"
             ],
             [
              0.5555555555555556,
              "#d8576b"
             ],
             [
              0.6666666666666666,
              "#ed7953"
             ],
             [
              0.7777777777777778,
              "#fb9f3a"
             ],
             [
              0.8888888888888888,
              "#fdca26"
             ],
             [
              1,
              "#f0f921"
             ]
            ],
            "type": "heatmapgl"
           }
          ],
          "histogram": [
           {
            "marker": {
             "pattern": {
              "fillmode": "overlay",
              "size": 10,
              "solidity": 0.2
             }
            },
            "type": "histogram"
           }
          ],
          "histogram2d": [
           {
            "colorbar": {
             "outlinewidth": 0,
             "ticks": ""
            },
            "colorscale": [
             [
              0,
              "#0d0887"
             ],
             [
              0.1111111111111111,
              "#46039f"
             ],
             [
              0.2222222222222222,
              "#7201a8"
             ],
             [
              0.3333333333333333,
              "#9c179e"
             ],
             [
              0.4444444444444444,
              "#bd3786"
             ],
             [
              0.5555555555555556,
              "#d8576b"
             ],
             [
              0.6666666666666666,
              "#ed7953"
             ],
             [
              0.7777777777777778,
              "#fb9f3a"
             ],
             [
              0.8888888888888888,
              "#fdca26"
             ],
             [
              1,
              "#f0f921"
             ]
            ],
            "type": "histogram2d"
           }
          ],
          "histogram2dcontour": [
           {
            "colorbar": {
             "outlinewidth": 0,
             "ticks": ""
            },
            "colorscale": [
             [
              0,
              "#0d0887"
             ],
             [
              0.1111111111111111,
              "#46039f"
             ],
             [
              0.2222222222222222,
              "#7201a8"
             ],
             [
              0.3333333333333333,
              "#9c179e"
             ],
             [
              0.4444444444444444,
              "#bd3786"
             ],
             [
              0.5555555555555556,
              "#d8576b"
             ],
             [
              0.6666666666666666,
              "#ed7953"
             ],
             [
              0.7777777777777778,
              "#fb9f3a"
             ],
             [
              0.8888888888888888,
              "#fdca26"
             ],
             [
              1,
              "#f0f921"
             ]
            ],
            "type": "histogram2dcontour"
           }
          ],
          "mesh3d": [
           {
            "colorbar": {
             "outlinewidth": 0,
             "ticks": ""
            },
            "type": "mesh3d"
           }
          ],
          "parcoords": [
           {
            "line": {
             "colorbar": {
              "outlinewidth": 0,
              "ticks": ""
             }
            },
            "type": "parcoords"
           }
          ],
          "pie": [
           {
            "automargin": true,
            "type": "pie"
           }
          ],
          "scatter": [
           {
            "fillpattern": {
             "fillmode": "overlay",
             "size": 10,
             "solidity": 0.2
            },
            "type": "scatter"
           }
          ],
          "scatter3d": [
           {
            "line": {
             "colorbar": {
              "outlinewidth": 0,
              "ticks": ""
             }
            },
            "marker": {
             "colorbar": {
              "outlinewidth": 0,
              "ticks": ""
             }
            },
            "type": "scatter3d"
           }
          ],
          "scattercarpet": [
           {
            "marker": {
             "colorbar": {
              "outlinewidth": 0,
              "ticks": ""
             }
            },
            "type": "scattercarpet"
           }
          ],
          "scattergeo": [
           {
            "marker": {
             "colorbar": {
              "outlinewidth": 0,
              "ticks": ""
             }
            },
            "type": "scattergeo"
           }
          ],
          "scattergl": [
           {
            "marker": {
             "colorbar": {
              "outlinewidth": 0,
              "ticks": ""
             }
            },
            "type": "scattergl"
           }
          ],
          "scattermapbox": [
           {
            "marker": {
             "colorbar": {
              "outlinewidth": 0,
              "ticks": ""
             }
            },
            "type": "scattermapbox"
           }
          ],
          "scatterpolar": [
           {
            "marker": {
             "colorbar": {
              "outlinewidth": 0,
              "ticks": ""
             }
            },
            "type": "scatterpolar"
           }
          ],
          "scatterpolargl": [
           {
            "marker": {
             "colorbar": {
              "outlinewidth": 0,
              "ticks": ""
             }
            },
            "type": "scatterpolargl"
           }
          ],
          "scatterternary": [
           {
            "marker": {
             "colorbar": {
              "outlinewidth": 0,
              "ticks": ""
             }
            },
            "type": "scatterternary"
           }
          ],
          "surface": [
           {
            "colorbar": {
             "outlinewidth": 0,
             "ticks": ""
            },
            "colorscale": [
             [
              0,
              "#0d0887"
             ],
             [
              0.1111111111111111,
              "#46039f"
             ],
             [
              0.2222222222222222,
              "#7201a8"
             ],
             [
              0.3333333333333333,
              "#9c179e"
             ],
             [
              0.4444444444444444,
              "#bd3786"
             ],
             [
              0.5555555555555556,
              "#d8576b"
             ],
             [
              0.6666666666666666,
              "#ed7953"
             ],
             [
              0.7777777777777778,
              "#fb9f3a"
             ],
             [
              0.8888888888888888,
              "#fdca26"
             ],
             [
              1,
              "#f0f921"
             ]
            ],
            "type": "surface"
           }
          ],
          "table": [
           {
            "cells": {
             "fill": {
              "color": "#EBF0F8"
             },
             "line": {
              "color": "white"
             }
            },
            "header": {
             "fill": {
              "color": "#C8D4E3"
             },
             "line": {
              "color": "white"
             }
            },
            "type": "table"
           }
          ]
         },
         "layout": {
          "annotationdefaults": {
           "arrowcolor": "#2a3f5f",
           "arrowhead": 0,
           "arrowwidth": 1
          },
          "autotypenumbers": "strict",
          "coloraxis": {
           "colorbar": {
            "outlinewidth": 0,
            "ticks": ""
           }
          },
          "colorscale": {
           "diverging": [
            [
             0,
             "#8e0152"
            ],
            [
             0.1,
             "#c51b7d"
            ],
            [
             0.2,
             "#de77ae"
            ],
            [
             0.3,
             "#f1b6da"
            ],
            [
             0.4,
             "#fde0ef"
            ],
            [
             0.5,
             "#f7f7f7"
            ],
            [
             0.6,
             "#e6f5d0"
            ],
            [
             0.7,
             "#b8e186"
            ],
            [
             0.8,
             "#7fbc41"
            ],
            [
             0.9,
             "#4d9221"
            ],
            [
             1,
             "#276419"
            ]
           ],
           "sequential": [
            [
             0,
             "#0d0887"
            ],
            [
             0.1111111111111111,
             "#46039f"
            ],
            [
             0.2222222222222222,
             "#7201a8"
            ],
            [
             0.3333333333333333,
             "#9c179e"
            ],
            [
             0.4444444444444444,
             "#bd3786"
            ],
            [
             0.5555555555555556,
             "#d8576b"
            ],
            [
             0.6666666666666666,
             "#ed7953"
            ],
            [
             0.7777777777777778,
             "#fb9f3a"
            ],
            [
             0.8888888888888888,
             "#fdca26"
            ],
            [
             1,
             "#f0f921"
            ]
           ],
           "sequentialminus": [
            [
             0,
             "#0d0887"
            ],
            [
             0.1111111111111111,
             "#46039f"
            ],
            [
             0.2222222222222222,
             "#7201a8"
            ],
            [
             0.3333333333333333,
             "#9c179e"
            ],
            [
             0.4444444444444444,
             "#bd3786"
            ],
            [
             0.5555555555555556,
             "#d8576b"
            ],
            [
             0.6666666666666666,
             "#ed7953"
            ],
            [
             0.7777777777777778,
             "#fb9f3a"
            ],
            [
             0.8888888888888888,
             "#fdca26"
            ],
            [
             1,
             "#f0f921"
            ]
           ]
          },
          "colorway": [
           "#636efa",
           "#EF553B",
           "#00cc96",
           "#ab63fa",
           "#FFA15A",
           "#19d3f3",
           "#FF6692",
           "#B6E880",
           "#FF97FF",
           "#FECB52"
          ],
          "font": {
           "color": "#2a3f5f"
          },
          "geo": {
           "bgcolor": "white",
           "lakecolor": "white",
           "landcolor": "#E5ECF6",
           "showlakes": true,
           "showland": true,
           "subunitcolor": "white"
          },
          "hoverlabel": {
           "align": "left"
          },
          "hovermode": "closest",
          "mapbox": {
           "style": "light"
          },
          "paper_bgcolor": "white",
          "plot_bgcolor": "#E5ECF6",
          "polar": {
           "angularaxis": {
            "gridcolor": "white",
            "linecolor": "white",
            "ticks": ""
           },
           "bgcolor": "#E5ECF6",
           "radialaxis": {
            "gridcolor": "white",
            "linecolor": "white",
            "ticks": ""
           }
          },
          "scene": {
           "xaxis": {
            "backgroundcolor": "#E5ECF6",
            "gridcolor": "white",
            "gridwidth": 2,
            "linecolor": "white",
            "showbackground": true,
            "ticks": "",
            "zerolinecolor": "white"
           },
           "yaxis": {
            "backgroundcolor": "#E5ECF6",
            "gridcolor": "white",
            "gridwidth": 2,
            "linecolor": "white",
            "showbackground": true,
            "ticks": "",
            "zerolinecolor": "white"
           },
           "zaxis": {
            "backgroundcolor": "#E5ECF6",
            "gridcolor": "white",
            "gridwidth": 2,
            "linecolor": "white",
            "showbackground": true,
            "ticks": "",
            "zerolinecolor": "white"
           }
          },
          "shapedefaults": {
           "line": {
            "color": "#2a3f5f"
           }
          },
          "ternary": {
           "aaxis": {
            "gridcolor": "white",
            "linecolor": "white",
            "ticks": ""
           },
           "baxis": {
            "gridcolor": "white",
            "linecolor": "white",
            "ticks": ""
           },
           "bgcolor": "#E5ECF6",
           "caxis": {
            "gridcolor": "white",
            "linecolor": "white",
            "ticks": ""
           }
          },
          "title": {
           "x": 0.05
          },
          "xaxis": {
           "automargin": true,
           "gridcolor": "white",
           "linecolor": "white",
           "ticks": "",
           "title": {
            "standoff": 15
           },
           "zerolinecolor": "white",
           "zerolinewidth": 2
          },
          "yaxis": {
           "automargin": true,
           "gridcolor": "white",
           "linecolor": "white",
           "ticks": "",
           "title": {
            "standoff": 15
           },
           "zerolinecolor": "white",
           "zerolinewidth": 2
          }
         }
        },
        "title": {
         "text": "Population Over Time for Each Community District in Manhattan"
        },
        "xaxis": {
         "anchor": "y",
         "autorange": true,
         "domain": [
          0,
          1
         ],
         "range": [
          1970,
          2010
         ],
         "title": {
          "text": "Year"
         },
         "type": "linear"
        },
        "yaxis": {
         "anchor": "x",
         "autorange": true,
         "domain": [
          0,
          1
         ],
         "range": [
          -4083.666666666668,
          231709.66666666666
         ],
         "title": {
          "text": "Population"
         },
         "type": "linear"
        }
       }
      },
      "image/png": "[encoded data removed]",
      "text/html": [
       "<div>                            <div id=\"1e01e794-98b4-4839-bc2b-866d61b8923f\" class=\"plotly-graph-div\" style=\"height:525px; width:100%;\"></div>            <script type=\"text/javascript\">                require([\"plotly\"], function(Plotly) {                    window.PLOTLYENV=window.PLOTLYENV || {};                                    if (document.getElementById(\"1e01e794-98b4-4839-bc2b-866d61b8923f\")) {                    Plotly.newPlot(                        \"1e01e794-98b4-4839-bc2b-866d61b8923f\",                        [{\"hovertemplate\":\"Community District=Battery Park City, Tribeca\\u003cbr\\u003eYear=%{x}\\u003cbr\\u003ePopulation=%{y}\\u003cextra\\u003e\\u003c\\u002fextra\\u003e\",\"legendgroup\":\"Battery Park City, Tribeca\",\"line\":{\"color\":\"#636efa\",\"dash\":\"solid\"},\"marker\":{\"symbol\":\"circle\"},\"mode\":\"lines\",\"name\":\"Battery Park City, Tribeca\",\"orientation\":\"v\",\"showlegend\":true,\"x\":[1970,1980,1990,2000,2010],\"xaxis\":\"x\",\"y\":[7706,15918,25366,34420,60978],\"yaxis\":\"y\",\"type\":\"scatter\"},{\"hovertemplate\":\"Community District=Greenwich Village, Soho\\u003cbr\\u003eYear=%{x}\\u003cbr\\u003ePopulation=%{y}\\u003cextra\\u003e\\u003c\\u002fextra\\u003e\",\"legendgroup\":\"Greenwich Village, Soho\",\"line\":{\"color\":\"#EF553B\",\"dash\":\"solid\"},\"marker\":{\"symbol\":\"circle\"},\"mode\":\"lines\",\"name\":\"Greenwich Village, Soho\",\"orientation\":\"v\",\"showlegend\":true,\"x\":[1970,1980,1990,2000,2010],\"xaxis\":\"x\",\"y\":[84337,87069,94105,93119,90016],\"yaxis\":\"y\",\"type\":\"scatter\"},{\"hovertemplate\":\"Community District=Lower East Side, Chinatown\\u003cbr\\u003eYear=%{x}\\u003cbr\\u003ePopulation=%{y}\\u003cextra\\u003e\\u003c\\u002fextra\\u003e\",\"legendgroup\":\"Lower East Side, Chinatown\",\"line\":{\"color\":\"#00cc96\",\"dash\":\"solid\"},\"marker\":{\"symbol\":\"circle\"},\"mode\":\"lines\",\"name\":\"Lower East Side, Chinatown\",\"orientation\":\"v\",\"showlegend\":true,\"x\":[1970,1980,1990,2000,2010],\"xaxis\":\"x\",\"y\":[181845,154848,161617,164407,163277],\"yaxis\":\"y\",\"type\":\"scatter\"},{\"hovertemplate\":\"Community District=Chelsea, Clinton\\u003cbr\\u003eYear=%{x}\\u003cbr\\u003ePopulation=%{y}\\u003cextra\\u003e\\u003c\\u002fextra\\u003e\",\"legendgroup\":\"Chelsea, Clinton\",\"line\":{\"color\":\"#ab63fa\",\"dash\":\"solid\"},\"marker\":{\"symbol\":\"circle\"},\"mode\":\"lines\",\"name\":\"Chelsea, Clinton\",\"orientation\":\"v\",\"showlegend\":true,\"x\":[1970,1980,1990,2000,2010],\"xaxis\":\"x\",\"y\":[83601,82164,84431,87479,103245],\"yaxis\":\"y\",\"type\":\"scatter\"},{\"hovertemplate\":\"Community District=Midtown Business District\\u003cbr\\u003eYear=%{x}\\u003cbr\\u003ePopulation=%{y}\\u003cextra\\u003e\\u003c\\u002fextra\\u003e\",\"legendgroup\":\"Midtown Business District\",\"line\":{\"color\":\"#FFA15A\",\"dash\":\"solid\"},\"marker\":{\"symbol\":\"circle\"},\"mode\":\"lines\",\"name\":\"Midtown Business District\",\"orientation\":\"v\",\"showlegend\":true,\"x\":[1970,1980,1990,2000,2010],\"xaxis\":\"x\",\"y\":[31076,39544,43507,44028,51673],\"yaxis\":\"y\",\"type\":\"scatter\"},{\"hovertemplate\":\"Community District=Stuyvesant Town, Turtle Bay\\u003cbr\\u003eYear=%{x}\\u003cbr\\u003ePopulation=%{y}\\u003cextra\\u003e\\u003c\\u002fextra\\u003e\",\"legendgroup\":\"Stuyvesant Town, Turtle Bay\",\"line\":{\"color\":\"#19d3f3\",\"dash\":\"solid\"},\"marker\":{\"symbol\":\"circle\"},\"mode\":\"lines\",\"name\":\"Stuyvesant Town, Turtle Bay\",\"orientation\":\"v\",\"showlegend\":true,\"x\":[1970,1980,1990,2000,2010],\"xaxis\":\"x\",\"y\":[122465,127554,133748,136152,142745],\"yaxis\":\"y\",\"type\":\"scatter\"},{\"hovertemplate\":\"Community District=West Side, Upper West Side\\u003cbr\\u003eYear=%{x}\\u003cbr\\u003ePopulation=%{y}\\u003cextra\\u003e\\u003c\\u002fextra\\u003e\",\"legendgroup\":\"West Side, Upper West Side\",\"line\":{\"color\":\"#FF6692\",\"dash\":\"solid\"},\"marker\":{\"symbol\":\"circle\"},\"mode\":\"lines\",\"name\":\"West Side, Upper West Side\",\"orientation\":\"v\",\"showlegend\":true,\"x\":[1970,1980,1990,2000,2010],\"xaxis\":\"x\",\"y\":[212422,206669,210993,207699,209084],\"yaxis\":\"y\",\"type\":\"scatter\"},{\"hovertemplate\":\"Community District=Upper East Side\\u003cbr\\u003eYear=%{x}\\u003cbr\\u003ePopulation=%{y}\\u003cextra\\u003e\\u003c\\u002fextra\\u003e\",\"legendgroup\":\"Upper East Side\",\"line\":{\"color\":\"#B6E880\",\"dash\":\"solid\"},\"marker\":{\"symbol\":\"circle\"},\"mode\":\"lines\",\"name\":\"Upper East Side\",\"orientation\":\"v\",\"showlegend\":true,\"x\":[1970,1980,1990,2000,2010],\"xaxis\":\"x\",\"y\":[200851,204305,210880,217063,219920],\"yaxis\":\"y\",\"type\":\"scatter\"},{\"hovertemplate\":\"Community District=Manhattanville, Hamilton Heights\\u003cbr\\u003eYear=%{x}\\u003cbr\\u003ePopulation=%{y}\\u003cextra\\u003e\\u003c\\u002fextra\\u003e\",\"legendgroup\":\"Manhattanville, Hamilton Heights\",\"line\":{\"color\":\"#FF97FF\",\"dash\":\"solid\"},\"marker\":{\"symbol\":\"circle\"},\"mode\":\"lines\",\"name\":\"Manhattanville, Hamilton Heights\",\"orientation\":\"v\",\"showlegend\":true,\"x\":[1970,1980,1990,2000,2010],\"xaxis\":\"x\",\"y\":[113606,103038,106978,111724,110193],\"yaxis\":\"y\",\"type\":\"scatter\"},{\"hovertemplate\":\"Community District=Central Harlem\\u003cbr\\u003eYear=%{x}\\u003cbr\\u003ePopulation=%{y}\\u003cextra\\u003e\\u003c\\u002fextra\\u003e\",\"legendgroup\":\"Central Harlem\",\"line\":{\"color\":\"#FECB52\",\"dash\":\"solid\"},\"marker\":{\"symbol\":\"circle\"},\"mode\":\"lines\",\"name\":\"Central Harlem\",\"orientation\":\"v\",\"showlegend\":true,\"x\":[1970,1980,1990,2000,2010],\"xaxis\":\"x\",\"y\":[159267,105641,99519,107109,115723],\"yaxis\":\"y\",\"type\":\"scatter\"},{\"hovertemplate\":\"Community District=East Harlem\\u003cbr\\u003eYear=%{x}\\u003cbr\\u003ePopulation=%{y}\\u003cextra\\u003e\\u003c\\u002fextra\\u003e\",\"legendgroup\":\"East Harlem\",\"line\":{\"color\":\"#636efa\",\"dash\":\"solid\"},\"marker\":{\"symbol\":\"circle\"},\"mode\":\"lines\",\"name\":\"East Harlem\",\"orientation\":\"v\",\"showlegend\":true,\"x\":[1970,1980,1990,2000,2010],\"xaxis\":\"x\",\"y\":[154662,114569,110508,117743,120511],\"yaxis\":\"y\",\"type\":\"scatter\"},{\"hovertemplate\":\"Community District=Washington Heights, Inwood\\u003cbr\\u003eYear=%{x}\\u003cbr\\u003ePopulation=%{y}\\u003cextra\\u003e\\u003c\\u002fextra\\u003e\",\"legendgroup\":\"Washington Heights, Inwood\",\"line\":{\"color\":\"#EF553B\",\"dash\":\"solid\"},\"marker\":{\"symbol\":\"circle\"},\"mode\":\"lines\",\"name\":\"Washington Heights, Inwood\",\"orientation\":\"v\",\"showlegend\":true,\"x\":[1970,1980,1990,2000,2010],\"xaxis\":\"x\",\"y\":[180561,179941,198192,208414,190020],\"yaxis\":\"y\",\"type\":\"scatter\"}],                        {\"template\":{\"data\":{\"histogram2dcontour\":[{\"type\":\"histogram2dcontour\",\"colorbar\":{\"outlinewidth\":0,\"ticks\":\"\"},\"colorscale\":[[0.0,\"#0d0887\"],[0.1111111111111111,\"#46039f\"],[0.2222222222222222,\"#7201a8\"],[0.3333333333333333,\"#9c179e\"],[0.4444444444444444,\"#bd3786\"],[0.5555555555555556,\"#d8576b\"],[0.6666666666666666,\"#ed7953\"],[0.7777777777777778,\"#fb9f3a\"],[0.8888888888888888,\"#fdca26\"],[1.0,\"#f0f921\"]]}],\"choropleth\":[{\"type\":\"choropleth\",\"colorbar\":{\"outlinewidth\":0,\"ticks\":\"\"}}],\"histogram2d\":[{\"type\":\"histogram2d\",\"colorbar\":{\"outlinewidth\":0,\"ticks\":\"\"},\"colorscale\":[[0.0,\"#0d0887\"],[0.1111111111111111,\"#46039f\"],[0.2222222222222222,\"#7201a8\"],[0.3333333333333333,\"#9c179e\"],[0.4444444444444444,\"#bd3786\"],[0.5555555555555556,\"#d8576b\"],[0.6666666666666666,\"#ed7953\"],[0.7777777777777778,\"#fb9f3a\"],[0.8888888888888888,\"#fdca26\"],[1.0,\"#f0f921\"]]}],\"heatmap\":[{\"type\":\"heatmap\",\"colorbar\":{\"outlinewidth\":0,\"ticks\":\"\"},\"colorscale\":[[0.0,\"#0d0887\"],[0.1111111111111111,\"#46039f\"],[0.2222222222222222,\"#7201a8\"],[0.3333333333333333,\"#9c179e\"],[0.4444444444444444,\"#bd3786\"],[0.5555555555555556,\"#d8576b\"],[0.6666666666666666,\"#ed7953\"],[0.7777777777777778,\"#fb9f3a\"],[0.8888888888888888,\"#fdca26\"],[1.0,\"#f0f921\"]]}],\"heatmapgl\":[{\"type\":\"heatmapgl\",\"colorbar\":{\"outlinewidth\":0,\"ticks\":\"\"},\"colorscale\":[[0.0,\"#0d0887\"],[0.1111111111111111,\"#46039f\"],[0.2222222222222222,\"#7201a8\"],[0.3333333333333333,\"#9c179e\"],[0.4444444444444444,\"#bd3786\"],[0.5555555555555556,\"#d8576b\"],[0.6666666666666666,\"#ed7953\"],[0.7777777777777778,\"#fb9f3a\"],[0.8888888888888888,\"#fdca26\"],[1.0,\"#f0f921\"]]}],\"contourcarpet\":[{\"type\":\"contourcarpet\",\"colorbar\":{\"outlinewidth\":0,\"ticks\":\"\"}}],\"contour\":[{\"type\":\"contour\",\"colorbar\":{\"outlinewidth\":0,\"ticks\":\"\"},\"colorscale\":[[0.0,\"#0d0887\"],[0.1111111111111111,\"#46039f\"],[0.2222222222222222,\"#7201a8\"],[0.3333333333333333,\"#9c179e\"],[0.4444444444444444,\"#bd3786\"],[0.5555555555555556,\"#d8576b\"],[0.6666666666666666,\"#ed7953\"],[0.7777777777777778,\"#fb9f3a\"],[0.8888888888888888,\"#fdca26\"],[1.0,\"#f0f921\"]]}],\"surface\":[{\"type\":\"surface\",\"colorbar\":{\"outlinewidth\":0,\"ticks\":\"\"},\"colorscale\":[[0.0,\"#0d0887\"],[0.1111111111111111,\"#46039f\"],[0.2222222222222222,\"#7201a8\"],[0.3333333333333333,\"#9c179e\"],[0.4444444444444444,\"#bd3786\"],[0.5555555555555556,\"#d8576b\"],[0.6666666666666666,\"#ed7953\"],[0.7777777777777778,\"#fb9f3a\"],[0.8888888888888888,\"#fdca26\"],[1.0,\"#f0f921\"]]}],\"mesh3d\":[{\"type\":\"mesh3d\",\"colorbar\":{\"outlinewidth\":0,\"ticks\":\"\"}}],\"scatter\":[{\"fillpattern\":{\"fillmode\":\"overlay\",\"size\":10,\"solidity\":0.2},\"type\":\"scatter\"}],\"parcoords\":[{\"type\":\"parcoords\",\"line\":{\"colorbar\":{\"outlinewidth\":0,\"ticks\":\"\"}}}],\"scatterpolargl\":[{\"type\":\"scatterpolargl\",\"marker\":{\"colorbar\":{\"outlinewidth\":0,\"ticks\":\"\"}}}],\"bar\":[{\"error_x\":{\"color\":\"#2a3f5f\"},\"error_y\":{\"color\":\"#2a3f5f\"},\"marker\":{\"line\":{\"color\":\"#E5ECF6\",\"width\":0.5},\"pattern\":{\"fillmode\":\"overlay\",\"size\":10,\"solidity\":0.2}},\"type\":\"bar\"}],\"scattergeo\":[{\"type\":\"scattergeo\",\"marker\":{\"colorbar\":{\"outlinewidth\":0,\"ticks\":\"\"}}}],\"scatterpolar\":[{\"type\":\"scatterpolar\",\"marker\":{\"colorbar\":{\"outlinewidth\":0,\"ticks\":\"\"}}}],\"histogram\":[{\"marker\":{\"pattern\":{\"fillmode\":\"overlay\",\"size\":10,\"solidity\":0.2}},\"type\":\"histogram\"}],\"scattergl\":[{\"type\":\"scattergl\",\"marker\":{\"colorbar\":{\"outlinewidth\":0,\"ticks\":\"\"}}}],\"scatter3d\":[{\"type\":\"scatter3d\",\"line\":{\"colorbar\":{\"outlinewidth\":0,\"ticks\":\"\"}},\"marker\":{\"colorbar\":{\"outlinewidth\":0,\"ticks\":\"\"}}}],\"scattermapbox\":[{\"type\":\"scattermapbox\",\"marker\":{\"colorbar\":{\"outlinewidth\":0,\"ticks\":\"\"}}}],\"scatterternary\":[{\"type\":\"scatterternary\",\"marker\":{\"colorbar\":{\"outlinewidth\":0,\"ticks\":\"\"}}}],\"scattercarpet\":[{\"type\":\"scattercarpet\",\"marker\":{\"colorbar\":{\"outlinewidth\":0,\"ticks\":\"\"}}}],\"carpet\":[{\"aaxis\":{\"endlinecolor\":\"#2a3f5f\",\"gridcolor\":\"white\",\"linecolor\":\"white\",\"minorgridcolor\":\"white\",\"startlinecolor\":\"#2a3f5f\"},\"baxis\":{\"endlinecolor\":\"#2a3f5f\",\"gridcolor\":\"white\",\"linecolor\":\"white\",\"minorgridcolor\":\"white\",\"startlinecolor\":\"#2a3f5f\"},\"type\":\"carpet\"}],\"table\":[{\"cells\":{\"fill\":{\"color\":\"#EBF0F8\"},\"line\":{\"color\":\"white\"}},\"header\":{\"fill\":{\"color\":\"#C8D4E3\"},\"line\":{\"color\":\"white\"}},\"type\":\"table\"}],\"barpolar\":[{\"marker\":{\"line\":{\"color\":\"#E5ECF6\",\"width\":0.5},\"pattern\":{\"fillmode\":\"overlay\",\"size\":10,\"solidity\":0.2}},\"type\":\"barpolar\"}],\"pie\":[{\"automargin\":true,\"type\":\"pie\"}]},\"layout\":{\"autotypenumbers\":\"strict\",\"colorway\":[\"#636efa\",\"#EF553B\",\"#00cc96\",\"#ab63fa\",\"#FFA15A\",\"#19d3f3\",\"#FF6692\",\"#B6E880\",\"#FF97FF\",\"#FECB52\"],\"font\":{\"color\":\"#2a3f5f\"},\"hovermode\":\"closest\",\"hoverlabel\":{\"align\":\"left\"},\"paper_bgcolor\":\"white\",\"plot_bgcolor\":\"#E5ECF6\",\"polar\":{\"bgcolor\":\"#E5ECF6\",\"angularaxis\":{\"gridcolor\":\"white\",\"linecolor\":\"white\",\"ticks\":\"\"},\"radialaxis\":{\"gridcolor\":\"white\",\"linecolor\":\"white\",\"ticks\":\"\"}},\"ternary\":{\"bgcolor\":\"#E5ECF6\",\"aaxis\":{\"gridcolor\":\"white\",\"linecolor\":\"white\",\"ticks\":\"\"},\"baxis\":{\"gridcolor\":\"white\",\"linecolor\":\"white\",\"ticks\":\"\"},\"caxis\":{\"gridcolor\":\"white\",\"linecolor\":\"white\",\"ticks\":\"\"}},\"coloraxis\":{\"colorbar\":{\"outlinewidth\":0,\"ticks\":\"\"}},\"colorscale\":{\"sequential\":[[0.0,\"#0d0887\"],[0.1111111111111111,\"#46039f\"],[0.2222222222222222,\"#7201a8\"],[0.3333333333333333,\"#9c179e\"],[0.4444444444444444,\"#bd3786\"],[0.5555555555555556,\"#d8576b\"],[0.6666666666666666,\"#ed7953\"],[0.7777777777777778,\"#fb9f3a\"],[0.8888888888888888,\"#fdca26\"],[1.0,\"#f0f921\"]],\"sequentialminus\":[[0.0,\"#0d0887\"],[0.1111111111111111,\"#46039f\"],[0.2222222222222222,\"#7201a8\"],[0.3333333333333333,\"#9c179e\"],[0.4444444444444444,\"#bd3786\"],[0.5555555555555556,\"#d8576b\"],[0.6666666666666666,\"#ed7953\"],[0.7777777777777778,\"#fb9f3a\"],[0.8888888888888888,\"#fdca26\"],[1.0,\"#f0f921\"]],\"diverging\":[[0,\"#8e0152\"],[0.1,\"#c51b7d\"],[0.2,\"#de77ae\"],[0.3,\"#f1b6da\"],[0.4,\"#fde0ef\"],[0.5,\"#f7f7f7\"],[0.6,\"#e6f5d0\"],[0.7,\"#b8e186\"],[0.8,\"#7fbc41\"],[0.9,\"#4d9221\"],[1,\"#276419\"]]},\"xaxis\":{\"gridcolor\":\"white\",\"linecolor\":\"white\",\"ticks\":\"\",\"title\":{\"standoff\":15},\"zerolinecolor\":\"white\",\"automargin\":true,\"zerolinewidth\":2},\"yaxis\":{\"gridcolor\":\"white\",\"linecolor\":\"white\",\"ticks\":\"\",\"title\":{\"standoff\":15},\"zerolinecolor\":\"white\",\"automargin\":true,\"zerolinewidth\":2},\"scene\":{\"xaxis\":{\"backgroundcolor\":\"#E5ECF6\",\"gridcolor\":\"white\",\"linecolor\":\"white\",\"showbackground\":true,\"ticks\":\"\",\"zerolinecolor\":\"white\",\"gridwidth\":2},\"yaxis\":{\"backgroundcolor\":\"#E5ECF6\",\"gridcolor\":\"white\",\"linecolor\":\"white\",\"showbackground\":true,\"ticks\":\"\",\"zerolinecolor\":\"white\",\"gridwidth\":2},\"zaxis\":{\"backgroundcolor\":\"#E5ECF6\",\"gridcolor\":\"white\",\"linecolor\":\"white\",\"showbackground\":true,\"ticks\":\"\",\"zerolinecolor\":\"white\",\"gridwidth\":2}},\"shapedefaults\":{\"line\":{\"color\":\"#2a3f5f\"}},\"annotationdefaults\":{\"arrowcolor\":\"#2a3f5f\",\"arrowhead\":0,\"arrowwidth\":1},\"geo\":{\"bgcolor\":\"white\",\"landcolor\":\"#E5ECF6\",\"subunitcolor\":\"white\",\"showland\":true,\"showlakes\":true,\"lakecolor\":\"white\"},\"title\":{\"x\":0.05},\"mapbox\":{\"style\":\"light\"}}},\"xaxis\":{\"anchor\":\"y\",\"domain\":[0.0,1.0],\"title\":{\"text\":\"Year\"}},\"yaxis\":{\"anchor\":\"x\",\"domain\":[0.0,1.0],\"title\":{\"text\":\"Population\"}},\"legend\":{\"title\":{\"text\":\"Community District\"},\"tracegroupgap\":0},\"title\":{\"text\":\"Population Over Time for Each Community District in Manhattan\"}},                        {\"responsive\": true}                    ).then(function(){\n",
       "                            \n",
       "var gd = document.getElementById('1e01e794-98b4-4839-bc2b-866d61b8923f');\n",
       "var x = new MutationObserver(function (mutations, observer) {{\n",
       "        var display = window.getComputedStyle(gd).display;\n",
       "        if (!display || display === 'none') {{\n",
       "            console.log([gd, 'removed!']);\n",
       "            Plotly.purge(gd);\n",
       "            observer.disconnect();\n",
       "        }}\n",
       "}});\n",
       "\n",
       "// Listen for the removal of the full notebook cells\n",
       "var notebookContainer = gd.closest('#notebook-container');\n",
       "if (notebookContainer) {{\n",
       "    x.observe(notebookContainer, {childList: true});\n",
       "}}\n",
       "\n",
       "// Listen for the clearing of the current output cell\n",
       "var outputEl = gd.closest('.output');\n",
       "if (outputEl) {{\n",
       "    x.observe(outputEl, {childList: true});\n",
       "}}\n",
       "\n",
       "                        })                };                });            </script>        </div>"
      ]
     },
     "metadata": {},
     "output_type": "display_data"
    }
   ],
   "source": [
    "# your code here\n",
    "fig3 = px.line(\n",
    "    manhattan,\n",
    "    x = \"year\",\n",
    "    y = \"population\",\n",
    "    color = \"CD Name\",\n",
    "    title = \"Population Over Time for Each Community District in Manhattan\",\n",
    "    labels = {\"year\":\"Year\", \"population\":\"Population\", \"CD Name\": \"Community District\"}\n",
    ")\n",
    "\n",
    "\n",
    "fig3.show()"
   ]
  },
  {
   "cell_type": "markdown",
   "metadata": {
    "editable": true,
    "slideshow": {
     "slide_type": ""
    },
    "tags": []
   },
   "source": [
    "## Step 3\n",
    "\n",
    "Starting with the same dataset, create a line chart of the population over time for each Borough. There should be one line for each."
   ]
  },
  {
   "cell_type": "code",
   "execution_count": 164,
   "metadata": {
    "editable": true,
    "slideshow": {
     "slide_type": ""
    },
    "tags": [
     "solution"
    ]
   },
   "outputs": [
    {
     "data": {
      "text/html": [
       "<div>\n",
       "<style scoped>\n",
       "    .dataframe tbody tr th:only-of-type {\n",
       "        vertical-align: middle;\n",
       "    }\n",
       "\n",
       "    .dataframe tbody tr th {\n",
       "        vertical-align: top;\n",
       "    }\n",
       "\n",
       "    .dataframe thead th {\n",
       "        text-align: right;\n",
       "    }\n",
       "</style>\n",
       "<table border=\"1\" class=\"dataframe\">\n",
       "  <thead>\n",
       "    <tr style=\"text-align: right;\">\n",
       "      <th></th>\n",
       "      <th>Borough</th>\n",
       "      <th>year</th>\n",
       "      <th>population</th>\n",
       "    </tr>\n",
       "  </thead>\n",
       "  <tbody>\n",
       "    <tr>\n",
       "      <th>0</th>\n",
       "      <td>Bronx</td>\n",
       "      <td>1970</td>\n",
       "      <td>1478524</td>\n",
       "    </tr>\n",
       "    <tr>\n",
       "      <th>1</th>\n",
       "      <td>Bronx</td>\n",
       "      <td>1980</td>\n",
       "      <td>1170349</td>\n",
       "    </tr>\n",
       "    <tr>\n",
       "      <th>2</th>\n",
       "      <td>Bronx</td>\n",
       "      <td>1990</td>\n",
       "      <td>1197420</td>\n",
       "    </tr>\n",
       "    <tr>\n",
       "      <th>3</th>\n",
       "      <td>Bronx</td>\n",
       "      <td>2000</td>\n",
       "      <td>1327454</td>\n",
       "    </tr>\n",
       "    <tr>\n",
       "      <th>4</th>\n",
       "      <td>Bronx</td>\n",
       "      <td>2010</td>\n",
       "      <td>1380697</td>\n",
       "    </tr>\n",
       "  </tbody>\n",
       "</table>\n",
       "</div>"
      ],
      "text/plain": [
       "  Borough  year  population\n",
       "0   Bronx  1970     1478524\n",
       "1   Bronx  1980     1170349\n",
       "2   Bronx  1990     1197420\n",
       "3   Bronx  2000     1327454\n",
       "4   Bronx  2010     1380697"
      ]
     },
     "execution_count": 164,
     "metadata": {},
     "output_type": "execute_result"
    }
   ],
   "source": [
    "city_pop = populations.groupby([\"Borough\", \"year\"],as_index= False)['population'].sum() \n",
    "\n",
    "city_pop.head()\n"
   ]
  },
  {
   "cell_type": "code",
   "execution_count": 166,
   "metadata": {},
   "outputs": [
    {
     "data": {
      "application/vnd.plotly.v1+json": {
       "config": {
        "plotlyServerURL": "https://plot.ly"
       },
       "data": [
        {
         "hovertemplate": "Borough=Bronx<br>Year=%{x}<br>Population=%{y}<extra></extra>",
         "legendgroup": "Bronx",
         "line": {
          "color": "#636efa",
          "dash": "solid"
         },
         "marker": {
          "symbol": "circle"
         },
         "mode": "lines",
         "name": "Bronx",
         "orientation": "v",
         "showlegend": true,
         "type": "scatter",
         "x": [
          1970,
          1980,
          1990,
          2000,
          2010
         ],
         "xaxis": "x",
         "y": [
          1478524,
          1170349,
          1197420,
          1327454,
          1380697
         ],
         "yaxis": "y"
        },
        {
         "hovertemplate": "Borough=Brooklyn<br>Year=%{x}<br>Population=%{y}<extra></extra>",
         "legendgroup": "Brooklyn",
         "line": {
          "color": "#EF553B",
          "dash": "solid"
         },
         "marker": {
          "symbol": "circle"
         },
         "mode": "lines",
         "name": "Brooklyn",
         "orientation": "v",
         "showlegend": true,
         "type": "scatter",
         "x": [
          1970,
          1980,
          1990,
          2000,
          2010
         ],
         "xaxis": "x",
         "y": [
          2601668,
          2230849,
          2300650,
          2465299,
          2504609
         ],
         "yaxis": "y"
        },
        {
         "hovertemplate": "Borough=Manhattan<br>Year=%{x}<br>Population=%{y}<extra></extra>",
         "legendgroup": "Manhattan",
         "line": {
          "color": "#00cc96",
          "dash": "solid"
         },
         "marker": {
          "symbol": "circle"
         },
         "mode": "lines",
         "name": "Manhattan",
         "orientation": "v",
         "showlegend": true,
         "type": "scatter",
         "x": [
          1970,
          1980,
          1990,
          2000,
          2010
         ],
         "xaxis": "x",
         "y": [
          1532399,
          1421260,
          1479844,
          1529357,
          1577385
         ],
         "yaxis": "y"
        },
        {
         "hovertemplate": "Borough=Queens<br>Year=%{x}<br>Population=%{y}<extra></extra>",
         "legendgroup": "Queens",
         "line": {
          "color": "#ab63fa",
          "dash": "solid"
         },
         "marker": {
          "symbol": "circle"
         },
         "mode": "lines",
         "name": "Queens",
         "orientation": "v",
         "showlegend": true,
         "type": "scatter",
         "x": [
          1970,
          1980,
          1990,
          2000,
          2010
         ],
         "xaxis": "x",
         "y": [
          1985995,
          1896401,
          1965471,
          2240510,
          2241021
         ],
         "yaxis": "y"
        },
        {
         "hovertemplate": "Borough=Staten Island<br>Year=%{x}<br>Population=%{y}<extra></extra>",
         "legendgroup": "Staten Island",
         "line": {
          "color": "#FFA15A",
          "dash": "solid"
         },
         "marker": {
          "symbol": "circle"
         },
         "mode": "lines",
         "name": "Staten Island",
         "orientation": "v",
         "showlegend": true,
         "type": "scatter",
         "x": [
          1970,
          1980,
          1990,
          2000,
          2010
         ],
         "xaxis": "x",
         "y": [
          294675,
          351866,
          378706,
          442588,
          467968
         ],
         "yaxis": "y"
        }
       ],
       "layout": {
        "autosize": true,
        "legend": {
         "title": {
          "text": "Borough"
         },
         "tracegroupgap": 0
        },
        "template": {
         "data": {
          "bar": [
           {
            "error_x": {
             "color": "#2a3f5f"
            },
            "error_y": {
             "color": "#2a3f5f"
            },
            "marker": {
             "line": {
              "color": "#E5ECF6",
              "width": 0.5
             },
             "pattern": {
              "fillmode": "overlay",
              "size": 10,
              "solidity": 0.2
             }
            },
            "type": "bar"
           }
          ],
          "barpolar": [
           {
            "marker": {
             "line": {
              "color": "#E5ECF6",
              "width": 0.5
             },
             "pattern": {
              "fillmode": "overlay",
              "size": 10,
              "solidity": 0.2
             }
            },
            "type": "barpolar"
           }
          ],
          "carpet": [
           {
            "aaxis": {
             "endlinecolor": "#2a3f5f",
             "gridcolor": "white",
             "linecolor": "white",
             "minorgridcolor": "white",
             "startlinecolor": "#2a3f5f"
            },
            "baxis": {
             "endlinecolor": "#2a3f5f",
             "gridcolor": "white",
             "linecolor": "white",
             "minorgridcolor": "white",
             "startlinecolor": "#2a3f5f"
            },
            "type": "carpet"
           }
          ],
          "choropleth": [
           {
            "colorbar": {
             "outlinewidth": 0,
             "ticks": ""
            },
            "type": "choropleth"
           }
          ],
          "contour": [
           {
            "colorbar": {
             "outlinewidth": 0,
             "ticks": ""
            },
            "colorscale": [
             [
              0,
              "#0d0887"
             ],
             [
              0.1111111111111111,
              "#46039f"
             ],
             [
              0.2222222222222222,
              "#7201a8"
             ],
             [
              0.3333333333333333,
              "#9c179e"
             ],
             [
              0.4444444444444444,
              "#bd3786"
             ],
             [
              0.5555555555555556,
              "#d8576b"
             ],
             [
              0.6666666666666666,
              "#ed7953"
             ],
             [
              0.7777777777777778,
              "#fb9f3a"
             ],
             [
              0.8888888888888888,
              "#fdca26"
             ],
             [
              1,
              "#f0f921"
             ]
            ],
            "type": "contour"
           }
          ],
          "contourcarpet": [
           {
            "colorbar": {
             "outlinewidth": 0,
             "ticks": ""
            },
            "type": "contourcarpet"
           }
          ],
          "heatmap": [
           {
            "colorbar": {
             "outlinewidth": 0,
             "ticks": ""
            },
            "colorscale": [
             [
              0,
              "#0d0887"
             ],
             [
              0.1111111111111111,
              "#46039f"
             ],
             [
              0.2222222222222222,
              "#7201a8"
             ],
             [
              0.3333333333333333,
              "#9c179e"
             ],
             [
              0.4444444444444444,
              "#bd3786"
             ],
             [
              0.5555555555555556,
              "#d8576b"
             ],
             [
              0.6666666666666666,
              "#ed7953"
             ],
             [
              0.7777777777777778,
              "#fb9f3a"
             ],
             [
              0.8888888888888888,
              "#fdca26"
             ],
             [
              1,
              "#f0f921"
             ]
            ],
            "type": "heatmap"
           }
          ],
          "heatmapgl": [
           {
            "colorbar": {
             "outlinewidth": 0,
             "ticks": ""
            },
            "colorscale": [
             [
              0,
              "#0d0887"
             ],
             [
              0.1111111111111111,
              "#46039f"
             ],
             [
              0.2222222222222222,
              "#7201a8"
             ],
             [
              0.3333333333333333,
              "#9c179e"
             ],
             [
              0.4444444444444444,
              "#bd3786"
             ],
             [
              0.5555555555555556,
              "#d8576b"
             ],
             [
              0.6666666666666666,
              "#ed7953"
             ],
             [
              0.7777777777777778,
              "#fb9f3a"
             ],
             [
              0.8888888888888888,
              "#fdca26"
             ],
             [
              1,
              "#f0f921"
             ]
            ],
            "type": "heatmapgl"
           }
          ],
          "histogram": [
           {
            "marker": {
             "pattern": {
              "fillmode": "overlay",
              "size": 10,
              "solidity": 0.2
             }
            },
            "type": "histogram"
           }
          ],
          "histogram2d": [
           {
            "colorbar": {
             "outlinewidth": 0,
             "ticks": ""
            },
            "colorscale": [
             [
              0,
              "#0d0887"
             ],
             [
              0.1111111111111111,
              "#46039f"
             ],
             [
              0.2222222222222222,
              "#7201a8"
             ],
             [
              0.3333333333333333,
              "#9c179e"
             ],
             [
              0.4444444444444444,
              "#bd3786"
             ],
             [
              0.5555555555555556,
              "#d8576b"
             ],
             [
              0.6666666666666666,
              "#ed7953"
             ],
             [
              0.7777777777777778,
              "#fb9f3a"
             ],
             [
              0.8888888888888888,
              "#fdca26"
             ],
             [
              1,
              "#f0f921"
             ]
            ],
            "type": "histogram2d"
           }
          ],
          "histogram2dcontour": [
           {
            "colorbar": {
             "outlinewidth": 0,
             "ticks": ""
            },
            "colorscale": [
             [
              0,
              "#0d0887"
             ],
             [
              0.1111111111111111,
              "#46039f"
             ],
             [
              0.2222222222222222,
              "#7201a8"
             ],
             [
              0.3333333333333333,
              "#9c179e"
             ],
             [
              0.4444444444444444,
              "#bd3786"
             ],
             [
              0.5555555555555556,
              "#d8576b"
             ],
             [
              0.6666666666666666,
              "#ed7953"
             ],
             [
              0.7777777777777778,
              "#fb9f3a"
             ],
             [
              0.8888888888888888,
              "#fdca26"
             ],
             [
              1,
              "#f0f921"
             ]
            ],
            "type": "histogram2dcontour"
           }
          ],
          "mesh3d": [
           {
            "colorbar": {
             "outlinewidth": 0,
             "ticks": ""
            },
            "type": "mesh3d"
           }
          ],
          "parcoords": [
           {
            "line": {
             "colorbar": {
              "outlinewidth": 0,
              "ticks": ""
             }
            },
            "type": "parcoords"
           }
          ],
          "pie": [
           {
            "automargin": true,
            "type": "pie"
           }
          ],
          "scatter": [
           {
            "fillpattern": {
             "fillmode": "overlay",
             "size": 10,
             "solidity": 0.2
            },
            "type": "scatter"
           }
          ],
          "scatter3d": [
           {
            "line": {
             "colorbar": {
              "outlinewidth": 0,
              "ticks": ""
             }
            },
            "marker": {
             "colorbar": {
              "outlinewidth": 0,
              "ticks": ""
             }
            },
            "type": "scatter3d"
           }
          ],
          "scattercarpet": [
           {
            "marker": {
             "colorbar": {
              "outlinewidth": 0,
              "ticks": ""
             }
            },
            "type": "scattercarpet"
           }
          ],
          "scattergeo": [
           {
            "marker": {
             "colorbar": {
              "outlinewidth": 0,
              "ticks": ""
             }
            },
            "type": "scattergeo"
           }
          ],
          "scattergl": [
           {
            "marker": {
             "colorbar": {
              "outlinewidth": 0,
              "ticks": ""
             }
            },
            "type": "scattergl"
           }
          ],
          "scattermapbox": [
           {
            "marker": {
             "colorbar": {
              "outlinewidth": 0,
              "ticks": ""
             }
            },
            "type": "scattermapbox"
           }
          ],
          "scatterpolar": [
           {
            "marker": {
             "colorbar": {
              "outlinewidth": 0,
              "ticks": ""
             }
            },
            "type": "scatterpolar"
           }
          ],
          "scatterpolargl": [
           {
            "marker": {
             "colorbar": {
              "outlinewidth": 0,
              "ticks": ""
             }
            },
            "type": "scatterpolargl"
           }
          ],
          "scatterternary": [
           {
            "marker": {
             "colorbar": {
              "outlinewidth": 0,
              "ticks": ""
             }
            },
            "type": "scatterternary"
           }
          ],
          "surface": [
           {
            "colorbar": {
             "outlinewidth": 0,
             "ticks": ""
            },
            "colorscale": [
             [
              0,
              "#0d0887"
             ],
             [
              0.1111111111111111,
              "#46039f"
             ],
             [
              0.2222222222222222,
              "#7201a8"
             ],
             [
              0.3333333333333333,
              "#9c179e"
             ],
             [
              0.4444444444444444,
              "#bd3786"
             ],
             [
              0.5555555555555556,
              "#d8576b"
             ],
             [
              0.6666666666666666,
              "#ed7953"
             ],
             [
              0.7777777777777778,
              "#fb9f3a"
             ],
             [
              0.8888888888888888,
              "#fdca26"
             ],
             [
              1,
              "#f0f921"
             ]
            ],
            "type": "surface"
           }
          ],
          "table": [
           {
            "cells": {
             "fill": {
              "color": "#EBF0F8"
             },
             "line": {
              "color": "white"
             }
            },
            "header": {
             "fill": {
              "color": "#C8D4E3"
             },
             "line": {
              "color": "white"
             }
            },
            "type": "table"
           }
          ]
         },
         "layout": {
          "annotationdefaults": {
           "arrowcolor": "#2a3f5f",
           "arrowhead": 0,
           "arrowwidth": 1
          },
          "autotypenumbers": "strict",
          "coloraxis": {
           "colorbar": {
            "outlinewidth": 0,
            "ticks": ""
           }
          },
          "colorscale": {
           "diverging": [
            [
             0,
             "#8e0152"
            ],
            [
             0.1,
             "#c51b7d"
            ],
            [
             0.2,
             "#de77ae"
            ],
            [
             0.3,
             "#f1b6da"
            ],
            [
             0.4,
             "#fde0ef"
            ],
            [
             0.5,
             "#f7f7f7"
            ],
            [
             0.6,
             "#e6f5d0"
            ],
            [
             0.7,
             "#b8e186"
            ],
            [
             0.8,
             "#7fbc41"
            ],
            [
             0.9,
             "#4d9221"
            ],
            [
             1,
             "#276419"
            ]
           ],
           "sequential": [
            [
             0,
             "#0d0887"
            ],
            [
             0.1111111111111111,
             "#46039f"
            ],
            [
             0.2222222222222222,
             "#7201a8"
            ],
            [
             0.3333333333333333,
             "#9c179e"
            ],
            [
             0.4444444444444444,
             "#bd3786"
            ],
            [
             0.5555555555555556,
             "#d8576b"
            ],
            [
             0.6666666666666666,
             "#ed7953"
            ],
            [
             0.7777777777777778,
             "#fb9f3a"
            ],
            [
             0.8888888888888888,
             "#fdca26"
            ],
            [
             1,
             "#f0f921"
            ]
           ],
           "sequentialminus": [
            [
             0,
             "#0d0887"
            ],
            [
             0.1111111111111111,
             "#46039f"
            ],
            [
             0.2222222222222222,
             "#7201a8"
            ],
            [
             0.3333333333333333,
             "#9c179e"
            ],
            [
             0.4444444444444444,
             "#bd3786"
            ],
            [
             0.5555555555555556,
             "#d8576b"
            ],
            [
             0.6666666666666666,
             "#ed7953"
            ],
            [
             0.7777777777777778,
             "#fb9f3a"
            ],
            [
             0.8888888888888888,
             "#fdca26"
            ],
            [
             1,
             "#f0f921"
            ]
           ]
          },
          "colorway": [
           "#636efa",
           "#EF553B",
           "#00cc96",
           "#ab63fa",
           "#FFA15A",
           "#19d3f3",
           "#FF6692",
           "#B6E880",
           "#FF97FF",
           "#FECB52"
          ],
          "font": {
           "color": "#2a3f5f"
          },
          "geo": {
           "bgcolor": "white",
           "lakecolor": "white",
           "landcolor": "#E5ECF6",
           "showlakes": true,
           "showland": true,
           "subunitcolor": "white"
          },
          "hoverlabel": {
           "align": "left"
          },
          "hovermode": "closest",
          "mapbox": {
           "style": "light"
          },
          "paper_bgcolor": "white",
          "plot_bgcolor": "#E5ECF6",
          "polar": {
           "angularaxis": {
            "gridcolor": "white",
            "linecolor": "white",
            "ticks": ""
           },
           "bgcolor": "#E5ECF6",
           "radialaxis": {
            "gridcolor": "white",
            "linecolor": "white",
            "ticks": ""
           }
          },
          "scene": {
           "xaxis": {
            "backgroundcolor": "#E5ECF6",
            "gridcolor": "white",
            "gridwidth": 2,
            "linecolor": "white",
            "showbackground": true,
            "ticks": "",
            "zerolinecolor": "white"
           },
           "yaxis": {
            "backgroundcolor": "#E5ECF6",
            "gridcolor": "white",
            "gridwidth": 2,
            "linecolor": "white",
            "showbackground": true,
            "ticks": "",
            "zerolinecolor": "white"
           },
           "zaxis": {
            "backgroundcolor": "#E5ECF6",
            "gridcolor": "white",
            "gridwidth": 2,
            "linecolor": "white",
            "showbackground": true,
            "ticks": "",
            "zerolinecolor": "white"
           }
          },
          "shapedefaults": {
           "line": {
            "color": "#2a3f5f"
           }
          },
          "ternary": {
           "aaxis": {
            "gridcolor": "white",
            "linecolor": "white",
            "ticks": ""
           },
           "baxis": {
            "gridcolor": "white",
            "linecolor": "white",
            "ticks": ""
           },
           "bgcolor": "#E5ECF6",
           "caxis": {
            "gridcolor": "white",
            "linecolor": "white",
            "ticks": ""
           }
          },
          "title": {
           "x": 0.05
          },
          "xaxis": {
           "automargin": true,
           "gridcolor": "white",
           "linecolor": "white",
           "ticks": "",
           "title": {
            "standoff": 15
           },
           "zerolinecolor": "white",
           "zerolinewidth": 2
          },
          "yaxis": {
           "automargin": true,
           "gridcolor": "white",
           "linecolor": "white",
           "ticks": "",
           "title": {
            "standoff": 15
           },
           "zerolinecolor": "white",
           "zerolinewidth": 2
          }
         }
        },
        "title": {
         "text": "Population Over Time for Each Borough in NYC"
        },
        "xaxis": {
         "anchor": "y",
         "autorange": true,
         "domain": [
          0,
          1
         ],
         "range": [
          1970,
          2010
         ],
         "title": {
          "text": "Year"
         },
         "type": "linear"
        },
        "yaxis": {
         "anchor": "x",
         "autorange": true,
         "domain": [
          0,
          1
         ],
         "range": [
          166508.72222222222,
          2729834.277777778
         ],
         "title": {
          "text": "Population"
         },
         "type": "linear"
        }
       }
      },
      "image/png": "[encoded data removed]",
      "text/html": [
       "<div>                            <div id=\"80055451-299f-4425-852d-8f6826e2767e\" class=\"plotly-graph-div\" style=\"height:525px; width:100%;\"></div>            <script type=\"text/javascript\">                require([\"plotly\"], function(Plotly) {                    window.PLOTLYENV=window.PLOTLYENV || {};                                    if (document.getElementById(\"80055451-299f-4425-852d-8f6826e2767e\")) {                    Plotly.newPlot(                        \"80055451-299f-4425-852d-8f6826e2767e\",                        [{\"hovertemplate\":\"Borough=Bronx\\u003cbr\\u003eYear=%{x}\\u003cbr\\u003ePopulation=%{y}\\u003cextra\\u003e\\u003c\\u002fextra\\u003e\",\"legendgroup\":\"Bronx\",\"line\":{\"color\":\"#636efa\",\"dash\":\"solid\"},\"marker\":{\"symbol\":\"circle\"},\"mode\":\"lines\",\"name\":\"Bronx\",\"orientation\":\"v\",\"showlegend\":true,\"x\":[1970,1980,1990,2000,2010],\"xaxis\":\"x\",\"y\":[1478524,1170349,1197420,1327454,1380697],\"yaxis\":\"y\",\"type\":\"scatter\"},{\"hovertemplate\":\"Borough=Brooklyn\\u003cbr\\u003eYear=%{x}\\u003cbr\\u003ePopulation=%{y}\\u003cextra\\u003e\\u003c\\u002fextra\\u003e\",\"legendgroup\":\"Brooklyn\",\"line\":{\"color\":\"#EF553B\",\"dash\":\"solid\"},\"marker\":{\"symbol\":\"circle\"},\"mode\":\"lines\",\"name\":\"Brooklyn\",\"orientation\":\"v\",\"showlegend\":true,\"x\":[1970,1980,1990,2000,2010],\"xaxis\":\"x\",\"y\":[2601668,2230849,2300650,2465299,2504609],\"yaxis\":\"y\",\"type\":\"scatter\"},{\"hovertemplate\":\"Borough=Manhattan\\u003cbr\\u003eYear=%{x}\\u003cbr\\u003ePopulation=%{y}\\u003cextra\\u003e\\u003c\\u002fextra\\u003e\",\"legendgroup\":\"Manhattan\",\"line\":{\"color\":\"#00cc96\",\"dash\":\"solid\"},\"marker\":{\"symbol\":\"circle\"},\"mode\":\"lines\",\"name\":\"Manhattan\",\"orientation\":\"v\",\"showlegend\":true,\"x\":[1970,1980,1990,2000,2010],\"xaxis\":\"x\",\"y\":[1532399,1421260,1479844,1529357,1577385],\"yaxis\":\"y\",\"type\":\"scatter\"},{\"hovertemplate\":\"Borough=Queens\\u003cbr\\u003eYear=%{x}\\u003cbr\\u003ePopulation=%{y}\\u003cextra\\u003e\\u003c\\u002fextra\\u003e\",\"legendgroup\":\"Queens\",\"line\":{\"color\":\"#ab63fa\",\"dash\":\"solid\"},\"marker\":{\"symbol\":\"circle\"},\"mode\":\"lines\",\"name\":\"Queens\",\"orientation\":\"v\",\"showlegend\":true,\"x\":[1970,1980,1990,2000,2010],\"xaxis\":\"x\",\"y\":[1985995,1896401,1965471,2240510,2241021],\"yaxis\":\"y\",\"type\":\"scatter\"},{\"hovertemplate\":\"Borough=Staten Island\\u003cbr\\u003eYear=%{x}\\u003cbr\\u003ePopulation=%{y}\\u003cextra\\u003e\\u003c\\u002fextra\\u003e\",\"legendgroup\":\"Staten Island\",\"line\":{\"color\":\"#FFA15A\",\"dash\":\"solid\"},\"marker\":{\"symbol\":\"circle\"},\"mode\":\"lines\",\"name\":\"Staten Island\",\"orientation\":\"v\",\"showlegend\":true,\"x\":[1970,1980,1990,2000,2010],\"xaxis\":\"x\",\"y\":[294675,351866,378706,442588,467968],\"yaxis\":\"y\",\"type\":\"scatter\"}],                        {\"template\":{\"data\":{\"histogram2dcontour\":[{\"type\":\"histogram2dcontour\",\"colorbar\":{\"outlinewidth\":0,\"ticks\":\"\"},\"colorscale\":[[0.0,\"#0d0887\"],[0.1111111111111111,\"#46039f\"],[0.2222222222222222,\"#7201a8\"],[0.3333333333333333,\"#9c179e\"],[0.4444444444444444,\"#bd3786\"],[0.5555555555555556,\"#d8576b\"],[0.6666666666666666,\"#ed7953\"],[0.7777777777777778,\"#fb9f3a\"],[0.8888888888888888,\"#fdca26\"],[1.0,\"#f0f921\"]]}],\"choropleth\":[{\"type\":\"choropleth\",\"colorbar\":{\"outlinewidth\":0,\"ticks\":\"\"}}],\"histogram2d\":[{\"type\":\"histogram2d\",\"colorbar\":{\"outlinewidth\":0,\"ticks\":\"\"},\"colorscale\":[[0.0,\"#0d0887\"],[0.1111111111111111,\"#46039f\"],[0.2222222222222222,\"#7201a8\"],[0.3333333333333333,\"#9c179e\"],[0.4444444444444444,\"#bd3786\"],[0.5555555555555556,\"#d8576b\"],[0.6666666666666666,\"#ed7953\"],[0.7777777777777778,\"#fb9f3a\"],[0.8888888888888888,\"#fdca26\"],[1.0,\"#f0f921\"]]}],\"heatmap\":[{\"type\":\"heatmap\",\"colorbar\":{\"outlinewidth\":0,\"ticks\":\"\"},\"colorscale\":[[0.0,\"#0d0887\"],[0.1111111111111111,\"#46039f\"],[0.2222222222222222,\"#7201a8\"],[0.3333333333333333,\"#9c179e\"],[0.4444444444444444,\"#bd3786\"],[0.5555555555555556,\"#d8576b\"],[0.6666666666666666,\"#ed7953\"],[0.7777777777777778,\"#fb9f3a\"],[0.8888888888888888,\"#fdca26\"],[1.0,\"#f0f921\"]]}],\"heatmapgl\":[{\"type\":\"heatmapgl\",\"colorbar\":{\"outlinewidth\":0,\"ticks\":\"\"},\"colorscale\":[[0.0,\"#0d0887\"],[0.1111111111111111,\"#46039f\"],[0.2222222222222222,\"#7201a8\"],[0.3333333333333333,\"#9c179e\"],[0.4444444444444444,\"#bd3786\"],[0.5555555555555556,\"#d8576b\"],[0.6666666666666666,\"#ed7953\"],[0.7777777777777778,\"#fb9f3a\"],[0.8888888888888888,\"#fdca26\"],[1.0,\"#f0f921\"]]}],\"contourcarpet\":[{\"type\":\"contourcarpet\",\"colorbar\":{\"outlinewidth\":0,\"ticks\":\"\"}}],\"contour\":[{\"type\":\"contour\",\"colorbar\":{\"outlinewidth\":0,\"ticks\":\"\"},\"colorscale\":[[0.0,\"#0d0887\"],[0.1111111111111111,\"#46039f\"],[0.2222222222222222,\"#7201a8\"],[0.3333333333333333,\"#9c179e\"],[0.4444444444444444,\"#bd3786\"],[0.5555555555555556,\"#d8576b\"],[0.6666666666666666,\"#ed7953\"],[0.7777777777777778,\"#fb9f3a\"],[0.8888888888888888,\"#fdca26\"],[1.0,\"#f0f921\"]]}],\"surface\":[{\"type\":\"surface\",\"colorbar\":{\"outlinewidth\":0,\"ticks\":\"\"},\"colorscale\":[[0.0,\"#0d0887\"],[0.1111111111111111,\"#46039f\"],[0.2222222222222222,\"#7201a8\"],[0.3333333333333333,\"#9c179e\"],[0.4444444444444444,\"#bd3786\"],[0.5555555555555556,\"#d8576b\"],[0.6666666666666666,\"#ed7953\"],[0.7777777777777778,\"#fb9f3a\"],[0.8888888888888888,\"#fdca26\"],[1.0,\"#f0f921\"]]}],\"mesh3d\":[{\"type\":\"mesh3d\",\"colorbar\":{\"outlinewidth\":0,\"ticks\":\"\"}}],\"scatter\":[{\"fillpattern\":{\"fillmode\":\"overlay\",\"size\":10,\"solidity\":0.2},\"type\":\"scatter\"}],\"parcoords\":[{\"type\":\"parcoords\",\"line\":{\"colorbar\":{\"outlinewidth\":0,\"ticks\":\"\"}}}],\"scatterpolargl\":[{\"type\":\"scatterpolargl\",\"marker\":{\"colorbar\":{\"outlinewidth\":0,\"ticks\":\"\"}}}],\"bar\":[{\"error_x\":{\"color\":\"#2a3f5f\"},\"error_y\":{\"color\":\"#2a3f5f\"},\"marker\":{\"line\":{\"color\":\"#E5ECF6\",\"width\":0.5},\"pattern\":{\"fillmode\":\"overlay\",\"size\":10,\"solidity\":0.2}},\"type\":\"bar\"}],\"scattergeo\":[{\"type\":\"scattergeo\",\"marker\":{\"colorbar\":{\"outlinewidth\":0,\"ticks\":\"\"}}}],\"scatterpolar\":[{\"type\":\"scatterpolar\",\"marker\":{\"colorbar\":{\"outlinewidth\":0,\"ticks\":\"\"}}}],\"histogram\":[{\"marker\":{\"pattern\":{\"fillmode\":\"overlay\",\"size\":10,\"solidity\":0.2}},\"type\":\"histogram\"}],\"scattergl\":[{\"type\":\"scattergl\",\"marker\":{\"colorbar\":{\"outlinewidth\":0,\"ticks\":\"\"}}}],\"scatter3d\":[{\"type\":\"scatter3d\",\"line\":{\"colorbar\":{\"outlinewidth\":0,\"ticks\":\"\"}},\"marker\":{\"colorbar\":{\"outlinewidth\":0,\"ticks\":\"\"}}}],\"scattermapbox\":[{\"type\":\"scattermapbox\",\"marker\":{\"colorbar\":{\"outlinewidth\":0,\"ticks\":\"\"}}}],\"scatterternary\":[{\"type\":\"scatterternary\",\"marker\":{\"colorbar\":{\"outlinewidth\":0,\"ticks\":\"\"}}}],\"scattercarpet\":[{\"type\":\"scattercarpet\",\"marker\":{\"colorbar\":{\"outlinewidth\":0,\"ticks\":\"\"}}}],\"carpet\":[{\"aaxis\":{\"endlinecolor\":\"#2a3f5f\",\"gridcolor\":\"white\",\"linecolor\":\"white\",\"minorgridcolor\":\"white\",\"startlinecolor\":\"#2a3f5f\"},\"baxis\":{\"endlinecolor\":\"#2a3f5f\",\"gridcolor\":\"white\",\"linecolor\":\"white\",\"minorgridcolor\":\"white\",\"startlinecolor\":\"#2a3f5f\"},\"type\":\"carpet\"}],\"table\":[{\"cells\":{\"fill\":{\"color\":\"#EBF0F8\"},\"line\":{\"color\":\"white\"}},\"header\":{\"fill\":{\"color\":\"#C8D4E3\"},\"line\":{\"color\":\"white\"}},\"type\":\"table\"}],\"barpolar\":[{\"marker\":{\"line\":{\"color\":\"#E5ECF6\",\"width\":0.5},\"pattern\":{\"fillmode\":\"overlay\",\"size\":10,\"solidity\":0.2}},\"type\":\"barpolar\"}],\"pie\":[{\"automargin\":true,\"type\":\"pie\"}]},\"layout\":{\"autotypenumbers\":\"strict\",\"colorway\":[\"#636efa\",\"#EF553B\",\"#00cc96\",\"#ab63fa\",\"#FFA15A\",\"#19d3f3\",\"#FF6692\",\"#B6E880\",\"#FF97FF\",\"#FECB52\"],\"font\":{\"color\":\"#2a3f5f\"},\"hovermode\":\"closest\",\"hoverlabel\":{\"align\":\"left\"},\"paper_bgcolor\":\"white\",\"plot_bgcolor\":\"#E5ECF6\",\"polar\":{\"bgcolor\":\"#E5ECF6\",\"angularaxis\":{\"gridcolor\":\"white\",\"linecolor\":\"white\",\"ticks\":\"\"},\"radialaxis\":{\"gridcolor\":\"white\",\"linecolor\":\"white\",\"ticks\":\"\"}},\"ternary\":{\"bgcolor\":\"#E5ECF6\",\"aaxis\":{\"gridcolor\":\"white\",\"linecolor\":\"white\",\"ticks\":\"\"},\"baxis\":{\"gridcolor\":\"white\",\"linecolor\":\"white\",\"ticks\":\"\"},\"caxis\":{\"gridcolor\":\"white\",\"linecolor\":\"white\",\"ticks\":\"\"}},\"coloraxis\":{\"colorbar\":{\"outlinewidth\":0,\"ticks\":\"\"}},\"colorscale\":{\"sequential\":[[0.0,\"#0d0887\"],[0.1111111111111111,\"#46039f\"],[0.2222222222222222,\"#7201a8\"],[0.3333333333333333,\"#9c179e\"],[0.4444444444444444,\"#bd3786\"],[0.5555555555555556,\"#d8576b\"],[0.6666666666666666,\"#ed7953\"],[0.7777777777777778,\"#fb9f3a\"],[0.8888888888888888,\"#fdca26\"],[1.0,\"#f0f921\"]],\"sequentialminus\":[[0.0,\"#0d0887\"],[0.1111111111111111,\"#46039f\"],[0.2222222222222222,\"#7201a8\"],[0.3333333333333333,\"#9c179e\"],[0.4444444444444444,\"#bd3786\"],[0.5555555555555556,\"#d8576b\"],[0.6666666666666666,\"#ed7953\"],[0.7777777777777778,\"#fb9f3a\"],[0.8888888888888888,\"#fdca26\"],[1.0,\"#f0f921\"]],\"diverging\":[[0,\"#8e0152\"],[0.1,\"#c51b7d\"],[0.2,\"#de77ae\"],[0.3,\"#f1b6da\"],[0.4,\"#fde0ef\"],[0.5,\"#f7f7f7\"],[0.6,\"#e6f5d0\"],[0.7,\"#b8e186\"],[0.8,\"#7fbc41\"],[0.9,\"#4d9221\"],[1,\"#276419\"]]},\"xaxis\":{\"gridcolor\":\"white\",\"linecolor\":\"white\",\"ticks\":\"\",\"title\":{\"standoff\":15},\"zerolinecolor\":\"white\",\"automargin\":true,\"zerolinewidth\":2},\"yaxis\":{\"gridcolor\":\"white\",\"linecolor\":\"white\",\"ticks\":\"\",\"title\":{\"standoff\":15},\"zerolinecolor\":\"white\",\"automargin\":true,\"zerolinewidth\":2},\"scene\":{\"xaxis\":{\"backgroundcolor\":\"#E5ECF6\",\"gridcolor\":\"white\",\"linecolor\":\"white\",\"showbackground\":true,\"ticks\":\"\",\"zerolinecolor\":\"white\",\"gridwidth\":2},\"yaxis\":{\"backgroundcolor\":\"#E5ECF6\",\"gridcolor\":\"white\",\"linecolor\":\"white\",\"showbackground\":true,\"ticks\":\"\",\"zerolinecolor\":\"white\",\"gridwidth\":2},\"zaxis\":{\"backgroundcolor\":\"#E5ECF6\",\"gridcolor\":\"white\",\"linecolor\":\"white\",\"showbackground\":true,\"ticks\":\"\",\"zerolinecolor\":\"white\",\"gridwidth\":2}},\"shapedefaults\":{\"line\":{\"color\":\"#2a3f5f\"}},\"annotationdefaults\":{\"arrowcolor\":\"#2a3f5f\",\"arrowhead\":0,\"arrowwidth\":1},\"geo\":{\"bgcolor\":\"white\",\"landcolor\":\"#E5ECF6\",\"subunitcolor\":\"white\",\"showland\":true,\"showlakes\":true,\"lakecolor\":\"white\"},\"title\":{\"x\":0.05},\"mapbox\":{\"style\":\"light\"}}},\"xaxis\":{\"anchor\":\"y\",\"domain\":[0.0,1.0],\"title\":{\"text\":\"Year\"}},\"yaxis\":{\"anchor\":\"x\",\"domain\":[0.0,1.0],\"title\":{\"text\":\"Population\"}},\"legend\":{\"title\":{\"text\":\"Borough\"},\"tracegroupgap\":0},\"title\":{\"text\":\"Population Over Time for Each Borough in NYC\"}},                        {\"responsive\": true}                    ).then(function(){\n",
       "                            \n",
       "var gd = document.getElementById('80055451-299f-4425-852d-8f6826e2767e');\n",
       "var x = new MutationObserver(function (mutations, observer) {{\n",
       "        var display = window.getComputedStyle(gd).display;\n",
       "        if (!display || display === 'none') {{\n",
       "            console.log([gd, 'removed!']);\n",
       "            Plotly.purge(gd);\n",
       "            observer.disconnect();\n",
       "        }}\n",
       "}});\n",
       "\n",
       "// Listen for the removal of the full notebook cells\n",
       "var notebookContainer = gd.closest('#notebook-container');\n",
       "if (notebookContainer) {{\n",
       "    x.observe(notebookContainer, {childList: true});\n",
       "}}\n",
       "\n",
       "// Listen for the clearing of the current output cell\n",
       "var outputEl = gd.closest('.output');\n",
       "if (outputEl) {{\n",
       "    x.observe(outputEl, {childList: true});\n",
       "}}\n",
       "\n",
       "                        })                };                });            </script>        </div>"
      ]
     },
     "metadata": {},
     "output_type": "display_data"
    }
   ],
   "source": [
    "fig4 = px.line(\n",
    "    city_pop,\n",
    "    x = \"year\",\n",
    "    y = \"population\",\n",
    "    color = \"Borough\",\n",
    "    title = \"Population Over Time for Each Borough in NYC\",\n",
    "    labels = {\"year\":\"Year\", \"population\":\"Population\", }\n",
    ")\n",
    "\n",
    "\n",
    "fig4.show()"
   ]
  },
  {
   "cell_type": "markdown",
   "metadata": {
    "editable": true,
    "slideshow": {
     "slide_type": ""
    },
    "tags": []
   },
   "source": [
    "## Step 4\n",
    "\n",
    "Submit via Gradescope."
   ]
  }
 ],
 "metadata": {
  "kernelspec": {
   "display_name": "Python 3 (ipykernel)",
   "language": "python",
   "name": "python3"
  },
  "language_info": {
   "codemirror_mode": {
    "name": "ipython",
    "version": 3
   },
   "file_extension": ".py",
   "mimetype": "text/x-python",
   "name": "python",
   "nbconvert_exporter": "python",
   "pygments_lexer": "ipython3",
   "version": "3.12.2"
  }
 },
 "nbformat": 4,
 "nbformat_minor": 4
}
